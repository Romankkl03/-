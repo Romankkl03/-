{
 "cells": [
  {
   "cell_type": "markdown",
   "id": "b3f36096",
   "metadata": {
    "id": "b3f36096"
   },
   "source": [
    "## Описание проекта"
   ]
  },
  {
   "cell_type": "markdown",
   "id": "edc4ec23",
   "metadata": {
    "id": "edc4ec23"
   },
   "source": [
    "Вы — специалист по Data Science в каршеринговой компании. Вам поступил заказ: нужно создать систему, которая могла бы оценить риск ДТП по выбранному маршруту движения. Под риском понимается вероятность ДТП с любым повреждением транспортного средства. Как только водитель забронировал автомобиль, сел за руль и выбрал маршрут, система должна оценить уровень риска. Если уровень риска высок, водитель увидит предупреждение и рекомендации по маршруту. Заказчик предлагает вам поработать с базой данных по происшествиям и сформировать свои идеи создания такой системы\n",
    "\n",
    "* Загрузка данных\n",
    "* Анализ данных\n",
    "* Предобработка данных\n",
    "* Построение модели\n",
    "* Подбор гиперпараметров и выбор лучшей модели\n",
    "* Анализ важности признаков\n",
    "* Вывод"
   ]
  },
  {
   "cell_type": "markdown",
   "id": "aba2d989-81f5-481f-a1be-b415c3116961",
   "metadata": {},
   "source": [
    "Описание таблиц:\n",
    "\n",
    "* collisions — общая информация о ДТП.\n",
    "Имеет уникальный case_id. Эта таблица описывает общую информацию о ДТП. Например, где оно произошло и когда.\n",
    "\n",
    "* parties — информация об участниках ДТП.\n",
    "Имеет неуникальный case_id, который сопоставляется с соответствующим ДТП в таблице collisions. Каждая строка здесь описывает одну из сторон, участвующих в ДТП. Если столкнулись две машины, в этой таблице должно быть две строки с совпадением case_id. Если нужен уникальный идентификатор, это case_id and party_number.\n",
    "\n",
    "* vehicles — информация о пострадавших машинах.\n",
    "Имеет неуникальные case_id и неуникальные party_number, которые сопоставляются с таблицей collisions и таблицей parties. Если нужен уникальный идентификатор, это case_id and party_number."
   ]
  },
  {
   "cell_type": "markdown",
   "id": "f2dd92d8",
   "metadata": {
    "id": "f2dd92d8"
   },
   "source": [
    "## Импорт необходимых библиотек"
   ]
  },
  {
   "cell_type": "code",
   "execution_count": null,
   "id": "e37f45e6-d87a-47ee-840f-1815921ee35b",
   "metadata": {
    "id": "e37f45e6-d87a-47ee-840f-1815921ee35b"
   },
   "outputs": [],
   "source": [
    "!pip install -q psycopg2\n",
    "!pip install -q optuna"
   ]
  },
  {
   "cell_type": "code",
   "execution_count": null,
   "id": "8bf9005e",
   "metadata": {
    "id": "8bf9005e"
   },
   "outputs": [],
   "source": [
    "from sqlalchemy import create_engine\n",
    "import os\n",
    "import optuna\n",
    "import numpy as np\n",
    "import pandas as pd\n",
    "import datetime\n",
    "from matplotlib import pyplot as plt\n",
    "from sklearn.model_selection import train_test_split, StratifiedKFold\n",
    "from sklearn.preprocessing import StandardScaler, OneHotEncoder, MinMaxScaler, OrdinalEncoder\n",
    "from sklearn.model_selection import GridSearchCV\n",
    "from sklearn.metrics import mean_squared_error, make_scorer, confusion_matrix, precision_recall_curve, auc\n",
    "import torch\n",
    "import torch.nn as nn\n",
    "from math import ceil\n",
    "import warnings\n",
    "import statistics\n",
    "from sklearn.linear_model import LogisticRegression\n",
    "from sklearn.ensemble import RandomForestClassifier\n",
    "from sklearn.metrics import f1_score\n",
    "from operator import itemgetter\n",
    "import psycopg2\n",
    "from sklearn.dummy import DummyClassifier\n",
    "from xgboost import XGBClassifier\n",
    "warnings.filterwarnings('ignore')"
   ]
  },
  {
   "cell_type": "markdown",
   "id": "7be2f345",
   "metadata": {
    "ExecuteTime": {
     "end_time": "2022-05-05T04:58:05.692448Z",
     "start_time": "2022-05-05T04:58:05.688565Z"
    },
    "id": "7be2f345"
   },
   "source": [
    "## Подключение к БД и загрузка таблицы sql"
   ]
  },
  {
   "cell_type": "code",
   "execution_count": null,
   "id": "169b6904",
   "metadata": {
    "id": "169b6904"
   },
   "outputs": [],
   "source": [
    "#подключение к талице базы данных\n",
    "db_config = {\n",
    "'user': 'praktikum_student', # имя пользователя,\n",
    "'pwd': 'Sdf4$2;d-d30pp', # пароль,\n",
    "'host': 'rc1b-wcoijxj3yxfsf3fs.mdb.yandexcloud.net',\n",
    "'port': 6432, # порт подключения,\n",
    "'db': 'data-science-vehicle-db' # название базы данных,\n",
    "}\n",
    "\n",
    "connection_string = 'postgresql://{}:{}@{}:{}/{}'.format(\n",
    "    db_config['user'],\n",
    "    db_config['pwd'],\n",
    "    db_config['host'],\n",
    "    db_config['port'],\n",
    "    db_config['db'],\n",
    ")\n",
    "\n",
    "con = create_engine(connection_string)"
   ]
  },
  {
   "cell_type": "markdown",
   "id": "b6e80898",
   "metadata": {
    "id": "b6e80898"
   },
   "source": [
    "Создал подключение к БД."
   ]
  },
  {
   "cell_type": "markdown",
   "id": "9c8b1bb4",
   "metadata": {
    "id": "9c8b1bb4"
   },
   "source": [
    "## Первичный анализ таблиц"
   ]
  },
  {
   "cell_type": "code",
   "execution_count": null,
   "id": "5692891b",
   "metadata": {
    "colab": {
     "base_uri": "https://localhost:8080/",
     "height": 206
    },
    "id": "5692891b",
    "outputId": "837530a1-2413-4784-e1eb-16098c1fe9ed"
   },
   "outputs": [
    {
     "data": {
      "application/vnd.google.colaboratory.intrinsic+json": {
       "summary": "{\n  \"name\": \"display(case_id_df\",\n  \"rows\": 5,\n  \"fields\": [\n    {\n      \"column\": \"case_id\",\n      \"properties\": {\n        \"dtype\": \"string\",\n        \"num_unique_values\": 5,\n        \"samples\": [\n          \"0726202\",\n          \"3899442\",\n          \"3858022\"\n        ],\n        \"semantic_type\": \"\",\n        \"description\": \"\"\n      }\n    },\n    {\n      \"column\": \"db_year\",\n      \"properties\": {\n        \"dtype\": \"object\",\n        \"num_unique_values\": 1,\n        \"samples\": [\n          \"2021\"\n        ],\n        \"semantic_type\": \"\",\n        \"description\": \"\"\n      }\n    }\n  ]\n}",
       "type": "dataframe"
      },
      "text/html": [
       "\n",
       "  <div id=\"df-fab8080b-5e19-4933-a5bb-153a81e33e2d\" class=\"colab-df-container\">\n",
       "    <div>\n",
       "<style scoped>\n",
       "    .dataframe tbody tr th:only-of-type {\n",
       "        vertical-align: middle;\n",
       "    }\n",
       "\n",
       "    .dataframe tbody tr th {\n",
       "        vertical-align: top;\n",
       "    }\n",
       "\n",
       "    .dataframe thead th {\n",
       "        text-align: right;\n",
       "    }\n",
       "</style>\n",
       "<table border=\"1\" class=\"dataframe\">\n",
       "  <thead>\n",
       "    <tr style=\"text-align: right;\">\n",
       "      <th></th>\n",
       "      <th>case_id</th>\n",
       "      <th>db_year</th>\n",
       "    </tr>\n",
       "  </thead>\n",
       "  <tbody>\n",
       "    <tr>\n",
       "      <th>0</th>\n",
       "      <td>0081715</td>\n",
       "      <td>2021</td>\n",
       "    </tr>\n",
       "    <tr>\n",
       "      <th>1</th>\n",
       "      <td>0726202</td>\n",
       "      <td>2021</td>\n",
       "    </tr>\n",
       "    <tr>\n",
       "      <th>2</th>\n",
       "      <td>3858022</td>\n",
       "      <td>2021</td>\n",
       "    </tr>\n",
       "    <tr>\n",
       "      <th>3</th>\n",
       "      <td>3899441</td>\n",
       "      <td>2021</td>\n",
       "    </tr>\n",
       "    <tr>\n",
       "      <th>4</th>\n",
       "      <td>3899442</td>\n",
       "      <td>2021</td>\n",
       "    </tr>\n",
       "  </tbody>\n",
       "</table>\n",
       "</div>\n",
       "    <div class=\"colab-df-buttons\">\n",
       "\n",
       "  <div class=\"colab-df-container\">\n",
       "    <button class=\"colab-df-convert\" onclick=\"convertToInteractive('df-fab8080b-5e19-4933-a5bb-153a81e33e2d')\"\n",
       "            title=\"Convert this dataframe to an interactive table.\"\n",
       "            style=\"display:none;\">\n",
       "\n",
       "  <svg xmlns=\"http://www.w3.org/2000/svg\" height=\"24px\" viewBox=\"0 -960 960 960\">\n",
       "    <path d=\"M120-120v-720h720v720H120Zm60-500h600v-160H180v160Zm220 220h160v-160H400v160Zm0 220h160v-160H400v160ZM180-400h160v-160H180v160Zm440 0h160v-160H620v160ZM180-180h160v-160H180v160Zm440 0h160v-160H620v160Z\"/>\n",
       "  </svg>\n",
       "    </button>\n",
       "\n",
       "  <style>\n",
       "    .colab-df-container {\n",
       "      display:flex;\n",
       "      gap: 12px;\n",
       "    }\n",
       "\n",
       "    .colab-df-convert {\n",
       "      background-color: #E8F0FE;\n",
       "      border: none;\n",
       "      border-radius: 50%;\n",
       "      cursor: pointer;\n",
       "      display: none;\n",
       "      fill: #1967D2;\n",
       "      height: 32px;\n",
       "      padding: 0 0 0 0;\n",
       "      width: 32px;\n",
       "    }\n",
       "\n",
       "    .colab-df-convert:hover {\n",
       "      background-color: #E2EBFA;\n",
       "      box-shadow: 0px 1px 2px rgba(60, 64, 67, 0.3), 0px 1px 3px 1px rgba(60, 64, 67, 0.15);\n",
       "      fill: #174EA6;\n",
       "    }\n",
       "\n",
       "    .colab-df-buttons div {\n",
       "      margin-bottom: 4px;\n",
       "    }\n",
       "\n",
       "    [theme=dark] .colab-df-convert {\n",
       "      background-color: #3B4455;\n",
       "      fill: #D2E3FC;\n",
       "    }\n",
       "\n",
       "    [theme=dark] .colab-df-convert:hover {\n",
       "      background-color: #434B5C;\n",
       "      box-shadow: 0px 1px 3px 1px rgba(0, 0, 0, 0.15);\n",
       "      filter: drop-shadow(0px 1px 2px rgba(0, 0, 0, 0.3));\n",
       "      fill: #FFFFFF;\n",
       "    }\n",
       "  </style>\n",
       "\n",
       "    <script>\n",
       "      const buttonEl =\n",
       "        document.querySelector('#df-fab8080b-5e19-4933-a5bb-153a81e33e2d button.colab-df-convert');\n",
       "      buttonEl.style.display =\n",
       "        google.colab.kernel.accessAllowed ? 'block' : 'none';\n",
       "\n",
       "      async function convertToInteractive(key) {\n",
       "        const element = document.querySelector('#df-fab8080b-5e19-4933-a5bb-153a81e33e2d');\n",
       "        const dataTable =\n",
       "          await google.colab.kernel.invokeFunction('convertToInteractive',\n",
       "                                                    [key], {});\n",
       "        if (!dataTable) return;\n",
       "\n",
       "        const docLinkHtml = 'Like what you see? Visit the ' +\n",
       "          '<a target=\"_blank\" href=https://colab.research.google.com/notebooks/data_table.ipynb>data table notebook</a>'\n",
       "          + ' to learn more about interactive tables.';\n",
       "        element.innerHTML = '';\n",
       "        dataTable['output_type'] = 'display_data';\n",
       "        await google.colab.output.renderOutput(dataTable, element);\n",
       "        const docLink = document.createElement('div');\n",
       "        docLink.innerHTML = docLinkHtml;\n",
       "        element.appendChild(docLink);\n",
       "      }\n",
       "    </script>\n",
       "  </div>\n",
       "\n",
       "\n",
       "<div id=\"df-5d396930-0709-48d4-84d6-684c5f4c0881\">\n",
       "  <button class=\"colab-df-quickchart\" onclick=\"quickchart('df-5d396930-0709-48d4-84d6-684c5f4c0881')\"\n",
       "            title=\"Suggest charts\"\n",
       "            style=\"display:none;\">\n",
       "\n",
       "<svg xmlns=\"http://www.w3.org/2000/svg\" height=\"24px\"viewBox=\"0 0 24 24\"\n",
       "     width=\"24px\">\n",
       "    <g>\n",
       "        <path d=\"M19 3H5c-1.1 0-2 .9-2 2v14c0 1.1.9 2 2 2h14c1.1 0 2-.9 2-2V5c0-1.1-.9-2-2-2zM9 17H7v-7h2v7zm4 0h-2V7h2v10zm4 0h-2v-4h2v4z\"/>\n",
       "    </g>\n",
       "</svg>\n",
       "  </button>\n",
       "\n",
       "<style>\n",
       "  .colab-df-quickchart {\n",
       "      --bg-color: #E8F0FE;\n",
       "      --fill-color: #1967D2;\n",
       "      --hover-bg-color: #E2EBFA;\n",
       "      --hover-fill-color: #174EA6;\n",
       "      --disabled-fill-color: #AAA;\n",
       "      --disabled-bg-color: #DDD;\n",
       "  }\n",
       "\n",
       "  [theme=dark] .colab-df-quickchart {\n",
       "      --bg-color: #3B4455;\n",
       "      --fill-color: #D2E3FC;\n",
       "      --hover-bg-color: #434B5C;\n",
       "      --hover-fill-color: #FFFFFF;\n",
       "      --disabled-bg-color: #3B4455;\n",
       "      --disabled-fill-color: #666;\n",
       "  }\n",
       "\n",
       "  .colab-df-quickchart {\n",
       "    background-color: var(--bg-color);\n",
       "    border: none;\n",
       "    border-radius: 50%;\n",
       "    cursor: pointer;\n",
       "    display: none;\n",
       "    fill: var(--fill-color);\n",
       "    height: 32px;\n",
       "    padding: 0;\n",
       "    width: 32px;\n",
       "  }\n",
       "\n",
       "  .colab-df-quickchart:hover {\n",
       "    background-color: var(--hover-bg-color);\n",
       "    box-shadow: 0 1px 2px rgba(60, 64, 67, 0.3), 0 1px 3px 1px rgba(60, 64, 67, 0.15);\n",
       "    fill: var(--button-hover-fill-color);\n",
       "  }\n",
       "\n",
       "  .colab-df-quickchart-complete:disabled,\n",
       "  .colab-df-quickchart-complete:disabled:hover {\n",
       "    background-color: var(--disabled-bg-color);\n",
       "    fill: var(--disabled-fill-color);\n",
       "    box-shadow: none;\n",
       "  }\n",
       "\n",
       "  .colab-df-spinner {\n",
       "    border: 2px solid var(--fill-color);\n",
       "    border-color: transparent;\n",
       "    border-bottom-color: var(--fill-color);\n",
       "    animation:\n",
       "      spin 1s steps(1) infinite;\n",
       "  }\n",
       "\n",
       "  @keyframes spin {\n",
       "    0% {\n",
       "      border-color: transparent;\n",
       "      border-bottom-color: var(--fill-color);\n",
       "      border-left-color: var(--fill-color);\n",
       "    }\n",
       "    20% {\n",
       "      border-color: transparent;\n",
       "      border-left-color: var(--fill-color);\n",
       "      border-top-color: var(--fill-color);\n",
       "    }\n",
       "    30% {\n",
       "      border-color: transparent;\n",
       "      border-left-color: var(--fill-color);\n",
       "      border-top-color: var(--fill-color);\n",
       "      border-right-color: var(--fill-color);\n",
       "    }\n",
       "    40% {\n",
       "      border-color: transparent;\n",
       "      border-right-color: var(--fill-color);\n",
       "      border-top-color: var(--fill-color);\n",
       "    }\n",
       "    60% {\n",
       "      border-color: transparent;\n",
       "      border-right-color: var(--fill-color);\n",
       "    }\n",
       "    80% {\n",
       "      border-color: transparent;\n",
       "      border-right-color: var(--fill-color);\n",
       "      border-bottom-color: var(--fill-color);\n",
       "    }\n",
       "    90% {\n",
       "      border-color: transparent;\n",
       "      border-bottom-color: var(--fill-color);\n",
       "    }\n",
       "  }\n",
       "</style>\n",
       "\n",
       "  <script>\n",
       "    async function quickchart(key) {\n",
       "      const quickchartButtonEl =\n",
       "        document.querySelector('#' + key + ' button');\n",
       "      quickchartButtonEl.disabled = true;  // To prevent multiple clicks.\n",
       "      quickchartButtonEl.classList.add('colab-df-spinner');\n",
       "      try {\n",
       "        const charts = await google.colab.kernel.invokeFunction(\n",
       "            'suggestCharts', [key], {});\n",
       "      } catch (error) {\n",
       "        console.error('Error during call to suggestCharts:', error);\n",
       "      }\n",
       "      quickchartButtonEl.classList.remove('colab-df-spinner');\n",
       "      quickchartButtonEl.classList.add('colab-df-quickchart-complete');\n",
       "    }\n",
       "    (() => {\n",
       "      let quickchartButtonEl =\n",
       "        document.querySelector('#df-5d396930-0709-48d4-84d6-684c5f4c0881 button');\n",
       "      quickchartButtonEl.style.display =\n",
       "        google.colab.kernel.accessAllowed ? 'block' : 'none';\n",
       "    })();\n",
       "  </script>\n",
       "</div>\n",
       "    </div>\n",
       "  </div>\n"
      ],
      "text/plain": [
       "   case_id db_year\n",
       "0  0081715    2021\n",
       "1  0726202    2021\n",
       "2  3858022    2021\n",
       "3  3899441    2021\n",
       "4  3899442    2021"
      ]
     },
     "metadata": {},
     "output_type": "display_data"
    }
   ],
   "source": [
    "query = '''\n",
    "SELECT *\n",
    "FROM case_ids\n",
    "LIMIT 5;\n",
    "'''\n",
    "case_id_df = pd.read_sql_query(query, con=con)\n",
    "display(case_id_df.head())"
   ]
  },
  {
   "cell_type": "markdown",
   "id": "65763ec8",
   "metadata": {
    "id": "65763ec8"
   },
   "source": [
    "Таблица case_id имеет данные и общий ключ."
   ]
  },
  {
   "cell_type": "code",
   "execution_count": null,
   "id": "5489d888",
   "metadata": {
    "colab": {
     "base_uri": "https://localhost:8080/",
     "height": 206
    },
    "id": "5489d888",
    "outputId": "3b9fe636-34d7-49c4-ec0b-c841d4d02319"
   },
   "outputs": [
    {
     "data": {
      "application/vnd.google.colaboratory.intrinsic+json": {
       "summary": "{\n  \"name\": \"display(vehicles_df\",\n  \"rows\": 5,\n  \"fields\": [\n    {\n      \"column\": \"id\",\n      \"properties\": {\n        \"dtype\": \"number\",\n        \"std\": 525795,\n        \"min\": 1,\n        \"max\": 1175722,\n        \"num_unique_values\": 5,\n        \"samples\": [\n          1,\n          1175722,\n          1175712\n        ],\n        \"semantic_type\": \"\",\n        \"description\": \"\"\n      }\n    },\n    {\n      \"column\": \"case_id\",\n      \"properties\": {\n        \"dtype\": \"string\",\n        \"num_unique_values\": 5,\n        \"samples\": [\n          \"3858022\",\n          \"5305034\",\n          \"5305030\"\n        ],\n        \"semantic_type\": \"\",\n        \"description\": \"\"\n      }\n    },\n    {\n      \"column\": \"party_number\",\n      \"properties\": {\n        \"dtype\": \"number\",\n        \"std\": 0,\n        \"min\": 1,\n        \"max\": 3,\n        \"num_unique_values\": 3,\n        \"samples\": [\n          2,\n          1,\n          3\n        ],\n        \"semantic_type\": \"\",\n        \"description\": \"\"\n      }\n    },\n    {\n      \"column\": \"vehicle_type\",\n      \"properties\": {\n        \"dtype\": \"category\",\n        \"num_unique_values\": 1,\n        \"samples\": [\n          \"sedan\"\n        ],\n        \"semantic_type\": \"\",\n        \"description\": \"\"\n      }\n    },\n    {\n      \"column\": \"vehicle_transmission\",\n      \"properties\": {\n        \"dtype\": \"category\",\n        \"num_unique_values\": 2,\n        \"samples\": [\n          \"auto\"\n        ],\n        \"semantic_type\": \"\",\n        \"description\": \"\"\n      }\n    },\n    {\n      \"column\": \"vehicle_age\",\n      \"properties\": {\n        \"dtype\": \"number\",\n        \"std\": 1,\n        \"min\": 3,\n        \"max\": 5,\n        \"num_unique_values\": 2,\n        \"samples\": [\n          5\n        ],\n        \"semantic_type\": \"\",\n        \"description\": \"\"\n      }\n    }\n  ]\n}",
       "type": "dataframe"
      },
      "text/html": [
       "\n",
       "  <div id=\"df-feab75b5-cf20-409f-a493-ada08d6018e0\" class=\"colab-df-container\">\n",
       "    <div>\n",
       "<style scoped>\n",
       "    .dataframe tbody tr th:only-of-type {\n",
       "        vertical-align: middle;\n",
       "    }\n",
       "\n",
       "    .dataframe tbody tr th {\n",
       "        vertical-align: top;\n",
       "    }\n",
       "\n",
       "    .dataframe thead th {\n",
       "        text-align: right;\n",
       "    }\n",
       "</style>\n",
       "<table border=\"1\" class=\"dataframe\">\n",
       "  <thead>\n",
       "    <tr style=\"text-align: right;\">\n",
       "      <th></th>\n",
       "      <th>id</th>\n",
       "      <th>case_id</th>\n",
       "      <th>party_number</th>\n",
       "      <th>vehicle_type</th>\n",
       "      <th>vehicle_transmission</th>\n",
       "      <th>vehicle_age</th>\n",
       "    </tr>\n",
       "  </thead>\n",
       "  <tbody>\n",
       "    <tr>\n",
       "      <th>0</th>\n",
       "      <td>1175713</td>\n",
       "      <td>5305032</td>\n",
       "      <td>2</td>\n",
       "      <td>sedan</td>\n",
       "      <td>manual</td>\n",
       "      <td>3</td>\n",
       "    </tr>\n",
       "    <tr>\n",
       "      <th>1</th>\n",
       "      <td>1</td>\n",
       "      <td>3858022</td>\n",
       "      <td>1</td>\n",
       "      <td>sedan</td>\n",
       "      <td>auto</td>\n",
       "      <td>3</td>\n",
       "    </tr>\n",
       "    <tr>\n",
       "      <th>2</th>\n",
       "      <td>1175712</td>\n",
       "      <td>5305030</td>\n",
       "      <td>1</td>\n",
       "      <td>sedan</td>\n",
       "      <td>auto</td>\n",
       "      <td>3</td>\n",
       "    </tr>\n",
       "    <tr>\n",
       "      <th>3</th>\n",
       "      <td>1175717</td>\n",
       "      <td>5305033</td>\n",
       "      <td>3</td>\n",
       "      <td>sedan</td>\n",
       "      <td>auto</td>\n",
       "      <td>5</td>\n",
       "    </tr>\n",
       "    <tr>\n",
       "      <th>4</th>\n",
       "      <td>1175722</td>\n",
       "      <td>5305034</td>\n",
       "      <td>2</td>\n",
       "      <td>sedan</td>\n",
       "      <td>auto</td>\n",
       "      <td>5</td>\n",
       "    </tr>\n",
       "  </tbody>\n",
       "</table>\n",
       "</div>\n",
       "    <div class=\"colab-df-buttons\">\n",
       "\n",
       "  <div class=\"colab-df-container\">\n",
       "    <button class=\"colab-df-convert\" onclick=\"convertToInteractive('df-feab75b5-cf20-409f-a493-ada08d6018e0')\"\n",
       "            title=\"Convert this dataframe to an interactive table.\"\n",
       "            style=\"display:none;\">\n",
       "\n",
       "  <svg xmlns=\"http://www.w3.org/2000/svg\" height=\"24px\" viewBox=\"0 -960 960 960\">\n",
       "    <path d=\"M120-120v-720h720v720H120Zm60-500h600v-160H180v160Zm220 220h160v-160H400v160Zm0 220h160v-160H400v160ZM180-400h160v-160H180v160Zm440 0h160v-160H620v160ZM180-180h160v-160H180v160Zm440 0h160v-160H620v160Z\"/>\n",
       "  </svg>\n",
       "    </button>\n",
       "\n",
       "  <style>\n",
       "    .colab-df-container {\n",
       "      display:flex;\n",
       "      gap: 12px;\n",
       "    }\n",
       "\n",
       "    .colab-df-convert {\n",
       "      background-color: #E8F0FE;\n",
       "      border: none;\n",
       "      border-radius: 50%;\n",
       "      cursor: pointer;\n",
       "      display: none;\n",
       "      fill: #1967D2;\n",
       "      height: 32px;\n",
       "      padding: 0 0 0 0;\n",
       "      width: 32px;\n",
       "    }\n",
       "\n",
       "    .colab-df-convert:hover {\n",
       "      background-color: #E2EBFA;\n",
       "      box-shadow: 0px 1px 2px rgba(60, 64, 67, 0.3), 0px 1px 3px 1px rgba(60, 64, 67, 0.15);\n",
       "      fill: #174EA6;\n",
       "    }\n",
       "\n",
       "    .colab-df-buttons div {\n",
       "      margin-bottom: 4px;\n",
       "    }\n",
       "\n",
       "    [theme=dark] .colab-df-convert {\n",
       "      background-color: #3B4455;\n",
       "      fill: #D2E3FC;\n",
       "    }\n",
       "\n",
       "    [theme=dark] .colab-df-convert:hover {\n",
       "      background-color: #434B5C;\n",
       "      box-shadow: 0px 1px 3px 1px rgba(0, 0, 0, 0.15);\n",
       "      filter: drop-shadow(0px 1px 2px rgba(0, 0, 0, 0.3));\n",
       "      fill: #FFFFFF;\n",
       "    }\n",
       "  </style>\n",
       "\n",
       "    <script>\n",
       "      const buttonEl =\n",
       "        document.querySelector('#df-feab75b5-cf20-409f-a493-ada08d6018e0 button.colab-df-convert');\n",
       "      buttonEl.style.display =\n",
       "        google.colab.kernel.accessAllowed ? 'block' : 'none';\n",
       "\n",
       "      async function convertToInteractive(key) {\n",
       "        const element = document.querySelector('#df-feab75b5-cf20-409f-a493-ada08d6018e0');\n",
       "        const dataTable =\n",
       "          await google.colab.kernel.invokeFunction('convertToInteractive',\n",
       "                                                    [key], {});\n",
       "        if (!dataTable) return;\n",
       "\n",
       "        const docLinkHtml = 'Like what you see? Visit the ' +\n",
       "          '<a target=\"_blank\" href=https://colab.research.google.com/notebooks/data_table.ipynb>data table notebook</a>'\n",
       "          + ' to learn more about interactive tables.';\n",
       "        element.innerHTML = '';\n",
       "        dataTable['output_type'] = 'display_data';\n",
       "        await google.colab.output.renderOutput(dataTable, element);\n",
       "        const docLink = document.createElement('div');\n",
       "        docLink.innerHTML = docLinkHtml;\n",
       "        element.appendChild(docLink);\n",
       "      }\n",
       "    </script>\n",
       "  </div>\n",
       "\n",
       "\n",
       "<div id=\"df-1bee7d9a-54b8-4eb7-8c42-7e293679cb74\">\n",
       "  <button class=\"colab-df-quickchart\" onclick=\"quickchart('df-1bee7d9a-54b8-4eb7-8c42-7e293679cb74')\"\n",
       "            title=\"Suggest charts\"\n",
       "            style=\"display:none;\">\n",
       "\n",
       "<svg xmlns=\"http://www.w3.org/2000/svg\" height=\"24px\"viewBox=\"0 0 24 24\"\n",
       "     width=\"24px\">\n",
       "    <g>\n",
       "        <path d=\"M19 3H5c-1.1 0-2 .9-2 2v14c0 1.1.9 2 2 2h14c1.1 0 2-.9 2-2V5c0-1.1-.9-2-2-2zM9 17H7v-7h2v7zm4 0h-2V7h2v10zm4 0h-2v-4h2v4z\"/>\n",
       "    </g>\n",
       "</svg>\n",
       "  </button>\n",
       "\n",
       "<style>\n",
       "  .colab-df-quickchart {\n",
       "      --bg-color: #E8F0FE;\n",
       "      --fill-color: #1967D2;\n",
       "      --hover-bg-color: #E2EBFA;\n",
       "      --hover-fill-color: #174EA6;\n",
       "      --disabled-fill-color: #AAA;\n",
       "      --disabled-bg-color: #DDD;\n",
       "  }\n",
       "\n",
       "  [theme=dark] .colab-df-quickchart {\n",
       "      --bg-color: #3B4455;\n",
       "      --fill-color: #D2E3FC;\n",
       "      --hover-bg-color: #434B5C;\n",
       "      --hover-fill-color: #FFFFFF;\n",
       "      --disabled-bg-color: #3B4455;\n",
       "      --disabled-fill-color: #666;\n",
       "  }\n",
       "\n",
       "  .colab-df-quickchart {\n",
       "    background-color: var(--bg-color);\n",
       "    border: none;\n",
       "    border-radius: 50%;\n",
       "    cursor: pointer;\n",
       "    display: none;\n",
       "    fill: var(--fill-color);\n",
       "    height: 32px;\n",
       "    padding: 0;\n",
       "    width: 32px;\n",
       "  }\n",
       "\n",
       "  .colab-df-quickchart:hover {\n",
       "    background-color: var(--hover-bg-color);\n",
       "    box-shadow: 0 1px 2px rgba(60, 64, 67, 0.3), 0 1px 3px 1px rgba(60, 64, 67, 0.15);\n",
       "    fill: var(--button-hover-fill-color);\n",
       "  }\n",
       "\n",
       "  .colab-df-quickchart-complete:disabled,\n",
       "  .colab-df-quickchart-complete:disabled:hover {\n",
       "    background-color: var(--disabled-bg-color);\n",
       "    fill: var(--disabled-fill-color);\n",
       "    box-shadow: none;\n",
       "  }\n",
       "\n",
       "  .colab-df-spinner {\n",
       "    border: 2px solid var(--fill-color);\n",
       "    border-color: transparent;\n",
       "    border-bottom-color: var(--fill-color);\n",
       "    animation:\n",
       "      spin 1s steps(1) infinite;\n",
       "  }\n",
       "\n",
       "  @keyframes spin {\n",
       "    0% {\n",
       "      border-color: transparent;\n",
       "      border-bottom-color: var(--fill-color);\n",
       "      border-left-color: var(--fill-color);\n",
       "    }\n",
       "    20% {\n",
       "      border-color: transparent;\n",
       "      border-left-color: var(--fill-color);\n",
       "      border-top-color: var(--fill-color);\n",
       "    }\n",
       "    30% {\n",
       "      border-color: transparent;\n",
       "      border-left-color: var(--fill-color);\n",
       "      border-top-color: var(--fill-color);\n",
       "      border-right-color: var(--fill-color);\n",
       "    }\n",
       "    40% {\n",
       "      border-color: transparent;\n",
       "      border-right-color: var(--fill-color);\n",
       "      border-top-color: var(--fill-color);\n",
       "    }\n",
       "    60% {\n",
       "      border-color: transparent;\n",
       "      border-right-color: var(--fill-color);\n",
       "    }\n",
       "    80% {\n",
       "      border-color: transparent;\n",
       "      border-right-color: var(--fill-color);\n",
       "      border-bottom-color: var(--fill-color);\n",
       "    }\n",
       "    90% {\n",
       "      border-color: transparent;\n",
       "      border-bottom-color: var(--fill-color);\n",
       "    }\n",
       "  }\n",
       "</style>\n",
       "\n",
       "  <script>\n",
       "    async function quickchart(key) {\n",
       "      const quickchartButtonEl =\n",
       "        document.querySelector('#' + key + ' button');\n",
       "      quickchartButtonEl.disabled = true;  // To prevent multiple clicks.\n",
       "      quickchartButtonEl.classList.add('colab-df-spinner');\n",
       "      try {\n",
       "        const charts = await google.colab.kernel.invokeFunction(\n",
       "            'suggestCharts', [key], {});\n",
       "      } catch (error) {\n",
       "        console.error('Error during call to suggestCharts:', error);\n",
       "      }\n",
       "      quickchartButtonEl.classList.remove('colab-df-spinner');\n",
       "      quickchartButtonEl.classList.add('colab-df-quickchart-complete');\n",
       "    }\n",
       "    (() => {\n",
       "      let quickchartButtonEl =\n",
       "        document.querySelector('#df-1bee7d9a-54b8-4eb7-8c42-7e293679cb74 button');\n",
       "      quickchartButtonEl.style.display =\n",
       "        google.colab.kernel.accessAllowed ? 'block' : 'none';\n",
       "    })();\n",
       "  </script>\n",
       "</div>\n",
       "    </div>\n",
       "  </div>\n"
      ],
      "text/plain": [
       "        id  case_id  party_number vehicle_type vehicle_transmission  \\\n",
       "0  1175713  5305032             2        sedan               manual   \n",
       "1        1  3858022             1        sedan                 auto   \n",
       "2  1175712  5305030             1        sedan                 auto   \n",
       "3  1175717  5305033             3        sedan                 auto   \n",
       "4  1175722  5305034             2        sedan                 auto   \n",
       "\n",
       "   vehicle_age  \n",
       "0            3  \n",
       "1            3  \n",
       "2            3  \n",
       "3            5  \n",
       "4            5  "
      ]
     },
     "metadata": {},
     "output_type": "display_data"
    }
   ],
   "source": [
    "query = '''\n",
    "SELECT *\n",
    "FROM vehicles\n",
    "LIMIT 5;\n",
    "'''\n",
    "vehicles_df = pd.read_sql_query(query, con=con)\n",
    "display(vehicles_df.head())"
   ]
  },
  {
   "cell_type": "markdown",
   "id": "cb068b2a",
   "metadata": {
    "id": "cb068b2a"
   },
   "source": [
    "Таблица vehicles c описанием пострадавших машин имеет данные и общий ключ."
   ]
  },
  {
   "cell_type": "code",
   "execution_count": null,
   "id": "00ebd74b",
   "metadata": {
    "colab": {
     "base_uri": "https://localhost:8080/",
     "height": 296
    },
    "id": "00ebd74b",
    "outputId": "7a70614c-647c-46ab-cd27-fc5a058dfb01",
    "scrolled": true
   },
   "outputs": [
    {
     "data": {
      "application/vnd.google.colaboratory.intrinsic+json": {
       "summary": "{\n  \"name\": \"display(parties_df\",\n  \"rows\": 5,\n  \"fields\": [\n    {\n      \"column\": \"id\",\n      \"properties\": {\n        \"dtype\": \"number\",\n        \"std\": 7,\n        \"min\": 22,\n        \"max\": 41,\n        \"num_unique_values\": 5,\n        \"samples\": [\n          23,\n          41,\n          29\n        ],\n        \"semantic_type\": \"\",\n        \"description\": \"\"\n      }\n    },\n    {\n      \"column\": \"case_id\",\n      \"properties\": {\n        \"dtype\": \"string\",\n        \"num_unique_values\": 4,\n        \"samples\": [\n          \"3899462\",\n          \"3899478\",\n          \"3899454\"\n        ],\n        \"semantic_type\": \"\",\n        \"description\": \"\"\n      }\n    },\n    {\n      \"column\": \"party_number\",\n      \"properties\": {\n        \"dtype\": \"number\",\n        \"std\": 0,\n        \"min\": 1,\n        \"max\": 2,\n        \"num_unique_values\": 2,\n        \"samples\": [\n          2,\n          1\n        ],\n        \"semantic_type\": \"\",\n        \"description\": \"\"\n      }\n    },\n    {\n      \"column\": \"party_type\",\n      \"properties\": {\n        \"dtype\": \"string\",\n        \"num_unique_values\": 3,\n        \"samples\": [\n          \"road signs\",\n          \"car\"\n        ],\n        \"semantic_type\": \"\",\n        \"description\": \"\"\n      }\n    },\n    {\n      \"column\": \"at_fault\",\n      \"properties\": {\n        \"dtype\": \"number\",\n        \"std\": 0,\n        \"min\": 0,\n        \"max\": 1,\n        \"num_unique_values\": 2,\n        \"samples\": [\n          0,\n          1\n        ],\n        \"semantic_type\": \"\",\n        \"description\": \"\"\n      }\n    },\n    {\n      \"column\": \"insurance_premium\",\n      \"properties\": {\n        \"dtype\": \"number\",\n        \"std\": 9.429563439877091,\n        \"min\": 7.0,\n        \"max\": 29.0,\n        \"num_unique_values\": 4,\n        \"samples\": [\n          7.0,\n          24.0\n        ],\n        \"semantic_type\": \"\",\n        \"description\": \"\"\n      }\n    },\n    {\n      \"column\": \"party_sobriety\",\n      \"properties\": {\n        \"dtype\": \"category\",\n        \"num_unique_values\": 2,\n        \"samples\": [\n          \"not applicable\",\n          \"had not been drinking\"\n        ],\n        \"semantic_type\": \"\",\n        \"description\": \"\"\n      }\n    },\n    {\n      \"column\": \"party_drug_physical\",\n      \"properties\": {\n        \"dtype\": \"category\",\n        \"num_unique_values\": 1,\n        \"samples\": [\n          \"not applicable\"\n        ],\n        \"semantic_type\": \"\",\n        \"description\": \"\"\n      }\n    },\n    {\n      \"column\": \"cellphone_in_use\",\n      \"properties\": {\n        \"dtype\": \"number\",\n        \"std\": 0,\n        \"min\": 0,\n        \"max\": 0,\n        \"num_unique_values\": 1,\n        \"samples\": [\n          0\n        ],\n        \"semantic_type\": \"\",\n        \"description\": \"\"\n      }\n    }\n  ]\n}",
       "type": "dataframe"
      },
      "text/html": [
       "\n",
       "  <div id=\"df-89ec829b-d8a8-4753-aa34-5fbcfd2f9c59\" class=\"colab-df-container\">\n",
       "    <div>\n",
       "<style scoped>\n",
       "    .dataframe tbody tr th:only-of-type {\n",
       "        vertical-align: middle;\n",
       "    }\n",
       "\n",
       "    .dataframe tbody tr th {\n",
       "        vertical-align: top;\n",
       "    }\n",
       "\n",
       "    .dataframe thead th {\n",
       "        text-align: right;\n",
       "    }\n",
       "</style>\n",
       "<table border=\"1\" class=\"dataframe\">\n",
       "  <thead>\n",
       "    <tr style=\"text-align: right;\">\n",
       "      <th></th>\n",
       "      <th>id</th>\n",
       "      <th>case_id</th>\n",
       "      <th>party_number</th>\n",
       "      <th>party_type</th>\n",
       "      <th>at_fault</th>\n",
       "      <th>insurance_premium</th>\n",
       "      <th>party_sobriety</th>\n",
       "      <th>party_drug_physical</th>\n",
       "      <th>cellphone_in_use</th>\n",
       "    </tr>\n",
       "  </thead>\n",
       "  <tbody>\n",
       "    <tr>\n",
       "      <th>0</th>\n",
       "      <td>22</td>\n",
       "      <td>3899454</td>\n",
       "      <td>1</td>\n",
       "      <td>road signs</td>\n",
       "      <td>1</td>\n",
       "      <td>29.0</td>\n",
       "      <td>had not been drinking</td>\n",
       "      <td>None</td>\n",
       "      <td>0</td>\n",
       "    </tr>\n",
       "    <tr>\n",
       "      <th>1</th>\n",
       "      <td>23</td>\n",
       "      <td>3899454</td>\n",
       "      <td>2</td>\n",
       "      <td>road signs</td>\n",
       "      <td>0</td>\n",
       "      <td>7.0</td>\n",
       "      <td>had not been drinking</td>\n",
       "      <td>None</td>\n",
       "      <td>0</td>\n",
       "    </tr>\n",
       "    <tr>\n",
       "      <th>2</th>\n",
       "      <td>29</td>\n",
       "      <td>3899462</td>\n",
       "      <td>2</td>\n",
       "      <td>car</td>\n",
       "      <td>0</td>\n",
       "      <td>21.0</td>\n",
       "      <td>had not been drinking</td>\n",
       "      <td>None</td>\n",
       "      <td>0</td>\n",
       "    </tr>\n",
       "    <tr>\n",
       "      <th>3</th>\n",
       "      <td>31</td>\n",
       "      <td>3899465</td>\n",
       "      <td>2</td>\n",
       "      <td>road signs</td>\n",
       "      <td>0</td>\n",
       "      <td>24.0</td>\n",
       "      <td>had not been drinking</td>\n",
       "      <td>None</td>\n",
       "      <td>0</td>\n",
       "    </tr>\n",
       "    <tr>\n",
       "      <th>4</th>\n",
       "      <td>41</td>\n",
       "      <td>3899478</td>\n",
       "      <td>2</td>\n",
       "      <td>road bumper</td>\n",
       "      <td>0</td>\n",
       "      <td>NaN</td>\n",
       "      <td>not applicable</td>\n",
       "      <td>not applicable</td>\n",
       "      <td>0</td>\n",
       "    </tr>\n",
       "  </tbody>\n",
       "</table>\n",
       "</div>\n",
       "    <div class=\"colab-df-buttons\">\n",
       "\n",
       "  <div class=\"colab-df-container\">\n",
       "    <button class=\"colab-df-convert\" onclick=\"convertToInteractive('df-89ec829b-d8a8-4753-aa34-5fbcfd2f9c59')\"\n",
       "            title=\"Convert this dataframe to an interactive table.\"\n",
       "            style=\"display:none;\">\n",
       "\n",
       "  <svg xmlns=\"http://www.w3.org/2000/svg\" height=\"24px\" viewBox=\"0 -960 960 960\">\n",
       "    <path d=\"M120-120v-720h720v720H120Zm60-500h600v-160H180v160Zm220 220h160v-160H400v160Zm0 220h160v-160H400v160ZM180-400h160v-160H180v160Zm440 0h160v-160H620v160ZM180-180h160v-160H180v160Zm440 0h160v-160H620v160Z\"/>\n",
       "  </svg>\n",
       "    </button>\n",
       "\n",
       "  <style>\n",
       "    .colab-df-container {\n",
       "      display:flex;\n",
       "      gap: 12px;\n",
       "    }\n",
       "\n",
       "    .colab-df-convert {\n",
       "      background-color: #E8F0FE;\n",
       "      border: none;\n",
       "      border-radius: 50%;\n",
       "      cursor: pointer;\n",
       "      display: none;\n",
       "      fill: #1967D2;\n",
       "      height: 32px;\n",
       "      padding: 0 0 0 0;\n",
       "      width: 32px;\n",
       "    }\n",
       "\n",
       "    .colab-df-convert:hover {\n",
       "      background-color: #E2EBFA;\n",
       "      box-shadow: 0px 1px 2px rgba(60, 64, 67, 0.3), 0px 1px 3px 1px rgba(60, 64, 67, 0.15);\n",
       "      fill: #174EA6;\n",
       "    }\n",
       "\n",
       "    .colab-df-buttons div {\n",
       "      margin-bottom: 4px;\n",
       "    }\n",
       "\n",
       "    [theme=dark] .colab-df-convert {\n",
       "      background-color: #3B4455;\n",
       "      fill: #D2E3FC;\n",
       "    }\n",
       "\n",
       "    [theme=dark] .colab-df-convert:hover {\n",
       "      background-color: #434B5C;\n",
       "      box-shadow: 0px 1px 3px 1px rgba(0, 0, 0, 0.15);\n",
       "      filter: drop-shadow(0px 1px 2px rgba(0, 0, 0, 0.3));\n",
       "      fill: #FFFFFF;\n",
       "    }\n",
       "  </style>\n",
       "\n",
       "    <script>\n",
       "      const buttonEl =\n",
       "        document.querySelector('#df-89ec829b-d8a8-4753-aa34-5fbcfd2f9c59 button.colab-df-convert');\n",
       "      buttonEl.style.display =\n",
       "        google.colab.kernel.accessAllowed ? 'block' : 'none';\n",
       "\n",
       "      async function convertToInteractive(key) {\n",
       "        const element = document.querySelector('#df-89ec829b-d8a8-4753-aa34-5fbcfd2f9c59');\n",
       "        const dataTable =\n",
       "          await google.colab.kernel.invokeFunction('convertToInteractive',\n",
       "                                                    [key], {});\n",
       "        if (!dataTable) return;\n",
       "\n",
       "        const docLinkHtml = 'Like what you see? Visit the ' +\n",
       "          '<a target=\"_blank\" href=https://colab.research.google.com/notebooks/data_table.ipynb>data table notebook</a>'\n",
       "          + ' to learn more about interactive tables.';\n",
       "        element.innerHTML = '';\n",
       "        dataTable['output_type'] = 'display_data';\n",
       "        await google.colab.output.renderOutput(dataTable, element);\n",
       "        const docLink = document.createElement('div');\n",
       "        docLink.innerHTML = docLinkHtml;\n",
       "        element.appendChild(docLink);\n",
       "      }\n",
       "    </script>\n",
       "  </div>\n",
       "\n",
       "\n",
       "<div id=\"df-f69c6578-ffc4-4fa7-b152-c91b84c7f89a\">\n",
       "  <button class=\"colab-df-quickchart\" onclick=\"quickchart('df-f69c6578-ffc4-4fa7-b152-c91b84c7f89a')\"\n",
       "            title=\"Suggest charts\"\n",
       "            style=\"display:none;\">\n",
       "\n",
       "<svg xmlns=\"http://www.w3.org/2000/svg\" height=\"24px\"viewBox=\"0 0 24 24\"\n",
       "     width=\"24px\">\n",
       "    <g>\n",
       "        <path d=\"M19 3H5c-1.1 0-2 .9-2 2v14c0 1.1.9 2 2 2h14c1.1 0 2-.9 2-2V5c0-1.1-.9-2-2-2zM9 17H7v-7h2v7zm4 0h-2V7h2v10zm4 0h-2v-4h2v4z\"/>\n",
       "    </g>\n",
       "</svg>\n",
       "  </button>\n",
       "\n",
       "<style>\n",
       "  .colab-df-quickchart {\n",
       "      --bg-color: #E8F0FE;\n",
       "      --fill-color: #1967D2;\n",
       "      --hover-bg-color: #E2EBFA;\n",
       "      --hover-fill-color: #174EA6;\n",
       "      --disabled-fill-color: #AAA;\n",
       "      --disabled-bg-color: #DDD;\n",
       "  }\n",
       "\n",
       "  [theme=dark] .colab-df-quickchart {\n",
       "      --bg-color: #3B4455;\n",
       "      --fill-color: #D2E3FC;\n",
       "      --hover-bg-color: #434B5C;\n",
       "      --hover-fill-color: #FFFFFF;\n",
       "      --disabled-bg-color: #3B4455;\n",
       "      --disabled-fill-color: #666;\n",
       "  }\n",
       "\n",
       "  .colab-df-quickchart {\n",
       "    background-color: var(--bg-color);\n",
       "    border: none;\n",
       "    border-radius: 50%;\n",
       "    cursor: pointer;\n",
       "    display: none;\n",
       "    fill: var(--fill-color);\n",
       "    height: 32px;\n",
       "    padding: 0;\n",
       "    width: 32px;\n",
       "  }\n",
       "\n",
       "  .colab-df-quickchart:hover {\n",
       "    background-color: var(--hover-bg-color);\n",
       "    box-shadow: 0 1px 2px rgba(60, 64, 67, 0.3), 0 1px 3px 1px rgba(60, 64, 67, 0.15);\n",
       "    fill: var(--button-hover-fill-color);\n",
       "  }\n",
       "\n",
       "  .colab-df-quickchart-complete:disabled,\n",
       "  .colab-df-quickchart-complete:disabled:hover {\n",
       "    background-color: var(--disabled-bg-color);\n",
       "    fill: var(--disabled-fill-color);\n",
       "    box-shadow: none;\n",
       "  }\n",
       "\n",
       "  .colab-df-spinner {\n",
       "    border: 2px solid var(--fill-color);\n",
       "    border-color: transparent;\n",
       "    border-bottom-color: var(--fill-color);\n",
       "    animation:\n",
       "      spin 1s steps(1) infinite;\n",
       "  }\n",
       "\n",
       "  @keyframes spin {\n",
       "    0% {\n",
       "      border-color: transparent;\n",
       "      border-bottom-color: var(--fill-color);\n",
       "      border-left-color: var(--fill-color);\n",
       "    }\n",
       "    20% {\n",
       "      border-color: transparent;\n",
       "      border-left-color: var(--fill-color);\n",
       "      border-top-color: var(--fill-color);\n",
       "    }\n",
       "    30% {\n",
       "      border-color: transparent;\n",
       "      border-left-color: var(--fill-color);\n",
       "      border-top-color: var(--fill-color);\n",
       "      border-right-color: var(--fill-color);\n",
       "    }\n",
       "    40% {\n",
       "      border-color: transparent;\n",
       "      border-right-color: var(--fill-color);\n",
       "      border-top-color: var(--fill-color);\n",
       "    }\n",
       "    60% {\n",
       "      border-color: transparent;\n",
       "      border-right-color: var(--fill-color);\n",
       "    }\n",
       "    80% {\n",
       "      border-color: transparent;\n",
       "      border-right-color: var(--fill-color);\n",
       "      border-bottom-color: var(--fill-color);\n",
       "    }\n",
       "    90% {\n",
       "      border-color: transparent;\n",
       "      border-bottom-color: var(--fill-color);\n",
       "    }\n",
       "  }\n",
       "</style>\n",
       "\n",
       "  <script>\n",
       "    async function quickchart(key) {\n",
       "      const quickchartButtonEl =\n",
       "        document.querySelector('#' + key + ' button');\n",
       "      quickchartButtonEl.disabled = true;  // To prevent multiple clicks.\n",
       "      quickchartButtonEl.classList.add('colab-df-spinner');\n",
       "      try {\n",
       "        const charts = await google.colab.kernel.invokeFunction(\n",
       "            'suggestCharts', [key], {});\n",
       "      } catch (error) {\n",
       "        console.error('Error during call to suggestCharts:', error);\n",
       "      }\n",
       "      quickchartButtonEl.classList.remove('colab-df-spinner');\n",
       "      quickchartButtonEl.classList.add('colab-df-quickchart-complete');\n",
       "    }\n",
       "    (() => {\n",
       "      let quickchartButtonEl =\n",
       "        document.querySelector('#df-f69c6578-ffc4-4fa7-b152-c91b84c7f89a button');\n",
       "      quickchartButtonEl.style.display =\n",
       "        google.colab.kernel.accessAllowed ? 'block' : 'none';\n",
       "    })();\n",
       "  </script>\n",
       "</div>\n",
       "    </div>\n",
       "  </div>\n"
      ],
      "text/plain": [
       "   id  case_id  party_number   party_type  at_fault  insurance_premium  \\\n",
       "0  22  3899454             1   road signs         1               29.0   \n",
       "1  23  3899454             2   road signs         0                7.0   \n",
       "2  29  3899462             2          car         0               21.0   \n",
       "3  31  3899465             2   road signs         0               24.0   \n",
       "4  41  3899478             2  road bumper         0                NaN   \n",
       "\n",
       "          party_sobriety party_drug_physical  cellphone_in_use  \n",
       "0  had not been drinking                None                 0  \n",
       "1  had not been drinking                None                 0  \n",
       "2  had not been drinking                None                 0  \n",
       "3  had not been drinking                None                 0  \n",
       "4         not applicable      not applicable                 0  "
      ]
     },
     "metadata": {},
     "output_type": "display_data"
    }
   ],
   "source": [
    "query = '''\n",
    "SELECT *\n",
    "FROM parties\n",
    "LIMIT 5;\n",
    "'''\n",
    "parties_df = pd.read_sql_query(query, con=con)\n",
    "display(parties_df.head())"
   ]
  },
  {
   "cell_type": "markdown",
   "id": "2b7f91c2",
   "metadata": {
    "id": "2b7f91c2"
   },
   "source": [
    "Таблица parties с информацией об участниках ДТП имеет данные и общий ключ."
   ]
  },
  {
   "cell_type": "code",
   "execution_count": null,
   "id": "39c685eb",
   "metadata": {
    "colab": {
     "base_uri": "https://localhost:8080/",
     "height": 330
    },
    "id": "39c685eb",
    "outputId": "4ee34260-360d-42cf-ed7d-6eab98e3fb4e"
   },
   "outputs": [
    {
     "data": {
      "application/vnd.google.colaboratory.intrinsic+json": {
       "summary": "{\n  \"name\": \"display(collisions_df\",\n  \"rows\": 5,\n  \"fields\": [\n    {\n      \"column\": \"case_id\",\n      \"properties\": {\n        \"dtype\": \"string\",\n        \"num_unique_values\": 5,\n        \"samples\": [\n          \"4083075\",\n          \"4083087\",\n          \"4083073\"\n        ],\n        \"semantic_type\": \"\",\n        \"description\": \"\"\n      }\n    },\n    {\n      \"column\": \"county_city_location\",\n      \"properties\": {\n        \"dtype\": \"string\",\n        \"num_unique_values\": 3,\n        \"samples\": [\n          \"1942\",\n          \"4313\",\n          \"0109\"\n        ],\n        \"semantic_type\": \"\",\n        \"description\": \"\"\n      }\n    },\n    {\n      \"column\": \"county_location\",\n      \"properties\": {\n        \"dtype\": \"string\",\n        \"num_unique_values\": 3,\n        \"samples\": [\n          \"los angeles\",\n          \"santa clara\",\n          \"alameda\"\n        ],\n        \"semantic_type\": \"\",\n        \"description\": \"\"\n      }\n    },\n    {\n      \"column\": \"distance\",\n      \"properties\": {\n        \"dtype\": \"number\",\n        \"std\": 236.12877842397776,\n        \"min\": 0.0,\n        \"max\": 528.0,\n        \"num_unique_values\": 2,\n        \"samples\": [\n          0.0,\n          528.0\n        ],\n        \"semantic_type\": \"\",\n        \"description\": \"\"\n      }\n    },\n    {\n      \"column\": \"direction\",\n      \"properties\": {\n        \"dtype\": \"category\",\n        \"num_unique_values\": 1,\n        \"samples\": [\n          \"north\"\n        ],\n        \"semantic_type\": \"\",\n        \"description\": \"\"\n      }\n    },\n    {\n      \"column\": \"intersection\",\n      \"properties\": {\n        \"dtype\": \"number\",\n        \"std\": 0,\n        \"min\": 0,\n        \"max\": 1,\n        \"num_unique_values\": 2,\n        \"samples\": [\n          1\n        ],\n        \"semantic_type\": \"\",\n        \"description\": \"\"\n      }\n    },\n    {\n      \"column\": \"weather_1\",\n      \"properties\": {\n        \"dtype\": \"category\",\n        \"num_unique_values\": 2,\n        \"samples\": [\n          \"clear\"\n        ],\n        \"semantic_type\": \"\",\n        \"description\": \"\"\n      }\n    },\n    {\n      \"column\": \"location_type\",\n      \"properties\": {\n        \"dtype\": \"category\",\n        \"num_unique_values\": 1,\n        \"samples\": [\n          \"highway\"\n        ],\n        \"semantic_type\": \"\",\n        \"description\": \"\"\n      }\n    },\n    {\n      \"column\": \"collision_damage\",\n      \"properties\": {\n        \"dtype\": \"category\",\n        \"num_unique_values\": 2,\n        \"samples\": [\n          \"scratch\"\n        ],\n        \"semantic_type\": \"\",\n        \"description\": \"\"\n      }\n    },\n    {\n      \"column\": \"party_count\",\n      \"properties\": {\n        \"dtype\": \"number\",\n        \"std\": 0,\n        \"min\": 1,\n        \"max\": 2,\n        \"num_unique_values\": 2,\n        \"samples\": [\n          1\n        ],\n        \"semantic_type\": \"\",\n        \"description\": \"\"\n      }\n    },\n    {\n      \"column\": \"primary_collision_factor\",\n      \"properties\": {\n        \"dtype\": \"category\",\n        \"num_unique_values\": 1,\n        \"samples\": [\n          \"vehicle code violation\"\n        ],\n        \"semantic_type\": \"\",\n        \"description\": \"\"\n      }\n    },\n    {\n      \"column\": \"pcf_violation_category\",\n      \"properties\": {\n        \"dtype\": \"string\",\n        \"num_unique_values\": 5,\n        \"samples\": [\n          \"improper passing\"\n        ],\n        \"semantic_type\": \"\",\n        \"description\": \"\"\n      }\n    },\n    {\n      \"column\": \"type_of_collision\",\n      \"properties\": {\n        \"dtype\": \"string\",\n        \"num_unique_values\": 4,\n        \"samples\": [\n          \"hit object\"\n        ],\n        \"semantic_type\": \"\",\n        \"description\": \"\"\n      }\n    },\n    {\n      \"column\": \"motor_vehicle_involved_with\",\n      \"properties\": {\n        \"dtype\": \"category\",\n        \"num_unique_values\": 2,\n        \"samples\": [\n          \"fixed object\"\n        ],\n        \"semantic_type\": \"\",\n        \"description\": \"\"\n      }\n    },\n    {\n      \"column\": \"road_surface\",\n      \"properties\": {\n        \"dtype\": \"category\",\n        \"num_unique_values\": 2,\n        \"samples\": [\n          \"dry\"\n        ],\n        \"semantic_type\": \"\",\n        \"description\": \"\"\n      }\n    },\n    {\n      \"column\": \"road_condition_1\",\n      \"properties\": {\n        \"dtype\": \"category\",\n        \"num_unique_values\": 1,\n        \"samples\": [\n          \"normal\"\n        ],\n        \"semantic_type\": \"\",\n        \"description\": \"\"\n      }\n    },\n    {\n      \"column\": \"lighting\",\n      \"properties\": {\n        \"dtype\": \"category\",\n        \"num_unique_values\": 2,\n        \"samples\": [\n          \"dark with street lights\"\n        ],\n        \"semantic_type\": \"\",\n        \"description\": \"\"\n      }\n    },\n    {\n      \"column\": \"control_device\",\n      \"properties\": {\n        \"dtype\": \"category\",\n        \"num_unique_values\": 2,\n        \"samples\": [\n          \"functioning\"\n        ],\n        \"semantic_type\": \"\",\n        \"description\": \"\"\n      }\n    },\n    {\n      \"column\": \"collision_date\",\n      \"properties\": {\n        \"dtype\": \"date\",\n        \"min\": \"2009-01-02\",\n        \"max\": \"2009-01-22\",\n        \"num_unique_values\": 4,\n        \"samples\": [\n          \"2009-01-03\"\n        ],\n        \"semantic_type\": \"\",\n        \"description\": \"\"\n      }\n    },\n    {\n      \"column\": \"collision_time\",\n      \"properties\": {\n        \"dtype\": \"string\",\n        \"num_unique_values\": 5,\n        \"samples\": [\n          \"02:26:00\"\n        ],\n        \"semantic_type\": \"\",\n        \"description\": \"\"\n      }\n    }\n  ]\n}",
       "type": "dataframe"
      },
      "text/html": [
       "\n",
       "  <div id=\"df-3213885b-4aa7-4211-bfd1-df4aeaeae3e0\" class=\"colab-df-container\">\n",
       "    <div>\n",
       "<style scoped>\n",
       "    .dataframe tbody tr th:only-of-type {\n",
       "        vertical-align: middle;\n",
       "    }\n",
       "\n",
       "    .dataframe tbody tr th {\n",
       "        vertical-align: top;\n",
       "    }\n",
       "\n",
       "    .dataframe thead th {\n",
       "        text-align: right;\n",
       "    }\n",
       "</style>\n",
       "<table border=\"1\" class=\"dataframe\">\n",
       "  <thead>\n",
       "    <tr style=\"text-align: right;\">\n",
       "      <th></th>\n",
       "      <th>case_id</th>\n",
       "      <th>county_city_location</th>\n",
       "      <th>county_location</th>\n",
       "      <th>distance</th>\n",
       "      <th>direction</th>\n",
       "      <th>intersection</th>\n",
       "      <th>weather_1</th>\n",
       "      <th>location_type</th>\n",
       "      <th>collision_damage</th>\n",
       "      <th>party_count</th>\n",
       "      <th>primary_collision_factor</th>\n",
       "      <th>pcf_violation_category</th>\n",
       "      <th>type_of_collision</th>\n",
       "      <th>motor_vehicle_involved_with</th>\n",
       "      <th>road_surface</th>\n",
       "      <th>road_condition_1</th>\n",
       "      <th>lighting</th>\n",
       "      <th>control_device</th>\n",
       "      <th>collision_date</th>\n",
       "      <th>collision_time</th>\n",
       "    </tr>\n",
       "  </thead>\n",
       "  <tbody>\n",
       "    <tr>\n",
       "      <th>0</th>\n",
       "      <td>4083072</td>\n",
       "      <td>1942</td>\n",
       "      <td>los angeles</td>\n",
       "      <td>528.0</td>\n",
       "      <td>north</td>\n",
       "      <td>0</td>\n",
       "      <td>cloudy</td>\n",
       "      <td>highway</td>\n",
       "      <td>small damage</td>\n",
       "      <td>2</td>\n",
       "      <td>vehicle code violation</td>\n",
       "      <td>unsafe lane change</td>\n",
       "      <td>sideswipe</td>\n",
       "      <td>other motor vehicle</td>\n",
       "      <td>wet</td>\n",
       "      <td>normal</td>\n",
       "      <td>daylight</td>\n",
       "      <td>none</td>\n",
       "      <td>2009-01-22</td>\n",
       "      <td>07:25:00</td>\n",
       "    </tr>\n",
       "    <tr>\n",
       "      <th>1</th>\n",
       "      <td>4083075</td>\n",
       "      <td>4313</td>\n",
       "      <td>santa clara</td>\n",
       "      <td>0.0</td>\n",
       "      <td>None</td>\n",
       "      <td>1</td>\n",
       "      <td>clear</td>\n",
       "      <td>None</td>\n",
       "      <td>small damage</td>\n",
       "      <td>1</td>\n",
       "      <td>vehicle code violation</td>\n",
       "      <td>improper passing</td>\n",
       "      <td>hit object</td>\n",
       "      <td>fixed object</td>\n",
       "      <td>dry</td>\n",
       "      <td>normal</td>\n",
       "      <td>dark with street lights</td>\n",
       "      <td>functioning</td>\n",
       "      <td>2009-01-03</td>\n",
       "      <td>02:26:00</td>\n",
       "    </tr>\n",
       "    <tr>\n",
       "      <th>2</th>\n",
       "      <td>4083073</td>\n",
       "      <td>0109</td>\n",
       "      <td>alameda</td>\n",
       "      <td>0.0</td>\n",
       "      <td>None</td>\n",
       "      <td>1</td>\n",
       "      <td>clear</td>\n",
       "      <td>None</td>\n",
       "      <td>scratch</td>\n",
       "      <td>2</td>\n",
       "      <td>vehicle code violation</td>\n",
       "      <td>improper turning</td>\n",
       "      <td>broadside</td>\n",
       "      <td>other motor vehicle</td>\n",
       "      <td>dry</td>\n",
       "      <td>normal</td>\n",
       "      <td>dark with street lights</td>\n",
       "      <td>functioning</td>\n",
       "      <td>2009-01-11</td>\n",
       "      <td>03:32:00</td>\n",
       "    </tr>\n",
       "    <tr>\n",
       "      <th>3</th>\n",
       "      <td>4083077</td>\n",
       "      <td>0109</td>\n",
       "      <td>alameda</td>\n",
       "      <td>0.0</td>\n",
       "      <td>None</td>\n",
       "      <td>1</td>\n",
       "      <td>clear</td>\n",
       "      <td>None</td>\n",
       "      <td>scratch</td>\n",
       "      <td>2</td>\n",
       "      <td>vehicle code violation</td>\n",
       "      <td>automobile right of way</td>\n",
       "      <td>broadside</td>\n",
       "      <td>other motor vehicle</td>\n",
       "      <td>dry</td>\n",
       "      <td>normal</td>\n",
       "      <td>daylight</td>\n",
       "      <td>functioning</td>\n",
       "      <td>2009-01-11</td>\n",
       "      <td>10:35:00</td>\n",
       "    </tr>\n",
       "    <tr>\n",
       "      <th>4</th>\n",
       "      <td>4083087</td>\n",
       "      <td>4313</td>\n",
       "      <td>santa clara</td>\n",
       "      <td>0.0</td>\n",
       "      <td>None</td>\n",
       "      <td>1</td>\n",
       "      <td>clear</td>\n",
       "      <td>None</td>\n",
       "      <td>scratch</td>\n",
       "      <td>2</td>\n",
       "      <td>vehicle code violation</td>\n",
       "      <td>speeding</td>\n",
       "      <td>rear end</td>\n",
       "      <td>other motor vehicle</td>\n",
       "      <td>dry</td>\n",
       "      <td>None</td>\n",
       "      <td>dark with street lights</td>\n",
       "      <td>functioning</td>\n",
       "      <td>2009-01-02</td>\n",
       "      <td>22:43:00</td>\n",
       "    </tr>\n",
       "  </tbody>\n",
       "</table>\n",
       "</div>\n",
       "    <div class=\"colab-df-buttons\">\n",
       "\n",
       "  <div class=\"colab-df-container\">\n",
       "    <button class=\"colab-df-convert\" onclick=\"convertToInteractive('df-3213885b-4aa7-4211-bfd1-df4aeaeae3e0')\"\n",
       "            title=\"Convert this dataframe to an interactive table.\"\n",
       "            style=\"display:none;\">\n",
       "\n",
       "  <svg xmlns=\"http://www.w3.org/2000/svg\" height=\"24px\" viewBox=\"0 -960 960 960\">\n",
       "    <path d=\"M120-120v-720h720v720H120Zm60-500h600v-160H180v160Zm220 220h160v-160H400v160Zm0 220h160v-160H400v160ZM180-400h160v-160H180v160Zm440 0h160v-160H620v160ZM180-180h160v-160H180v160Zm440 0h160v-160H620v160Z\"/>\n",
       "  </svg>\n",
       "    </button>\n",
       "\n",
       "  <style>\n",
       "    .colab-df-container {\n",
       "      display:flex;\n",
       "      gap: 12px;\n",
       "    }\n",
       "\n",
       "    .colab-df-convert {\n",
       "      background-color: #E8F0FE;\n",
       "      border: none;\n",
       "      border-radius: 50%;\n",
       "      cursor: pointer;\n",
       "      display: none;\n",
       "      fill: #1967D2;\n",
       "      height: 32px;\n",
       "      padding: 0 0 0 0;\n",
       "      width: 32px;\n",
       "    }\n",
       "\n",
       "    .colab-df-convert:hover {\n",
       "      background-color: #E2EBFA;\n",
       "      box-shadow: 0px 1px 2px rgba(60, 64, 67, 0.3), 0px 1px 3px 1px rgba(60, 64, 67, 0.15);\n",
       "      fill: #174EA6;\n",
       "    }\n",
       "\n",
       "    .colab-df-buttons div {\n",
       "      margin-bottom: 4px;\n",
       "    }\n",
       "\n",
       "    [theme=dark] .colab-df-convert {\n",
       "      background-color: #3B4455;\n",
       "      fill: #D2E3FC;\n",
       "    }\n",
       "\n",
       "    [theme=dark] .colab-df-convert:hover {\n",
       "      background-color: #434B5C;\n",
       "      box-shadow: 0px 1px 3px 1px rgba(0, 0, 0, 0.15);\n",
       "      filter: drop-shadow(0px 1px 2px rgba(0, 0, 0, 0.3));\n",
       "      fill: #FFFFFF;\n",
       "    }\n",
       "  </style>\n",
       "\n",
       "    <script>\n",
       "      const buttonEl =\n",
       "        document.querySelector('#df-3213885b-4aa7-4211-bfd1-df4aeaeae3e0 button.colab-df-convert');\n",
       "      buttonEl.style.display =\n",
       "        google.colab.kernel.accessAllowed ? 'block' : 'none';\n",
       "\n",
       "      async function convertToInteractive(key) {\n",
       "        const element = document.querySelector('#df-3213885b-4aa7-4211-bfd1-df4aeaeae3e0');\n",
       "        const dataTable =\n",
       "          await google.colab.kernel.invokeFunction('convertToInteractive',\n",
       "                                                    [key], {});\n",
       "        if (!dataTable) return;\n",
       "\n",
       "        const docLinkHtml = 'Like what you see? Visit the ' +\n",
       "          '<a target=\"_blank\" href=https://colab.research.google.com/notebooks/data_table.ipynb>data table notebook</a>'\n",
       "          + ' to learn more about interactive tables.';\n",
       "        element.innerHTML = '';\n",
       "        dataTable['output_type'] = 'display_data';\n",
       "        await google.colab.output.renderOutput(dataTable, element);\n",
       "        const docLink = document.createElement('div');\n",
       "        docLink.innerHTML = docLinkHtml;\n",
       "        element.appendChild(docLink);\n",
       "      }\n",
       "    </script>\n",
       "  </div>\n",
       "\n",
       "\n",
       "<div id=\"df-46660741-5820-49bd-913f-76f867c9c2ce\">\n",
       "  <button class=\"colab-df-quickchart\" onclick=\"quickchart('df-46660741-5820-49bd-913f-76f867c9c2ce')\"\n",
       "            title=\"Suggest charts\"\n",
       "            style=\"display:none;\">\n",
       "\n",
       "<svg xmlns=\"http://www.w3.org/2000/svg\" height=\"24px\"viewBox=\"0 0 24 24\"\n",
       "     width=\"24px\">\n",
       "    <g>\n",
       "        <path d=\"M19 3H5c-1.1 0-2 .9-2 2v14c0 1.1.9 2 2 2h14c1.1 0 2-.9 2-2V5c0-1.1-.9-2-2-2zM9 17H7v-7h2v7zm4 0h-2V7h2v10zm4 0h-2v-4h2v4z\"/>\n",
       "    </g>\n",
       "</svg>\n",
       "  </button>\n",
       "\n",
       "<style>\n",
       "  .colab-df-quickchart {\n",
       "      --bg-color: #E8F0FE;\n",
       "      --fill-color: #1967D2;\n",
       "      --hover-bg-color: #E2EBFA;\n",
       "      --hover-fill-color: #174EA6;\n",
       "      --disabled-fill-color: #AAA;\n",
       "      --disabled-bg-color: #DDD;\n",
       "  }\n",
       "\n",
       "  [theme=dark] .colab-df-quickchart {\n",
       "      --bg-color: #3B4455;\n",
       "      --fill-color: #D2E3FC;\n",
       "      --hover-bg-color: #434B5C;\n",
       "      --hover-fill-color: #FFFFFF;\n",
       "      --disabled-bg-color: #3B4455;\n",
       "      --disabled-fill-color: #666;\n",
       "  }\n",
       "\n",
       "  .colab-df-quickchart {\n",
       "    background-color: var(--bg-color);\n",
       "    border: none;\n",
       "    border-radius: 50%;\n",
       "    cursor: pointer;\n",
       "    display: none;\n",
       "    fill: var(--fill-color);\n",
       "    height: 32px;\n",
       "    padding: 0;\n",
       "    width: 32px;\n",
       "  }\n",
       "\n",
       "  .colab-df-quickchart:hover {\n",
       "    background-color: var(--hover-bg-color);\n",
       "    box-shadow: 0 1px 2px rgba(60, 64, 67, 0.3), 0 1px 3px 1px rgba(60, 64, 67, 0.15);\n",
       "    fill: var(--button-hover-fill-color);\n",
       "  }\n",
       "\n",
       "  .colab-df-quickchart-complete:disabled,\n",
       "  .colab-df-quickchart-complete:disabled:hover {\n",
       "    background-color: var(--disabled-bg-color);\n",
       "    fill: var(--disabled-fill-color);\n",
       "    box-shadow: none;\n",
       "  }\n",
       "\n",
       "  .colab-df-spinner {\n",
       "    border: 2px solid var(--fill-color);\n",
       "    border-color: transparent;\n",
       "    border-bottom-color: var(--fill-color);\n",
       "    animation:\n",
       "      spin 1s steps(1) infinite;\n",
       "  }\n",
       "\n",
       "  @keyframes spin {\n",
       "    0% {\n",
       "      border-color: transparent;\n",
       "      border-bottom-color: var(--fill-color);\n",
       "      border-left-color: var(--fill-color);\n",
       "    }\n",
       "    20% {\n",
       "      border-color: transparent;\n",
       "      border-left-color: var(--fill-color);\n",
       "      border-top-color: var(--fill-color);\n",
       "    }\n",
       "    30% {\n",
       "      border-color: transparent;\n",
       "      border-left-color: var(--fill-color);\n",
       "      border-top-color: var(--fill-color);\n",
       "      border-right-color: var(--fill-color);\n",
       "    }\n",
       "    40% {\n",
       "      border-color: transparent;\n",
       "      border-right-color: var(--fill-color);\n",
       "      border-top-color: var(--fill-color);\n",
       "    }\n",
       "    60% {\n",
       "      border-color: transparent;\n",
       "      border-right-color: var(--fill-color);\n",
       "    }\n",
       "    80% {\n",
       "      border-color: transparent;\n",
       "      border-right-color: var(--fill-color);\n",
       "      border-bottom-color: var(--fill-color);\n",
       "    }\n",
       "    90% {\n",
       "      border-color: transparent;\n",
       "      border-bottom-color: var(--fill-color);\n",
       "    }\n",
       "  }\n",
       "</style>\n",
       "\n",
       "  <script>\n",
       "    async function quickchart(key) {\n",
       "      const quickchartButtonEl =\n",
       "        document.querySelector('#' + key + ' button');\n",
       "      quickchartButtonEl.disabled = true;  // To prevent multiple clicks.\n",
       "      quickchartButtonEl.classList.add('colab-df-spinner');\n",
       "      try {\n",
       "        const charts = await google.colab.kernel.invokeFunction(\n",
       "            'suggestCharts', [key], {});\n",
       "      } catch (error) {\n",
       "        console.error('Error during call to suggestCharts:', error);\n",
       "      }\n",
       "      quickchartButtonEl.classList.remove('colab-df-spinner');\n",
       "      quickchartButtonEl.classList.add('colab-df-quickchart-complete');\n",
       "    }\n",
       "    (() => {\n",
       "      let quickchartButtonEl =\n",
       "        document.querySelector('#df-46660741-5820-49bd-913f-76f867c9c2ce button');\n",
       "      quickchartButtonEl.style.display =\n",
       "        google.colab.kernel.accessAllowed ? 'block' : 'none';\n",
       "    })();\n",
       "  </script>\n",
       "</div>\n",
       "    </div>\n",
       "  </div>\n"
      ],
      "text/plain": [
       "   case_id county_city_location county_location  distance direction  \\\n",
       "0  4083072                 1942     los angeles     528.0     north   \n",
       "1  4083075                 4313     santa clara       0.0      None   \n",
       "2  4083073                 0109         alameda       0.0      None   \n",
       "3  4083077                 0109         alameda       0.0      None   \n",
       "4  4083087                 4313     santa clara       0.0      None   \n",
       "\n",
       "   intersection weather_1 location_type collision_damage  party_count  \\\n",
       "0             0    cloudy       highway     small damage            2   \n",
       "1             1     clear          None     small damage            1   \n",
       "2             1     clear          None          scratch            2   \n",
       "3             1     clear          None          scratch            2   \n",
       "4             1     clear          None          scratch            2   \n",
       "\n",
       "  primary_collision_factor   pcf_violation_category type_of_collision  \\\n",
       "0   vehicle code violation       unsafe lane change         sideswipe   \n",
       "1   vehicle code violation         improper passing        hit object   \n",
       "2   vehicle code violation         improper turning         broadside   \n",
       "3   vehicle code violation  automobile right of way         broadside   \n",
       "4   vehicle code violation                 speeding          rear end   \n",
       "\n",
       "  motor_vehicle_involved_with road_surface road_condition_1  \\\n",
       "0         other motor vehicle          wet           normal   \n",
       "1                fixed object          dry           normal   \n",
       "2         other motor vehicle          dry           normal   \n",
       "3         other motor vehicle          dry           normal   \n",
       "4         other motor vehicle          dry             None   \n",
       "\n",
       "                  lighting control_device collision_date collision_time  \n",
       "0                 daylight           none     2009-01-22       07:25:00  \n",
       "1  dark with street lights    functioning     2009-01-03       02:26:00  \n",
       "2  dark with street lights    functioning     2009-01-11       03:32:00  \n",
       "3                 daylight    functioning     2009-01-11       10:35:00  \n",
       "4  dark with street lights    functioning     2009-01-02       22:43:00  "
      ]
     },
     "metadata": {},
     "output_type": "display_data"
    }
   ],
   "source": [
    "query = '''\n",
    "SELECT *\n",
    "FROM collisions\n",
    "LIMIT 5;\n",
    "'''\n",
    "collisions_df = pd.read_sql_query(query, con=con)\n",
    "display(collisions_df.head())"
   ]
  },
  {
   "cell_type": "markdown",
   "id": "faefb9b4",
   "metadata": {
    "id": "faefb9b4"
   },
   "source": [
    "Таблица collisions с общей информацией о ДТП имеет данные и общий ключ."
   ]
  },
  {
   "cell_type": "markdown",
   "id": "60e06e5c",
   "metadata": {
    "id": "60e06e5c"
   },
   "source": [
    "* Во всех таблицах есть данные, все соединены ключами."
   ]
  },
  {
   "cell_type": "markdown",
   "id": "940a05f2",
   "metadata": {
    "id": "940a05f2"
   },
   "source": [
    "##  Статистический анализ факторов ДТП"
   ]
  },
  {
   "cell_type": "markdown",
   "id": "ssyLEgNswzuD",
   "metadata": {
    "id": "ssyLEgNswzuD"
   },
   "source": [
    "Рассмотрю количество аварий по месяцам."
   ]
  },
  {
   "cell_type": "code",
   "execution_count": null,
   "id": "7e027227",
   "metadata": {
    "colab": {
     "base_uri": "https://localhost:8080/",
     "height": 1000
    },
    "id": "7e027227",
    "outputId": "292773d0-61e2-4336-bd7f-912096064825",
    "scrolled": true
   },
   "outputs": [
    {
     "data": {
      "application/vnd.google.colaboratory.intrinsic+json": {
       "summary": "{\n  \"name\": \"collisions_df\",\n  \"rows\": 56,\n  \"fields\": [\n    {\n      \"column\": \"month\",\n      \"properties\": {\n        \"dtype\": \"date\",\n        \"min\": \"2009-01-01\",\n        \"max\": \"2020-07-01\",\n        \"num_unique_values\": 56,\n        \"samples\": [\n          \"2009-01-01\",\n          \"2009-06-01\",\n          \"2011-10-01\"\n        ],\n        \"semantic_type\": \"\",\n        \"description\": \"\"\n      }\n    },\n    {\n      \"column\": \"count\",\n      \"properties\": {\n        \"dtype\": \"number\",\n        \"std\": 15169,\n        \"min\": 1,\n        \"max\": 37835,\n        \"num_unique_values\": 53,\n        \"samples\": [\n          34620,\n          3062,\n          200\n        ],\n        \"semantic_type\": \"\",\n        \"description\": \"\"\n      }\n    }\n  ]\n}",
       "type": "dataframe",
       "variable_name": "collisions_df"
      },
      "text/html": [
       "\n",
       "  <div id=\"df-83b9ce5e-de53-47a0-b545-c58ebc6f1417\" class=\"colab-df-container\">\n",
       "    <div>\n",
       "<style scoped>\n",
       "    .dataframe tbody tr th:only-of-type {\n",
       "        vertical-align: middle;\n",
       "    }\n",
       "\n",
       "    .dataframe tbody tr th {\n",
       "        vertical-align: top;\n",
       "    }\n",
       "\n",
       "    .dataframe thead th {\n",
       "        text-align: right;\n",
       "    }\n",
       "</style>\n",
       "<table border=\"1\" class=\"dataframe\">\n",
       "  <thead>\n",
       "    <tr style=\"text-align: right;\">\n",
       "      <th></th>\n",
       "      <th>month</th>\n",
       "      <th>count</th>\n",
       "    </tr>\n",
       "  </thead>\n",
       "  <tbody>\n",
       "    <tr>\n",
       "      <th>0</th>\n",
       "      <td>2009-01-01</td>\n",
       "      <td>35062</td>\n",
       "    </tr>\n",
       "    <tr>\n",
       "      <th>1</th>\n",
       "      <td>2009-02-01</td>\n",
       "      <td>34480</td>\n",
       "    </tr>\n",
       "    <tr>\n",
       "      <th>2</th>\n",
       "      <td>2009-03-01</td>\n",
       "      <td>36648</td>\n",
       "    </tr>\n",
       "    <tr>\n",
       "      <th>3</th>\n",
       "      <td>2009-04-01</td>\n",
       "      <td>35239</td>\n",
       "    </tr>\n",
       "    <tr>\n",
       "      <th>4</th>\n",
       "      <td>2009-05-01</td>\n",
       "      <td>36916</td>\n",
       "    </tr>\n",
       "    <tr>\n",
       "      <th>5</th>\n",
       "      <td>2009-06-01</td>\n",
       "      <td>34202</td>\n",
       "    </tr>\n",
       "    <tr>\n",
       "      <th>6</th>\n",
       "      <td>2009-07-01</td>\n",
       "      <td>35161</td>\n",
       "    </tr>\n",
       "    <tr>\n",
       "      <th>7</th>\n",
       "      <td>2009-08-01</td>\n",
       "      <td>34508</td>\n",
       "    </tr>\n",
       "    <tr>\n",
       "      <th>8</th>\n",
       "      <td>2009-09-01</td>\n",
       "      <td>35555</td>\n",
       "    </tr>\n",
       "    <tr>\n",
       "      <th>9</th>\n",
       "      <td>2009-10-01</td>\n",
       "      <td>37835</td>\n",
       "    </tr>\n",
       "    <tr>\n",
       "      <th>10</th>\n",
       "      <td>2009-11-01</td>\n",
       "      <td>34562</td>\n",
       "    </tr>\n",
       "    <tr>\n",
       "      <th>11</th>\n",
       "      <td>2009-12-01</td>\n",
       "      <td>36060</td>\n",
       "    </tr>\n",
       "    <tr>\n",
       "      <th>12</th>\n",
       "      <td>2010-01-01</td>\n",
       "      <td>32892</td>\n",
       "    </tr>\n",
       "    <tr>\n",
       "      <th>13</th>\n",
       "      <td>2010-02-01</td>\n",
       "      <td>31918</td>\n",
       "    </tr>\n",
       "    <tr>\n",
       "      <th>14</th>\n",
       "      <td>2010-03-01</td>\n",
       "      <td>35803</td>\n",
       "    </tr>\n",
       "    <tr>\n",
       "      <th>15</th>\n",
       "      <td>2010-04-01</td>\n",
       "      <td>34416</td>\n",
       "    </tr>\n",
       "    <tr>\n",
       "      <th>16</th>\n",
       "      <td>2010-05-01</td>\n",
       "      <td>34862</td>\n",
       "    </tr>\n",
       "    <tr>\n",
       "      <th>17</th>\n",
       "      <td>2010-06-01</td>\n",
       "      <td>33367</td>\n",
       "    </tr>\n",
       "    <tr>\n",
       "      <th>18</th>\n",
       "      <td>2010-07-01</td>\n",
       "      <td>33645</td>\n",
       "    </tr>\n",
       "    <tr>\n",
       "      <th>19</th>\n",
       "      <td>2010-08-01</td>\n",
       "      <td>34620</td>\n",
       "    </tr>\n",
       "    <tr>\n",
       "      <th>20</th>\n",
       "      <td>2010-09-01</td>\n",
       "      <td>34957</td>\n",
       "    </tr>\n",
       "    <tr>\n",
       "      <th>21</th>\n",
       "      <td>2010-10-01</td>\n",
       "      <td>37480</td>\n",
       "    </tr>\n",
       "    <tr>\n",
       "      <th>22</th>\n",
       "      <td>2010-11-01</td>\n",
       "      <td>35460</td>\n",
       "    </tr>\n",
       "    <tr>\n",
       "      <th>23</th>\n",
       "      <td>2010-12-01</td>\n",
       "      <td>37070</td>\n",
       "    </tr>\n",
       "    <tr>\n",
       "      <th>24</th>\n",
       "      <td>2011-01-01</td>\n",
       "      <td>31926</td>\n",
       "    </tr>\n",
       "    <tr>\n",
       "      <th>25</th>\n",
       "      <td>2011-02-01</td>\n",
       "      <td>31975</td>\n",
       "    </tr>\n",
       "    <tr>\n",
       "      <th>26</th>\n",
       "      <td>2011-03-01</td>\n",
       "      <td>34585</td>\n",
       "    </tr>\n",
       "    <tr>\n",
       "      <th>27</th>\n",
       "      <td>2011-04-01</td>\n",
       "      <td>31377</td>\n",
       "    </tr>\n",
       "    <tr>\n",
       "      <th>28</th>\n",
       "      <td>2011-05-01</td>\n",
       "      <td>33370</td>\n",
       "    </tr>\n",
       "    <tr>\n",
       "      <th>29</th>\n",
       "      <td>2011-06-01</td>\n",
       "      <td>31962</td>\n",
       "    </tr>\n",
       "    <tr>\n",
       "      <th>30</th>\n",
       "      <td>2011-07-01</td>\n",
       "      <td>33029</td>\n",
       "    </tr>\n",
       "    <tr>\n",
       "      <th>31</th>\n",
       "      <td>2011-08-01</td>\n",
       "      <td>34339</td>\n",
       "    </tr>\n",
       "    <tr>\n",
       "      <th>32</th>\n",
       "      <td>2011-09-01</td>\n",
       "      <td>34137</td>\n",
       "    </tr>\n",
       "    <tr>\n",
       "      <th>33</th>\n",
       "      <td>2011-10-01</td>\n",
       "      <td>36618</td>\n",
       "    </tr>\n",
       "    <tr>\n",
       "      <th>34</th>\n",
       "      <td>2011-11-01</td>\n",
       "      <td>34495</td>\n",
       "    </tr>\n",
       "    <tr>\n",
       "      <th>35</th>\n",
       "      <td>2011-12-01</td>\n",
       "      <td>34615</td>\n",
       "    </tr>\n",
       "    <tr>\n",
       "      <th>36</th>\n",
       "      <td>2012-01-01</td>\n",
       "      <td>32020</td>\n",
       "    </tr>\n",
       "    <tr>\n",
       "      <th>37</th>\n",
       "      <td>2012-02-01</td>\n",
       "      <td>30377</td>\n",
       "    </tr>\n",
       "    <tr>\n",
       "      <th>38</th>\n",
       "      <td>2012-03-01</td>\n",
       "      <td>32498</td>\n",
       "    </tr>\n",
       "    <tr>\n",
       "      <th>39</th>\n",
       "      <td>2012-04-01</td>\n",
       "      <td>29143</td>\n",
       "    </tr>\n",
       "    <tr>\n",
       "      <th>40</th>\n",
       "      <td>2012-05-01</td>\n",
       "      <td>25168</td>\n",
       "    </tr>\n",
       "    <tr>\n",
       "      <th>41</th>\n",
       "      <td>2012-06-01</td>\n",
       "      <td>3062</td>\n",
       "    </tr>\n",
       "    <tr>\n",
       "      <th>42</th>\n",
       "      <td>2012-07-01</td>\n",
       "      <td>390</td>\n",
       "    </tr>\n",
       "    <tr>\n",
       "      <th>43</th>\n",
       "      <td>2012-08-01</td>\n",
       "      <td>622</td>\n",
       "    </tr>\n",
       "    <tr>\n",
       "      <th>44</th>\n",
       "      <td>2012-09-01</td>\n",
       "      <td>510</td>\n",
       "    </tr>\n",
       "    <tr>\n",
       "      <th>45</th>\n",
       "      <td>2012-10-01</td>\n",
       "      <td>304</td>\n",
       "    </tr>\n",
       "    <tr>\n",
       "      <th>46</th>\n",
       "      <td>2012-11-01</td>\n",
       "      <td>253</td>\n",
       "    </tr>\n",
       "    <tr>\n",
       "      <th>47</th>\n",
       "      <td>2012-12-01</td>\n",
       "      <td>200</td>\n",
       "    </tr>\n",
       "    <tr>\n",
       "      <th>48</th>\n",
       "      <td>2013-01-01</td>\n",
       "      <td>144</td>\n",
       "    </tr>\n",
       "    <tr>\n",
       "      <th>49</th>\n",
       "      <td>2013-02-01</td>\n",
       "      <td>108</td>\n",
       "    </tr>\n",
       "    <tr>\n",
       "      <th>50</th>\n",
       "      <td>2013-03-01</td>\n",
       "      <td>46</td>\n",
       "    </tr>\n",
       "    <tr>\n",
       "      <th>51</th>\n",
       "      <td>2013-04-01</td>\n",
       "      <td>5</td>\n",
       "    </tr>\n",
       "    <tr>\n",
       "      <th>52</th>\n",
       "      <td>2013-06-01</td>\n",
       "      <td>1</td>\n",
       "    </tr>\n",
       "    <tr>\n",
       "      <th>53</th>\n",
       "      <td>2013-07-01</td>\n",
       "      <td>1</td>\n",
       "    </tr>\n",
       "    <tr>\n",
       "      <th>54</th>\n",
       "      <td>2020-03-01</td>\n",
       "      <td>1</td>\n",
       "    </tr>\n",
       "    <tr>\n",
       "      <th>55</th>\n",
       "      <td>2020-07-01</td>\n",
       "      <td>1</td>\n",
       "    </tr>\n",
       "  </tbody>\n",
       "</table>\n",
       "</div>\n",
       "    <div class=\"colab-df-buttons\">\n",
       "\n",
       "  <div class=\"colab-df-container\">\n",
       "    <button class=\"colab-df-convert\" onclick=\"convertToInteractive('df-83b9ce5e-de53-47a0-b545-c58ebc6f1417')\"\n",
       "            title=\"Convert this dataframe to an interactive table.\"\n",
       "            style=\"display:none;\">\n",
       "\n",
       "  <svg xmlns=\"http://www.w3.org/2000/svg\" height=\"24px\" viewBox=\"0 -960 960 960\">\n",
       "    <path d=\"M120-120v-720h720v720H120Zm60-500h600v-160H180v160Zm220 220h160v-160H400v160Zm0 220h160v-160H400v160ZM180-400h160v-160H180v160Zm440 0h160v-160H620v160ZM180-180h160v-160H180v160Zm440 0h160v-160H620v160Z\"/>\n",
       "  </svg>\n",
       "    </button>\n",
       "\n",
       "  <style>\n",
       "    .colab-df-container {\n",
       "      display:flex;\n",
       "      gap: 12px;\n",
       "    }\n",
       "\n",
       "    .colab-df-convert {\n",
       "      background-color: #E8F0FE;\n",
       "      border: none;\n",
       "      border-radius: 50%;\n",
       "      cursor: pointer;\n",
       "      display: none;\n",
       "      fill: #1967D2;\n",
       "      height: 32px;\n",
       "      padding: 0 0 0 0;\n",
       "      width: 32px;\n",
       "    }\n",
       "\n",
       "    .colab-df-convert:hover {\n",
       "      background-color: #E2EBFA;\n",
       "      box-shadow: 0px 1px 2px rgba(60, 64, 67, 0.3), 0px 1px 3px 1px rgba(60, 64, 67, 0.15);\n",
       "      fill: #174EA6;\n",
       "    }\n",
       "\n",
       "    .colab-df-buttons div {\n",
       "      margin-bottom: 4px;\n",
       "    }\n",
       "\n",
       "    [theme=dark] .colab-df-convert {\n",
       "      background-color: #3B4455;\n",
       "      fill: #D2E3FC;\n",
       "    }\n",
       "\n",
       "    [theme=dark] .colab-df-convert:hover {\n",
       "      background-color: #434B5C;\n",
       "      box-shadow: 0px 1px 3px 1px rgba(0, 0, 0, 0.15);\n",
       "      filter: drop-shadow(0px 1px 2px rgba(0, 0, 0, 0.3));\n",
       "      fill: #FFFFFF;\n",
       "    }\n",
       "  </style>\n",
       "\n",
       "    <script>\n",
       "      const buttonEl =\n",
       "        document.querySelector('#df-83b9ce5e-de53-47a0-b545-c58ebc6f1417 button.colab-df-convert');\n",
       "      buttonEl.style.display =\n",
       "        google.colab.kernel.accessAllowed ? 'block' : 'none';\n",
       "\n",
       "      async function convertToInteractive(key) {\n",
       "        const element = document.querySelector('#df-83b9ce5e-de53-47a0-b545-c58ebc6f1417');\n",
       "        const dataTable =\n",
       "          await google.colab.kernel.invokeFunction('convertToInteractive',\n",
       "                                                    [key], {});\n",
       "        if (!dataTable) return;\n",
       "\n",
       "        const docLinkHtml = 'Like what you see? Visit the ' +\n",
       "          '<a target=\"_blank\" href=https://colab.research.google.com/notebooks/data_table.ipynb>data table notebook</a>'\n",
       "          + ' to learn more about interactive tables.';\n",
       "        element.innerHTML = '';\n",
       "        dataTable['output_type'] = 'display_data';\n",
       "        await google.colab.output.renderOutput(dataTable, element);\n",
       "        const docLink = document.createElement('div');\n",
       "        docLink.innerHTML = docLinkHtml;\n",
       "        element.appendChild(docLink);\n",
       "      }\n",
       "    </script>\n",
       "  </div>\n",
       "\n",
       "\n",
       "<div id=\"df-83358ca2-c42e-4645-9cbe-3e17372b8969\">\n",
       "  <button class=\"colab-df-quickchart\" onclick=\"quickchart('df-83358ca2-c42e-4645-9cbe-3e17372b8969')\"\n",
       "            title=\"Suggest charts\"\n",
       "            style=\"display:none;\">\n",
       "\n",
       "<svg xmlns=\"http://www.w3.org/2000/svg\" height=\"24px\"viewBox=\"0 0 24 24\"\n",
       "     width=\"24px\">\n",
       "    <g>\n",
       "        <path d=\"M19 3H5c-1.1 0-2 .9-2 2v14c0 1.1.9 2 2 2h14c1.1 0 2-.9 2-2V5c0-1.1-.9-2-2-2zM9 17H7v-7h2v7zm4 0h-2V7h2v10zm4 0h-2v-4h2v4z\"/>\n",
       "    </g>\n",
       "</svg>\n",
       "  </button>\n",
       "\n",
       "<style>\n",
       "  .colab-df-quickchart {\n",
       "      --bg-color: #E8F0FE;\n",
       "      --fill-color: #1967D2;\n",
       "      --hover-bg-color: #E2EBFA;\n",
       "      --hover-fill-color: #174EA6;\n",
       "      --disabled-fill-color: #AAA;\n",
       "      --disabled-bg-color: #DDD;\n",
       "  }\n",
       "\n",
       "  [theme=dark] .colab-df-quickchart {\n",
       "      --bg-color: #3B4455;\n",
       "      --fill-color: #D2E3FC;\n",
       "      --hover-bg-color: #434B5C;\n",
       "      --hover-fill-color: #FFFFFF;\n",
       "      --disabled-bg-color: #3B4455;\n",
       "      --disabled-fill-color: #666;\n",
       "  }\n",
       "\n",
       "  .colab-df-quickchart {\n",
       "    background-color: var(--bg-color);\n",
       "    border: none;\n",
       "    border-radius: 50%;\n",
       "    cursor: pointer;\n",
       "    display: none;\n",
       "    fill: var(--fill-color);\n",
       "    height: 32px;\n",
       "    padding: 0;\n",
       "    width: 32px;\n",
       "  }\n",
       "\n",
       "  .colab-df-quickchart:hover {\n",
       "    background-color: var(--hover-bg-color);\n",
       "    box-shadow: 0 1px 2px rgba(60, 64, 67, 0.3), 0 1px 3px 1px rgba(60, 64, 67, 0.15);\n",
       "    fill: var(--button-hover-fill-color);\n",
       "  }\n",
       "\n",
       "  .colab-df-quickchart-complete:disabled,\n",
       "  .colab-df-quickchart-complete:disabled:hover {\n",
       "    background-color: var(--disabled-bg-color);\n",
       "    fill: var(--disabled-fill-color);\n",
       "    box-shadow: none;\n",
       "  }\n",
       "\n",
       "  .colab-df-spinner {\n",
       "    border: 2px solid var(--fill-color);\n",
       "    border-color: transparent;\n",
       "    border-bottom-color: var(--fill-color);\n",
       "    animation:\n",
       "      spin 1s steps(1) infinite;\n",
       "  }\n",
       "\n",
       "  @keyframes spin {\n",
       "    0% {\n",
       "      border-color: transparent;\n",
       "      border-bottom-color: var(--fill-color);\n",
       "      border-left-color: var(--fill-color);\n",
       "    }\n",
       "    20% {\n",
       "      border-color: transparent;\n",
       "      border-left-color: var(--fill-color);\n",
       "      border-top-color: var(--fill-color);\n",
       "    }\n",
       "    30% {\n",
       "      border-color: transparent;\n",
       "      border-left-color: var(--fill-color);\n",
       "      border-top-color: var(--fill-color);\n",
       "      border-right-color: var(--fill-color);\n",
       "    }\n",
       "    40% {\n",
       "      border-color: transparent;\n",
       "      border-right-color: var(--fill-color);\n",
       "      border-top-color: var(--fill-color);\n",
       "    }\n",
       "    60% {\n",
       "      border-color: transparent;\n",
       "      border-right-color: var(--fill-color);\n",
       "    }\n",
       "    80% {\n",
       "      border-color: transparent;\n",
       "      border-right-color: var(--fill-color);\n",
       "      border-bottom-color: var(--fill-color);\n",
       "    }\n",
       "    90% {\n",
       "      border-color: transparent;\n",
       "      border-bottom-color: var(--fill-color);\n",
       "    }\n",
       "  }\n",
       "</style>\n",
       "\n",
       "  <script>\n",
       "    async function quickchart(key) {\n",
       "      const quickchartButtonEl =\n",
       "        document.querySelector('#' + key + ' button');\n",
       "      quickchartButtonEl.disabled = true;  // To prevent multiple clicks.\n",
       "      quickchartButtonEl.classList.add('colab-df-spinner');\n",
       "      try {\n",
       "        const charts = await google.colab.kernel.invokeFunction(\n",
       "            'suggestCharts', [key], {});\n",
       "      } catch (error) {\n",
       "        console.error('Error during call to suggestCharts:', error);\n",
       "      }\n",
       "      quickchartButtonEl.classList.remove('colab-df-spinner');\n",
       "      quickchartButtonEl.classList.add('colab-df-quickchart-complete');\n",
       "    }\n",
       "    (() => {\n",
       "      let quickchartButtonEl =\n",
       "        document.querySelector('#df-83358ca2-c42e-4645-9cbe-3e17372b8969 button');\n",
       "      quickchartButtonEl.style.display =\n",
       "        google.colab.kernel.accessAllowed ? 'block' : 'none';\n",
       "    })();\n",
       "  </script>\n",
       "</div>\n",
       "    </div>\n",
       "  </div>\n"
      ],
      "text/plain": [
       "         month  count\n",
       "0   2009-01-01  35062\n",
       "1   2009-02-01  34480\n",
       "2   2009-03-01  36648\n",
       "3   2009-04-01  35239\n",
       "4   2009-05-01  36916\n",
       "5   2009-06-01  34202\n",
       "6   2009-07-01  35161\n",
       "7   2009-08-01  34508\n",
       "8   2009-09-01  35555\n",
       "9   2009-10-01  37835\n",
       "10  2009-11-01  34562\n",
       "11  2009-12-01  36060\n",
       "12  2010-01-01  32892\n",
       "13  2010-02-01  31918\n",
       "14  2010-03-01  35803\n",
       "15  2010-04-01  34416\n",
       "16  2010-05-01  34862\n",
       "17  2010-06-01  33367\n",
       "18  2010-07-01  33645\n",
       "19  2010-08-01  34620\n",
       "20  2010-09-01  34957\n",
       "21  2010-10-01  37480\n",
       "22  2010-11-01  35460\n",
       "23  2010-12-01  37070\n",
       "24  2011-01-01  31926\n",
       "25  2011-02-01  31975\n",
       "26  2011-03-01  34585\n",
       "27  2011-04-01  31377\n",
       "28  2011-05-01  33370\n",
       "29  2011-06-01  31962\n",
       "30  2011-07-01  33029\n",
       "31  2011-08-01  34339\n",
       "32  2011-09-01  34137\n",
       "33  2011-10-01  36618\n",
       "34  2011-11-01  34495\n",
       "35  2011-12-01  34615\n",
       "36  2012-01-01  32020\n",
       "37  2012-02-01  30377\n",
       "38  2012-03-01  32498\n",
       "39  2012-04-01  29143\n",
       "40  2012-05-01  25168\n",
       "41  2012-06-01   3062\n",
       "42  2012-07-01    390\n",
       "43  2012-08-01    622\n",
       "44  2012-09-01    510\n",
       "45  2012-10-01    304\n",
       "46  2012-11-01    253\n",
       "47  2012-12-01    200\n",
       "48  2013-01-01    144\n",
       "49  2013-02-01    108\n",
       "50  2013-03-01     46\n",
       "51  2013-04-01      5\n",
       "52  2013-06-01      1\n",
       "53  2013-07-01      1\n",
       "54  2020-03-01      1\n",
       "55  2020-07-01      1"
      ]
     },
     "metadata": {},
     "output_type": "display_data"
    }
   ],
   "source": [
    "query = '''\n",
    "SELECT DATE_TRUNC('month', collision_date)::date AS month, COUNT(case_id)\n",
    "FROM collisions\n",
    "GROUP BY DATE_TRUNC('month', collision_date)::date\n",
    "'''\n",
    "collisions_df = pd.read_sql_query(query, con=con)\n",
    "display(collisions_df)"
   ]
  },
  {
   "cell_type": "markdown",
   "id": "RN-uCv_2x9LQ",
   "metadata": {
    "id": "RN-uCv_2x9LQ"
   },
   "source": [
    "Из таблицы видно:\n",
    "\n",
    "* Данные представлены с января 2009 по июль 2020.\n",
    "\n",
    "* Данные за 2020 год неполные, только две аварии произошли в марте и июле.\n",
    "\n",
    "* Данных с июля 2013 по 2020 год просто нет.\n",
    "\n",
    "Поэтому в дальнейшем буду работать с данными по июль 2013."
   ]
  },
  {
   "cell_type": "code",
   "execution_count": null,
   "id": "ztLfTjq2x8E1",
   "metadata": {
    "id": "ztLfTjq2x8E1"
   },
   "outputs": [],
   "source": [
    "edge = '2013-07-01'\n",
    "edge = datetime.datetime.strptime(edge, '%Y-%m-%d').date()\n",
    "collisions_df = collisions_df.loc[collisions_df['month']<=edge]"
   ]
  },
  {
   "cell_type": "code",
   "execution_count": null,
   "id": "2f60f6ac",
   "metadata": {
    "colab": {
     "base_uri": "https://localhost:8080/",
     "height": 762
    },
    "id": "2f60f6ac",
    "outputId": "1ca843aa-5ff0-41db-b918-6a7bc16285c2"
   },
   "outputs": [
    {
     "data": {
      "image/png": "[encoded data removed]",
      "text/plain": [
       "<Figure size 1500x1000 with 1 Axes>"
      ]
     },
     "metadata": {},
     "output_type": "display_data"
    }
   ],
   "source": [
    "plt.figure(figsize=(15, 10))\n",
    "plt.bar(range(collisions_df.shape[0]), collisions_df['count'])\n",
    "plt.title('Количество аварий по месяцам')\n",
    "plt.xlabel('Номер месяца')\n",
    "plt.ylabel('Количество')\n",
    "plt.xticks(range(collisions_df.shape[0]),labels=collisions_df['month'].values, rotation=90)\n",
    "plt.grid(True, axis='y')\n",
    "plt.show();"
   ]
  },
  {
   "cell_type": "markdown",
   "id": "e6396ab3",
   "metadata": {
    "id": "e6396ab3"
   },
   "source": [
    "* Какой-то общей зависимости от месяца нет.\n",
    "\n",
    "* С июня 2012 года данных стало намного меньше, поэтому в дальнейшем буду убирать данные за этот период.\n",
    "\n",
    "* Не буду учитывать месяц как признак дальше. Есть признаки, характеризующие погодные условия, они и покроют эту фичу."
   ]
  },
  {
   "cell_type": "markdown",
   "id": "1ca1d2af",
   "metadata": {
    "id": "1ca1d2af"
   },
   "source": [
    "## Постановка задач анализа признаков и решение"
   ]
  },
  {
   "cell_type": "markdown",
   "id": "27181b2a",
   "metadata": {
    "id": "27181b2a"
   },
   "source": [
    "Задачи:\n",
    "\n",
    "* Какие по типу кузова автомобили наиболее часто попадают в аварии по серьезности MIDDLE DAMAGE?\n",
    "  \n",
    "* Как серьезность аварии зависит от нетрезвого состояния водителя?"
   ]
  },
  {
   "cell_type": "markdown",
   "id": "2ee9d49a",
   "metadata": {
    "id": "2ee9d49a"
   },
   "source": [
    "Решение:\n",
    "Для задачи (Какие по типу кузова автомобили наиболее часто попадают в аварии по серьезности MIDDLE DAMAGE) необходимо соединить две таблицы с авариями и с автомобилями по уникальному ключу, затем сгруппировать автомобили по типу кузова, считая количество аварий"
   ]
  },
  {
   "cell_type": "code",
   "execution_count": null,
   "id": "2562fb72",
   "metadata": {
    "colab": {
     "base_uri": "https://localhost:8080/",
     "height": 564
    },
    "id": "2562fb72",
    "outputId": "8555f077-ba35-4965-c42a-798bb6fbaeb8"
   },
   "outputs": [
    {
     "data": {
      "image/png": "[encoded data removed]",
      "text/plain": [
       "<Figure size 1000x600 with 1 Axes>"
      ]
     },
     "metadata": {},
     "output_type": "display_data"
    }
   ],
   "source": [
    "query = '''\n",
    "SELECT vehicle_type, COUNT(DISTINCT case_id)\n",
    "FROM vehicles\n",
    "GROUP BY vehicle_type\n",
    "'''\n",
    "df = pd.read_sql_query(query, con=con)\n",
    "#display(df)\n",
    "plt.figure(figsize=(10, 6))\n",
    "plt.bar(df['vehicle_type'].unique(), df['count'], label=df['vehicle_type'].unique())\n",
    "plt.xlabel('Тип кузова')\n",
    "plt.ylabel('Количество')\n",
    "plt.title('Количество автомобилей в зависимости от кузова')\n",
    "plt.show();"
   ]
  },
  {
   "cell_type": "markdown",
   "id": "02508c58",
   "metadata": {
    "id": "02508c58"
   },
   "source": [
    "Посмотрел, какое отношение авомобилей по типу кузова вообще в базе данных по всем происшествиям. Оказалось, что больше всего купе и седанов."
   ]
  },
  {
   "cell_type": "code",
   "execution_count": null,
   "id": "93dc0bad",
   "metadata": {
    "colab": {
     "base_uri": "https://localhost:8080/",
     "height": 753
    },
    "id": "93dc0bad",
    "outputId": "b4161b5e-bf62-4bf9-900d-bf3eaf0d73a8"
   },
   "outputs": [
    {
     "data": {
      "application/vnd.google.colaboratory.intrinsic+json": {
       "summary": "{\n  \"name\": \"df\",\n  \"rows\": 5,\n  \"fields\": [\n    {\n      \"column\": \"vehicle_type\",\n      \"properties\": {\n        \"dtype\": \"string\",\n        \"num_unique_values\": 5,\n        \"samples\": [\n          \"sedan\",\n          \"other\",\n          \"minivan\"\n        ],\n        \"semantic_type\": \"\",\n        \"description\": \"\"\n      }\n    },\n    {\n      \"column\": \"count\",\n      \"properties\": {\n        \"dtype\": \"number\",\n        \"std\": 42496,\n        \"min\": 416,\n        \"max\": 109081,\n        \"num_unique_values\": 5,\n        \"samples\": [\n          43227,\n          416,\n          21689\n        ],\n        \"semantic_type\": \"\",\n        \"description\": \"\"\n      }\n    }\n  ]\n}",
       "type": "dataframe",
       "variable_name": "df"
      },
      "text/html": [
       "\n",
       "  <div id=\"df-dc6820ac-3682-475f-9fce-be669668ae44\" class=\"colab-df-container\">\n",
       "    <div>\n",
       "<style scoped>\n",
       "    .dataframe tbody tr th:only-of-type {\n",
       "        vertical-align: middle;\n",
       "    }\n",
       "\n",
       "    .dataframe tbody tr th {\n",
       "        vertical-align: top;\n",
       "    }\n",
       "\n",
       "    .dataframe thead th {\n",
       "        text-align: right;\n",
       "    }\n",
       "</style>\n",
       "<table border=\"1\" class=\"dataframe\">\n",
       "  <thead>\n",
       "    <tr style=\"text-align: right;\">\n",
       "      <th></th>\n",
       "      <th>vehicle_type</th>\n",
       "      <th>count</th>\n",
       "    </tr>\n",
       "  </thead>\n",
       "  <tbody>\n",
       "    <tr>\n",
       "      <th>0</th>\n",
       "      <td>coupe</td>\n",
       "      <td>109081</td>\n",
       "    </tr>\n",
       "    <tr>\n",
       "      <th>1</th>\n",
       "      <td>sedan</td>\n",
       "      <td>43227</td>\n",
       "    </tr>\n",
       "    <tr>\n",
       "      <th>2</th>\n",
       "      <td>minivan</td>\n",
       "      <td>21689</td>\n",
       "    </tr>\n",
       "    <tr>\n",
       "      <th>3</th>\n",
       "      <td>hatchback</td>\n",
       "      <td>16428</td>\n",
       "    </tr>\n",
       "    <tr>\n",
       "      <th>4</th>\n",
       "      <td>other</td>\n",
       "      <td>416</td>\n",
       "    </tr>\n",
       "  </tbody>\n",
       "</table>\n",
       "</div>\n",
       "    <div class=\"colab-df-buttons\">\n",
       "\n",
       "  <div class=\"colab-df-container\">\n",
       "    <button class=\"colab-df-convert\" onclick=\"convertToInteractive('df-dc6820ac-3682-475f-9fce-be669668ae44')\"\n",
       "            title=\"Convert this dataframe to an interactive table.\"\n",
       "            style=\"display:none;\">\n",
       "\n",
       "  <svg xmlns=\"http://www.w3.org/2000/svg\" height=\"24px\" viewBox=\"0 -960 960 960\">\n",
       "    <path d=\"M120-120v-720h720v720H120Zm60-500h600v-160H180v160Zm220 220h160v-160H400v160Zm0 220h160v-160H400v160ZM180-400h160v-160H180v160Zm440 0h160v-160H620v160ZM180-180h160v-160H180v160Zm440 0h160v-160H620v160Z\"/>\n",
       "  </svg>\n",
       "    </button>\n",
       "\n",
       "  <style>\n",
       "    .colab-df-container {\n",
       "      display:flex;\n",
       "      gap: 12px;\n",
       "    }\n",
       "\n",
       "    .colab-df-convert {\n",
       "      background-color: #E8F0FE;\n",
       "      border: none;\n",
       "      border-radius: 50%;\n",
       "      cursor: pointer;\n",
       "      display: none;\n",
       "      fill: #1967D2;\n",
       "      height: 32px;\n",
       "      padding: 0 0 0 0;\n",
       "      width: 32px;\n",
       "    }\n",
       "\n",
       "    .colab-df-convert:hover {\n",
       "      background-color: #E2EBFA;\n",
       "      box-shadow: 0px 1px 2px rgba(60, 64, 67, 0.3), 0px 1px 3px 1px rgba(60, 64, 67, 0.15);\n",
       "      fill: #174EA6;\n",
       "    }\n",
       "\n",
       "    .colab-df-buttons div {\n",
       "      margin-bottom: 4px;\n",
       "    }\n",
       "\n",
       "    [theme=dark] .colab-df-convert {\n",
       "      background-color: #3B4455;\n",
       "      fill: #D2E3FC;\n",
       "    }\n",
       "\n",
       "    [theme=dark] .colab-df-convert:hover {\n",
       "      background-color: #434B5C;\n",
       "      box-shadow: 0px 1px 3px 1px rgba(0, 0, 0, 0.15);\n",
       "      filter: drop-shadow(0px 1px 2px rgba(0, 0, 0, 0.3));\n",
       "      fill: #FFFFFF;\n",
       "    }\n",
       "  </style>\n",
       "\n",
       "    <script>\n",
       "      const buttonEl =\n",
       "        document.querySelector('#df-dc6820ac-3682-475f-9fce-be669668ae44 button.colab-df-convert');\n",
       "      buttonEl.style.display =\n",
       "        google.colab.kernel.accessAllowed ? 'block' : 'none';\n",
       "\n",
       "      async function convertToInteractive(key) {\n",
       "        const element = document.querySelector('#df-dc6820ac-3682-475f-9fce-be669668ae44');\n",
       "        const dataTable =\n",
       "          await google.colab.kernel.invokeFunction('convertToInteractive',\n",
       "                                                    [key], {});\n",
       "        if (!dataTable) return;\n",
       "\n",
       "        const docLinkHtml = 'Like what you see? Visit the ' +\n",
       "          '<a target=\"_blank\" href=https://colab.research.google.com/notebooks/data_table.ipynb>data table notebook</a>'\n",
       "          + ' to learn more about interactive tables.';\n",
       "        element.innerHTML = '';\n",
       "        dataTable['output_type'] = 'display_data';\n",
       "        await google.colab.output.renderOutput(dataTable, element);\n",
       "        const docLink = document.createElement('div');\n",
       "        docLink.innerHTML = docLinkHtml;\n",
       "        element.appendChild(docLink);\n",
       "      }\n",
       "    </script>\n",
       "  </div>\n",
       "\n",
       "\n",
       "<div id=\"df-49fddd35-159a-48a2-aa0d-273591d3581b\">\n",
       "  <button class=\"colab-df-quickchart\" onclick=\"quickchart('df-49fddd35-159a-48a2-aa0d-273591d3581b')\"\n",
       "            title=\"Suggest charts\"\n",
       "            style=\"display:none;\">\n",
       "\n",
       "<svg xmlns=\"http://www.w3.org/2000/svg\" height=\"24px\"viewBox=\"0 0 24 24\"\n",
       "     width=\"24px\">\n",
       "    <g>\n",
       "        <path d=\"M19 3H5c-1.1 0-2 .9-2 2v14c0 1.1.9 2 2 2h14c1.1 0 2-.9 2-2V5c0-1.1-.9-2-2-2zM9 17H7v-7h2v7zm4 0h-2V7h2v10zm4 0h-2v-4h2v4z\"/>\n",
       "    </g>\n",
       "</svg>\n",
       "  </button>\n",
       "\n",
       "<style>\n",
       "  .colab-df-quickchart {\n",
       "      --bg-color: #E8F0FE;\n",
       "      --fill-color: #1967D2;\n",
       "      --hover-bg-color: #E2EBFA;\n",
       "      --hover-fill-color: #174EA6;\n",
       "      --disabled-fill-color: #AAA;\n",
       "      --disabled-bg-color: #DDD;\n",
       "  }\n",
       "\n",
       "  [theme=dark] .colab-df-quickchart {\n",
       "      --bg-color: #3B4455;\n",
       "      --fill-color: #D2E3FC;\n",
       "      --hover-bg-color: #434B5C;\n",
       "      --hover-fill-color: #FFFFFF;\n",
       "      --disabled-bg-color: #3B4455;\n",
       "      --disabled-fill-color: #666;\n",
       "  }\n",
       "\n",
       "  .colab-df-quickchart {\n",
       "    background-color: var(--bg-color);\n",
       "    border: none;\n",
       "    border-radius: 50%;\n",
       "    cursor: pointer;\n",
       "    display: none;\n",
       "    fill: var(--fill-color);\n",
       "    height: 32px;\n",
       "    padding: 0;\n",
       "    width: 32px;\n",
       "  }\n",
       "\n",
       "  .colab-df-quickchart:hover {\n",
       "    background-color: var(--hover-bg-color);\n",
       "    box-shadow: 0 1px 2px rgba(60, 64, 67, 0.3), 0 1px 3px 1px rgba(60, 64, 67, 0.15);\n",
       "    fill: var(--button-hover-fill-color);\n",
       "  }\n",
       "\n",
       "  .colab-df-quickchart-complete:disabled,\n",
       "  .colab-df-quickchart-complete:disabled:hover {\n",
       "    background-color: var(--disabled-bg-color);\n",
       "    fill: var(--disabled-fill-color);\n",
       "    box-shadow: none;\n",
       "  }\n",
       "\n",
       "  .colab-df-spinner {\n",
       "    border: 2px solid var(--fill-color);\n",
       "    border-color: transparent;\n",
       "    border-bottom-color: var(--fill-color);\n",
       "    animation:\n",
       "      spin 1s steps(1) infinite;\n",
       "  }\n",
       "\n",
       "  @keyframes spin {\n",
       "    0% {\n",
       "      border-color: transparent;\n",
       "      border-bottom-color: var(--fill-color);\n",
       "      border-left-color: var(--fill-color);\n",
       "    }\n",
       "    20% {\n",
       "      border-color: transparent;\n",
       "      border-left-color: var(--fill-color);\n",
       "      border-top-color: var(--fill-color);\n",
       "    }\n",
       "    30% {\n",
       "      border-color: transparent;\n",
       "      border-left-color: var(--fill-color);\n",
       "      border-top-color: var(--fill-color);\n",
       "      border-right-color: var(--fill-color);\n",
       "    }\n",
       "    40% {\n",
       "      border-color: transparent;\n",
       "      border-right-color: var(--fill-color);\n",
       "      border-top-color: var(--fill-color);\n",
       "    }\n",
       "    60% {\n",
       "      border-color: transparent;\n",
       "      border-right-color: var(--fill-color);\n",
       "    }\n",
       "    80% {\n",
       "      border-color: transparent;\n",
       "      border-right-color: var(--fill-color);\n",
       "      border-bottom-color: var(--fill-color);\n",
       "    }\n",
       "    90% {\n",
       "      border-color: transparent;\n",
       "      border-bottom-color: var(--fill-color);\n",
       "    }\n",
       "  }\n",
       "</style>\n",
       "\n",
       "  <script>\n",
       "    async function quickchart(key) {\n",
       "      const quickchartButtonEl =\n",
       "        document.querySelector('#' + key + ' button');\n",
       "      quickchartButtonEl.disabled = true;  // To prevent multiple clicks.\n",
       "      quickchartButtonEl.classList.add('colab-df-spinner');\n",
       "      try {\n",
       "        const charts = await google.colab.kernel.invokeFunction(\n",
       "            'suggestCharts', [key], {});\n",
       "      } catch (error) {\n",
       "        console.error('Error during call to suggestCharts:', error);\n",
       "      }\n",
       "      quickchartButtonEl.classList.remove('colab-df-spinner');\n",
       "      quickchartButtonEl.classList.add('colab-df-quickchart-complete');\n",
       "    }\n",
       "    (() => {\n",
       "      let quickchartButtonEl =\n",
       "        document.querySelector('#df-49fddd35-159a-48a2-aa0d-273591d3581b button');\n",
       "      quickchartButtonEl.style.display =\n",
       "        google.colab.kernel.accessAllowed ? 'block' : 'none';\n",
       "    })();\n",
       "  </script>\n",
       "</div>\n",
       "    </div>\n",
       "  </div>\n"
      ],
      "text/plain": [
       "  vehicle_type   count\n",
       "0        coupe  109081\n",
       "1        sedan   43227\n",
       "2      minivan   21689\n",
       "3    hatchback   16428\n",
       "4        other     416"
      ]
     },
     "metadata": {},
     "output_type": "display_data"
    },
    {
     "data": {
      "image/png": "[encoded data removed]",
      "text/plain": [
       "<Figure size 1000x600 with 1 Axes>"
      ]
     },
     "metadata": {},
     "output_type": "display_data"
    }
   ],
   "source": [
    "query = '''\n",
    "WITH cars AS (\n",
    "SELECT case_id, vehicle_type, vehicle_transmission, vehicle_age\n",
    "FROM vehicles)\n",
    "SELECT cars.vehicle_type, COUNT(DISTINCT col.case_id)\n",
    "FROM collisions col\n",
    "INNER JOIN cars ON cars.case_id=col.case_id\n",
    "WHERE col.collision_damage='middle damage'\n",
    "AND DATE_TRUNC('month', collision_date)::date<'2012-06-01'\n",
    "GROUP BY cars.vehicle_type\n",
    "ORDER BY COUNT(DISTINCT col.case_id) DESC\n",
    "LIMIT 6;\n",
    "'''\n",
    "df = pd.read_sql_query(query, con=con)\n",
    "display(df)\n",
    "plt.figure(figsize=(10, 6))\n",
    "plt.bar(df['vehicle_type'], df['count'], label=df['vehicle_type'].unique())\n",
    "plt.xlabel('Тип кузова')\n",
    "plt.ylabel('Количество')\n",
    "plt.title('Количество аварий средней тяжести в зависимости от кузова')\n",
    "plt.show();"
   ]
  },
  {
   "cell_type": "markdown",
   "id": "3957b4cd",
   "metadata": {
    "id": "3957b4cd"
   },
   "source": [
    "* Так как купе и седанов в датасете больше всего, то и аварий с ними больше, однако с купе аварий больше более чем в два раза, чем с седанами. А вот аварий с минивэнами со средней тяжестью больше, чем с хэтчбэками."
   ]
  },
  {
   "cell_type": "markdown",
   "id": "b184f5ab",
   "metadata": {
    "id": "b184f5ab"
   },
   "source": [
    "Задача: Как серьезность аварии зависит от нетрезвого состояния водителя.\n",
    "\n",
    "Решение: связать две таблицы с авариями и с участниками, выбрать тех участников, которые были в нетрезвом состоянии. Сгрупировать по серьезности происшествия."
   ]
  },
  {
   "cell_type": "code",
   "execution_count": null,
   "id": "c277ee3e",
   "metadata": {
    "colab": {
     "base_uri": "https://localhost:8080/",
     "height": 269
    },
    "id": "c277ee3e",
    "outputId": "e53d23de-0b6b-425d-f304-b99ea6b34cc0"
   },
   "outputs": [
    {
     "data": {
      "application/vnd.google.colaboratory.intrinsic+json": {
       "summary": "{\n  \"name\": \"df\",\n  \"rows\": 7,\n  \"fields\": [\n    {\n      \"column\": \"party_sobriety\",\n      \"properties\": {\n        \"dtype\": \"string\",\n        \"num_unique_values\": 6,\n        \"samples\": [\n          \"had not been drinking\",\n          \"impairment unknown\",\n          \"had been drinking, not under influence\"\n        ],\n        \"semantic_type\": \"\",\n        \"description\": \"\"\n      }\n    },\n    {\n      \"column\": \"count\",\n      \"properties\": {\n        \"dtype\": \"number\",\n        \"std\": 419128,\n        \"min\": 15967,\n        \"max\": 1185724,\n        \"num_unique_values\": 7,\n        \"samples\": [\n          1185724,\n          224079,\n          20975\n        ],\n        \"semantic_type\": \"\",\n        \"description\": \"\"\n      }\n    }\n  ]\n}",
       "type": "dataframe",
       "variable_name": "df"
      },
      "text/html": [
       "\n",
       "  <div id=\"df-cd3e9a30-fc41-4a5d-b6a7-6bf9af937dd2\" class=\"colab-df-container\">\n",
       "    <div>\n",
       "<style scoped>\n",
       "    .dataframe tbody tr th:only-of-type {\n",
       "        vertical-align: middle;\n",
       "    }\n",
       "\n",
       "    .dataframe tbody tr th {\n",
       "        vertical-align: top;\n",
       "    }\n",
       "\n",
       "    .dataframe thead th {\n",
       "        text-align: right;\n",
       "    }\n",
       "</style>\n",
       "<table border=\"1\" class=\"dataframe\">\n",
       "  <thead>\n",
       "    <tr style=\"text-align: right;\">\n",
       "      <th></th>\n",
       "      <th>party_sobriety</th>\n",
       "      <th>count</th>\n",
       "    </tr>\n",
       "  </thead>\n",
       "  <tbody>\n",
       "    <tr>\n",
       "      <th>0</th>\n",
       "      <td>had not been drinking</td>\n",
       "      <td>1185724</td>\n",
       "    </tr>\n",
       "    <tr>\n",
       "      <th>1</th>\n",
       "      <td>impairment unknown</td>\n",
       "      <td>224079</td>\n",
       "    </tr>\n",
       "    <tr>\n",
       "      <th>2</th>\n",
       "      <td>not applicable</td>\n",
       "      <td>129640</td>\n",
       "    </tr>\n",
       "    <tr>\n",
       "      <th>3</th>\n",
       "      <td>had been drinking, under influence</td>\n",
       "      <td>111559</td>\n",
       "    </tr>\n",
       "    <tr>\n",
       "      <th>4</th>\n",
       "      <td>None</td>\n",
       "      <td>57946</td>\n",
       "    </tr>\n",
       "    <tr>\n",
       "      <th>5</th>\n",
       "      <td>had been drinking, impairment unknown</td>\n",
       "      <td>20975</td>\n",
       "    </tr>\n",
       "    <tr>\n",
       "      <th>6</th>\n",
       "      <td>had been drinking, not under influence</td>\n",
       "      <td>15967</td>\n",
       "    </tr>\n",
       "  </tbody>\n",
       "</table>\n",
       "</div>\n",
       "    <div class=\"colab-df-buttons\">\n",
       "\n",
       "  <div class=\"colab-df-container\">\n",
       "    <button class=\"colab-df-convert\" onclick=\"convertToInteractive('df-cd3e9a30-fc41-4a5d-b6a7-6bf9af937dd2')\"\n",
       "            title=\"Convert this dataframe to an interactive table.\"\n",
       "            style=\"display:none;\">\n",
       "\n",
       "  <svg xmlns=\"http://www.w3.org/2000/svg\" height=\"24px\" viewBox=\"0 -960 960 960\">\n",
       "    <path d=\"M120-120v-720h720v720H120Zm60-500h600v-160H180v160Zm220 220h160v-160H400v160Zm0 220h160v-160H400v160ZM180-400h160v-160H180v160Zm440 0h160v-160H620v160ZM180-180h160v-160H180v160Zm440 0h160v-160H620v160Z\"/>\n",
       "  </svg>\n",
       "    </button>\n",
       "\n",
       "  <style>\n",
       "    .colab-df-container {\n",
       "      display:flex;\n",
       "      gap: 12px;\n",
       "    }\n",
       "\n",
       "    .colab-df-convert {\n",
       "      background-color: #E8F0FE;\n",
       "      border: none;\n",
       "      border-radius: 50%;\n",
       "      cursor: pointer;\n",
       "      display: none;\n",
       "      fill: #1967D2;\n",
       "      height: 32px;\n",
       "      padding: 0 0 0 0;\n",
       "      width: 32px;\n",
       "    }\n",
       "\n",
       "    .colab-df-convert:hover {\n",
       "      background-color: #E2EBFA;\n",
       "      box-shadow: 0px 1px 2px rgba(60, 64, 67, 0.3), 0px 1px 3px 1px rgba(60, 64, 67, 0.15);\n",
       "      fill: #174EA6;\n",
       "    }\n",
       "\n",
       "    .colab-df-buttons div {\n",
       "      margin-bottom: 4px;\n",
       "    }\n",
       "\n",
       "    [theme=dark] .colab-df-convert {\n",
       "      background-color: #3B4455;\n",
       "      fill: #D2E3FC;\n",
       "    }\n",
       "\n",
       "    [theme=dark] .colab-df-convert:hover {\n",
       "      background-color: #434B5C;\n",
       "      box-shadow: 0px 1px 3px 1px rgba(0, 0, 0, 0.15);\n",
       "      filter: drop-shadow(0px 1px 2px rgba(0, 0, 0, 0.3));\n",
       "      fill: #FFFFFF;\n",
       "    }\n",
       "  </style>\n",
       "\n",
       "    <script>\n",
       "      const buttonEl =\n",
       "        document.querySelector('#df-cd3e9a30-fc41-4a5d-b6a7-6bf9af937dd2 button.colab-df-convert');\n",
       "      buttonEl.style.display =\n",
       "        google.colab.kernel.accessAllowed ? 'block' : 'none';\n",
       "\n",
       "      async function convertToInteractive(key) {\n",
       "        const element = document.querySelector('#df-cd3e9a30-fc41-4a5d-b6a7-6bf9af937dd2');\n",
       "        const dataTable =\n",
       "          await google.colab.kernel.invokeFunction('convertToInteractive',\n",
       "                                                    [key], {});\n",
       "        if (!dataTable) return;\n",
       "\n",
       "        const docLinkHtml = 'Like what you see? Visit the ' +\n",
       "          '<a target=\"_blank\" href=https://colab.research.google.com/notebooks/data_table.ipynb>data table notebook</a>'\n",
       "          + ' to learn more about interactive tables.';\n",
       "        element.innerHTML = '';\n",
       "        dataTable['output_type'] = 'display_data';\n",
       "        await google.colab.output.renderOutput(dataTable, element);\n",
       "        const docLink = document.createElement('div');\n",
       "        docLink.innerHTML = docLinkHtml;\n",
       "        element.appendChild(docLink);\n",
       "      }\n",
       "    </script>\n",
       "  </div>\n",
       "\n",
       "\n",
       "<div id=\"df-abbd24dd-aef4-457a-bf92-a9cec5ed9d68\">\n",
       "  <button class=\"colab-df-quickchart\" onclick=\"quickchart('df-abbd24dd-aef4-457a-bf92-a9cec5ed9d68')\"\n",
       "            title=\"Suggest charts\"\n",
       "            style=\"display:none;\">\n",
       "\n",
       "<svg xmlns=\"http://www.w3.org/2000/svg\" height=\"24px\"viewBox=\"0 0 24 24\"\n",
       "     width=\"24px\">\n",
       "    <g>\n",
       "        <path d=\"M19 3H5c-1.1 0-2 .9-2 2v14c0 1.1.9 2 2 2h14c1.1 0 2-.9 2-2V5c0-1.1-.9-2-2-2zM9 17H7v-7h2v7zm4 0h-2V7h2v10zm4 0h-2v-4h2v4z\"/>\n",
       "    </g>\n",
       "</svg>\n",
       "  </button>\n",
       "\n",
       "<style>\n",
       "  .colab-df-quickchart {\n",
       "      --bg-color: #E8F0FE;\n",
       "      --fill-color: #1967D2;\n",
       "      --hover-bg-color: #E2EBFA;\n",
       "      --hover-fill-color: #174EA6;\n",
       "      --disabled-fill-color: #AAA;\n",
       "      --disabled-bg-color: #DDD;\n",
       "  }\n",
       "\n",
       "  [theme=dark] .colab-df-quickchart {\n",
       "      --bg-color: #3B4455;\n",
       "      --fill-color: #D2E3FC;\n",
       "      --hover-bg-color: #434B5C;\n",
       "      --hover-fill-color: #FFFFFF;\n",
       "      --disabled-bg-color: #3B4455;\n",
       "      --disabled-fill-color: #666;\n",
       "  }\n",
       "\n",
       "  .colab-df-quickchart {\n",
       "    background-color: var(--bg-color);\n",
       "    border: none;\n",
       "    border-radius: 50%;\n",
       "    cursor: pointer;\n",
       "    display: none;\n",
       "    fill: var(--fill-color);\n",
       "    height: 32px;\n",
       "    padding: 0;\n",
       "    width: 32px;\n",
       "  }\n",
       "\n",
       "  .colab-df-quickchart:hover {\n",
       "    background-color: var(--hover-bg-color);\n",
       "    box-shadow: 0 1px 2px rgba(60, 64, 67, 0.3), 0 1px 3px 1px rgba(60, 64, 67, 0.15);\n",
       "    fill: var(--button-hover-fill-color);\n",
       "  }\n",
       "\n",
       "  .colab-df-quickchart-complete:disabled,\n",
       "  .colab-df-quickchart-complete:disabled:hover {\n",
       "    background-color: var(--disabled-bg-color);\n",
       "    fill: var(--disabled-fill-color);\n",
       "    box-shadow: none;\n",
       "  }\n",
       "\n",
       "  .colab-df-spinner {\n",
       "    border: 2px solid var(--fill-color);\n",
       "    border-color: transparent;\n",
       "    border-bottom-color: var(--fill-color);\n",
       "    animation:\n",
       "      spin 1s steps(1) infinite;\n",
       "  }\n",
       "\n",
       "  @keyframes spin {\n",
       "    0% {\n",
       "      border-color: transparent;\n",
       "      border-bottom-color: var(--fill-color);\n",
       "      border-left-color: var(--fill-color);\n",
       "    }\n",
       "    20% {\n",
       "      border-color: transparent;\n",
       "      border-left-color: var(--fill-color);\n",
       "      border-top-color: var(--fill-color);\n",
       "    }\n",
       "    30% {\n",
       "      border-color: transparent;\n",
       "      border-left-color: var(--fill-color);\n",
       "      border-top-color: var(--fill-color);\n",
       "      border-right-color: var(--fill-color);\n",
       "    }\n",
       "    40% {\n",
       "      border-color: transparent;\n",
       "      border-right-color: var(--fill-color);\n",
       "      border-top-color: var(--fill-color);\n",
       "    }\n",
       "    60% {\n",
       "      border-color: transparent;\n",
       "      border-right-color: var(--fill-color);\n",
       "    }\n",
       "    80% {\n",
       "      border-color: transparent;\n",
       "      border-right-color: var(--fill-color);\n",
       "      border-bottom-color: var(--fill-color);\n",
       "    }\n",
       "    90% {\n",
       "      border-color: transparent;\n",
       "      border-bottom-color: var(--fill-color);\n",
       "    }\n",
       "  }\n",
       "</style>\n",
       "\n",
       "  <script>\n",
       "    async function quickchart(key) {\n",
       "      const quickchartButtonEl =\n",
       "        document.querySelector('#' + key + ' button');\n",
       "      quickchartButtonEl.disabled = true;  // To prevent multiple clicks.\n",
       "      quickchartButtonEl.classList.add('colab-df-spinner');\n",
       "      try {\n",
       "        const charts = await google.colab.kernel.invokeFunction(\n",
       "            'suggestCharts', [key], {});\n",
       "      } catch (error) {\n",
       "        console.error('Error during call to suggestCharts:', error);\n",
       "      }\n",
       "      quickchartButtonEl.classList.remove('colab-df-spinner');\n",
       "      quickchartButtonEl.classList.add('colab-df-quickchart-complete');\n",
       "    }\n",
       "    (() => {\n",
       "      let quickchartButtonEl =\n",
       "        document.querySelector('#df-abbd24dd-aef4-457a-bf92-a9cec5ed9d68 button');\n",
       "      quickchartButtonEl.style.display =\n",
       "        google.colab.kernel.accessAllowed ? 'block' : 'none';\n",
       "    })();\n",
       "  </script>\n",
       "</div>\n",
       "    </div>\n",
       "  </div>\n"
      ],
      "text/plain": [
       "                           party_sobriety    count\n",
       "0                   had not been drinking  1185724\n",
       "1                      impairment unknown   224079\n",
       "2                          not applicable   129640\n",
       "3      had been drinking, under influence   111559\n",
       "4                                    None    57946\n",
       "5   had been drinking, impairment unknown    20975\n",
       "6  had been drinking, not under influence    15967"
      ]
     },
     "metadata": {},
     "output_type": "display_data"
    }
   ],
   "source": [
    "query = '''\n",
    "SELECT party_sobriety, COUNT(DISTINCT case_id)\n",
    "FROM parties\n",
    "GROUP BY party_sobriety\n",
    "ORDER BY COUNT(DISTINCT case_id) DESC\n",
    "'''\n",
    "df = pd.read_sql_query(query, con=con)\n",
    "display(df)\n"
   ]
  },
  {
   "cell_type": "markdown",
   "id": "404ba89a",
   "metadata": {
    "id": "404ba89a"
   },
   "source": [
    "Посмотрел на количество участников по их состоянию трезвости. Больше всего трезвых участников."
   ]
  },
  {
   "cell_type": "code",
   "execution_count": null,
   "id": "89ba6375",
   "metadata": {
    "colab": {
     "base_uri": "https://localhost:8080/",
     "height": 753
    },
    "id": "89ba6375",
    "outputId": "25ea3363-9bd2-4cda-ad39-e9d7f5a6cca5"
   },
   "outputs": [
    {
     "data": {
      "application/vnd.google.colaboratory.intrinsic+json": {
       "summary": "{\n  \"name\": \"df\",\n  \"rows\": 5,\n  \"fields\": [\n    {\n      \"column\": \"collision_damage\",\n      \"properties\": {\n        \"dtype\": \"string\",\n        \"num_unique_values\": 5,\n        \"samples\": [\n          \"middle damage\",\n          \"fatal\",\n          \"scratch\"\n        ],\n        \"semantic_type\": \"\",\n        \"description\": \"\"\n      }\n    },\n    {\n      \"column\": \"count\",\n      \"properties\": {\n        \"dtype\": \"number\",\n        \"std\": 25854,\n        \"min\": 2854,\n        \"max\": 67226,\n        \"num_unique_values\": 5,\n        \"samples\": [\n          23050,\n          2854,\n          17899\n        ],\n        \"semantic_type\": \"\",\n        \"description\": \"\"\n      }\n    }\n  ]\n}",
       "type": "dataframe",
       "variable_name": "df"
      },
      "text/html": [
       "\n",
       "  <div id=\"df-8ffa305f-471c-433f-a4ff-7d7d34559b2d\" class=\"colab-df-container\">\n",
       "    <div>\n",
       "<style scoped>\n",
       "    .dataframe tbody tr th:only-of-type {\n",
       "        vertical-align: middle;\n",
       "    }\n",
       "\n",
       "    .dataframe tbody tr th {\n",
       "        vertical-align: top;\n",
       "    }\n",
       "\n",
       "    .dataframe thead th {\n",
       "        text-align: right;\n",
       "    }\n",
       "</style>\n",
       "<table border=\"1\" class=\"dataframe\">\n",
       "  <thead>\n",
       "    <tr style=\"text-align: right;\">\n",
       "      <th></th>\n",
       "      <th>collision_damage</th>\n",
       "      <th>count</th>\n",
       "    </tr>\n",
       "  </thead>\n",
       "  <tbody>\n",
       "    <tr>\n",
       "      <th>0</th>\n",
       "      <td>small damage</td>\n",
       "      <td>67226</td>\n",
       "    </tr>\n",
       "    <tr>\n",
       "      <th>1</th>\n",
       "      <td>middle damage</td>\n",
       "      <td>23050</td>\n",
       "    </tr>\n",
       "    <tr>\n",
       "      <th>2</th>\n",
       "      <td>scratch</td>\n",
       "      <td>17899</td>\n",
       "    </tr>\n",
       "    <tr>\n",
       "      <th>3</th>\n",
       "      <td>severe damage</td>\n",
       "      <td>6063</td>\n",
       "    </tr>\n",
       "    <tr>\n",
       "      <th>4</th>\n",
       "      <td>fatal</td>\n",
       "      <td>2854</td>\n",
       "    </tr>\n",
       "  </tbody>\n",
       "</table>\n",
       "</div>\n",
       "    <div class=\"colab-df-buttons\">\n",
       "\n",
       "  <div class=\"colab-df-container\">\n",
       "    <button class=\"colab-df-convert\" onclick=\"convertToInteractive('df-8ffa305f-471c-433f-a4ff-7d7d34559b2d')\"\n",
       "            title=\"Convert this dataframe to an interactive table.\"\n",
       "            style=\"display:none;\">\n",
       "\n",
       "  <svg xmlns=\"http://www.w3.org/2000/svg\" height=\"24px\" viewBox=\"0 -960 960 960\">\n",
       "    <path d=\"M120-120v-720h720v720H120Zm60-500h600v-160H180v160Zm220 220h160v-160H400v160Zm0 220h160v-160H400v160ZM180-400h160v-160H180v160Zm440 0h160v-160H620v160ZM180-180h160v-160H180v160Zm440 0h160v-160H620v160Z\"/>\n",
       "  </svg>\n",
       "    </button>\n",
       "\n",
       "  <style>\n",
       "    .colab-df-container {\n",
       "      display:flex;\n",
       "      gap: 12px;\n",
       "    }\n",
       "\n",
       "    .colab-df-convert {\n",
       "      background-color: #E8F0FE;\n",
       "      border: none;\n",
       "      border-radius: 50%;\n",
       "      cursor: pointer;\n",
       "      display: none;\n",
       "      fill: #1967D2;\n",
       "      height: 32px;\n",
       "      padding: 0 0 0 0;\n",
       "      width: 32px;\n",
       "    }\n",
       "\n",
       "    .colab-df-convert:hover {\n",
       "      background-color: #E2EBFA;\n",
       "      box-shadow: 0px 1px 2px rgba(60, 64, 67, 0.3), 0px 1px 3px 1px rgba(60, 64, 67, 0.15);\n",
       "      fill: #174EA6;\n",
       "    }\n",
       "\n",
       "    .colab-df-buttons div {\n",
       "      margin-bottom: 4px;\n",
       "    }\n",
       "\n",
       "    [theme=dark] .colab-df-convert {\n",
       "      background-color: #3B4455;\n",
       "      fill: #D2E3FC;\n",
       "    }\n",
       "\n",
       "    [theme=dark] .colab-df-convert:hover {\n",
       "      background-color: #434B5C;\n",
       "      box-shadow: 0px 1px 3px 1px rgba(0, 0, 0, 0.15);\n",
       "      filter: drop-shadow(0px 1px 2px rgba(0, 0, 0, 0.3));\n",
       "      fill: #FFFFFF;\n",
       "    }\n",
       "  </style>\n",
       "\n",
       "    <script>\n",
       "      const buttonEl =\n",
       "        document.querySelector('#df-8ffa305f-471c-433f-a4ff-7d7d34559b2d button.colab-df-convert');\n",
       "      buttonEl.style.display =\n",
       "        google.colab.kernel.accessAllowed ? 'block' : 'none';\n",
       "\n",
       "      async function convertToInteractive(key) {\n",
       "        const element = document.querySelector('#df-8ffa305f-471c-433f-a4ff-7d7d34559b2d');\n",
       "        const dataTable =\n",
       "          await google.colab.kernel.invokeFunction('convertToInteractive',\n",
       "                                                    [key], {});\n",
       "        if (!dataTable) return;\n",
       "\n",
       "        const docLinkHtml = 'Like what you see? Visit the ' +\n",
       "          '<a target=\"_blank\" href=https://colab.research.google.com/notebooks/data_table.ipynb>data table notebook</a>'\n",
       "          + ' to learn more about interactive tables.';\n",
       "        element.innerHTML = '';\n",
       "        dataTable['output_type'] = 'display_data';\n",
       "        await google.colab.output.renderOutput(dataTable, element);\n",
       "        const docLink = document.createElement('div');\n",
       "        docLink.innerHTML = docLinkHtml;\n",
       "        element.appendChild(docLink);\n",
       "      }\n",
       "    </script>\n",
       "  </div>\n",
       "\n",
       "\n",
       "<div id=\"df-96e2cfe2-e7c4-467e-8433-ab4a02014c3a\">\n",
       "  <button class=\"colab-df-quickchart\" onclick=\"quickchart('df-96e2cfe2-e7c4-467e-8433-ab4a02014c3a')\"\n",
       "            title=\"Suggest charts\"\n",
       "            style=\"display:none;\">\n",
       "\n",
       "<svg xmlns=\"http://www.w3.org/2000/svg\" height=\"24px\"viewBox=\"0 0 24 24\"\n",
       "     width=\"24px\">\n",
       "    <g>\n",
       "        <path d=\"M19 3H5c-1.1 0-2 .9-2 2v14c0 1.1.9 2 2 2h14c1.1 0 2-.9 2-2V5c0-1.1-.9-2-2-2zM9 17H7v-7h2v7zm4 0h-2V7h2v10zm4 0h-2v-4h2v4z\"/>\n",
       "    </g>\n",
       "</svg>\n",
       "  </button>\n",
       "\n",
       "<style>\n",
       "  .colab-df-quickchart {\n",
       "      --bg-color: #E8F0FE;\n",
       "      --fill-color: #1967D2;\n",
       "      --hover-bg-color: #E2EBFA;\n",
       "      --hover-fill-color: #174EA6;\n",
       "      --disabled-fill-color: #AAA;\n",
       "      --disabled-bg-color: #DDD;\n",
       "  }\n",
       "\n",
       "  [theme=dark] .colab-df-quickchart {\n",
       "      --bg-color: #3B4455;\n",
       "      --fill-color: #D2E3FC;\n",
       "      --hover-bg-color: #434B5C;\n",
       "      --hover-fill-color: #FFFFFF;\n",
       "      --disabled-bg-color: #3B4455;\n",
       "      --disabled-fill-color: #666;\n",
       "  }\n",
       "\n",
       "  .colab-df-quickchart {\n",
       "    background-color: var(--bg-color);\n",
       "    border: none;\n",
       "    border-radius: 50%;\n",
       "    cursor: pointer;\n",
       "    display: none;\n",
       "    fill: var(--fill-color);\n",
       "    height: 32px;\n",
       "    padding: 0;\n",
       "    width: 32px;\n",
       "  }\n",
       "\n",
       "  .colab-df-quickchart:hover {\n",
       "    background-color: var(--hover-bg-color);\n",
       "    box-shadow: 0 1px 2px rgba(60, 64, 67, 0.3), 0 1px 3px 1px rgba(60, 64, 67, 0.15);\n",
       "    fill: var(--button-hover-fill-color);\n",
       "  }\n",
       "\n",
       "  .colab-df-quickchart-complete:disabled,\n",
       "  .colab-df-quickchart-complete:disabled:hover {\n",
       "    background-color: var(--disabled-bg-color);\n",
       "    fill: var(--disabled-fill-color);\n",
       "    box-shadow: none;\n",
       "  }\n",
       "\n",
       "  .colab-df-spinner {\n",
       "    border: 2px solid var(--fill-color);\n",
       "    border-color: transparent;\n",
       "    border-bottom-color: var(--fill-color);\n",
       "    animation:\n",
       "      spin 1s steps(1) infinite;\n",
       "  }\n",
       "\n",
       "  @keyframes spin {\n",
       "    0% {\n",
       "      border-color: transparent;\n",
       "      border-bottom-color: var(--fill-color);\n",
       "      border-left-color: var(--fill-color);\n",
       "    }\n",
       "    20% {\n",
       "      border-color: transparent;\n",
       "      border-left-color: var(--fill-color);\n",
       "      border-top-color: var(--fill-color);\n",
       "    }\n",
       "    30% {\n",
       "      border-color: transparent;\n",
       "      border-left-color: var(--fill-color);\n",
       "      border-top-color: var(--fill-color);\n",
       "      border-right-color: var(--fill-color);\n",
       "    }\n",
       "    40% {\n",
       "      border-color: transparent;\n",
       "      border-right-color: var(--fill-color);\n",
       "      border-top-color: var(--fill-color);\n",
       "    }\n",
       "    60% {\n",
       "      border-color: transparent;\n",
       "      border-right-color: var(--fill-color);\n",
       "    }\n",
       "    80% {\n",
       "      border-color: transparent;\n",
       "      border-right-color: var(--fill-color);\n",
       "      border-bottom-color: var(--fill-color);\n",
       "    }\n",
       "    90% {\n",
       "      border-color: transparent;\n",
       "      border-bottom-color: var(--fill-color);\n",
       "    }\n",
       "  }\n",
       "</style>\n",
       "\n",
       "  <script>\n",
       "    async function quickchart(key) {\n",
       "      const quickchartButtonEl =\n",
       "        document.querySelector('#' + key + ' button');\n",
       "      quickchartButtonEl.disabled = true;  // To prevent multiple clicks.\n",
       "      quickchartButtonEl.classList.add('colab-df-spinner');\n",
       "      try {\n",
       "        const charts = await google.colab.kernel.invokeFunction(\n",
       "            'suggestCharts', [key], {});\n",
       "      } catch (error) {\n",
       "        console.error('Error during call to suggestCharts:', error);\n",
       "      }\n",
       "      quickchartButtonEl.classList.remove('colab-df-spinner');\n",
       "      quickchartButtonEl.classList.add('colab-df-quickchart-complete');\n",
       "    }\n",
       "    (() => {\n",
       "      let quickchartButtonEl =\n",
       "        document.querySelector('#df-96e2cfe2-e7c4-467e-8433-ab4a02014c3a button');\n",
       "      quickchartButtonEl.style.display =\n",
       "        google.colab.kernel.accessAllowed ? 'block' : 'none';\n",
       "    })();\n",
       "  </script>\n",
       "</div>\n",
       "    </div>\n",
       "  </div>\n"
      ],
      "text/plain": [
       "  collision_damage  count\n",
       "0     small damage  67226\n",
       "1    middle damage  23050\n",
       "2          scratch  17899\n",
       "3    severe damage   6063\n",
       "4            fatal   2854"
      ]
     },
     "metadata": {},
     "output_type": "display_data"
    },
    {
     "data": {
      "image/png": "[encoded data removed]",
      "text/plain": [
       "<Figure size 1000x600 with 1 Axes>"
      ]
     },
     "metadata": {},
     "output_type": "display_data"
    }
   ],
   "source": [
    "query = '''\n",
    "WITH p AS (\n",
    "SELECT case_id, party_sobriety\n",
    "FROM parties\n",
    "WHERE at_fault=1 AND party_sobriety IN ('had been drinking, under influence',\n",
    "'had been drinking, not under influence'))\n",
    "SELECT col.collision_damage, COUNT(DISTINCT col.case_id)\n",
    "FROM collisions col\n",
    "INNER JOIN p ON p.case_id=col.case_id\n",
    "WHERE DATE_TRUNC('month', collision_date)::date<'2012-06-01'\n",
    "GROUP BY col.collision_damage\n",
    "ORDER BY COUNT(DISTINCT col.case_id) DESC;\n",
    "'''\n",
    "df = pd.read_sql_query(query, con=con)\n",
    "display(df)\n",
    "plt.figure(figsize=(10, 6))\n",
    "plt.bar(df['collision_damage'], df['count'])\n",
    "plt.xlabel('Степень трезвости')\n",
    "plt.ylabel('Количество')\n",
    "plt.title('Количество аварий в зависимости от степени трезвости виновника')\n",
    "plt.show();"
   ]
  },
  {
   "cell_type": "markdown",
   "id": "5a82f550",
   "metadata": {
    "id": "5a82f550"
   },
   "source": [
    "* Оказалось, что больше всего аварий по вине нетрезвых водителей носят небольшую и среднюю серьезность."
   ]
  },
  {
   "cell_type": "markdown",
   "id": "35ecc3eb",
   "metadata": {
    "id": "35ecc3eb"
   },
   "source": [
    "## Подготовка набора данных на основе первичного предположения заказчика"
   ]
  },
  {
   "cell_type": "markdown",
   "id": "f8b22216-8db2-49db-8efb-e5e91f409c22",
   "metadata": {},
   "source": [
    "* Загружаю признаки, которые показались наиболее важными для оценки вероятности ДТП. \n",
    "\n",
    "* Добавил комментарии к признакам, которые выбираю.\n",
    "\n",
    "* Важно учитывать, что в БД есть признаки, которые известны только после ДТП. Для решения задачи они не подойдут."
   ]
  },
  {
   "cell_type": "code",
   "execution_count": null,
   "id": "aa9f0339",
   "metadata": {
    "colab": {
     "base_uri": "https://localhost:8080/",
     "height": 313
    },
    "id": "aa9f0339",
    "outputId": "e8236a5a-8bc9-4620-9e0a-12e221dad463"
   },
   "outputs": [
    {
     "data": {
      "application/vnd.google.colaboratory.intrinsic+json": {
       "repr_error": "Out of range float values are not JSON compliant: nan",
       "type": "dataframe"
      },
      "text/html": [
       "\n",
       "  <div id=\"df-6d3fc75d-a2c9-434e-a2b9-b1a4c4cffbbe\" class=\"colab-df-container\">\n",
       "    <div>\n",
       "<style scoped>\n",
       "    .dataframe tbody tr th:only-of-type {\n",
       "        vertical-align: middle;\n",
       "    }\n",
       "\n",
       "    .dataframe tbody tr th {\n",
       "        vertical-align: top;\n",
       "    }\n",
       "\n",
       "    .dataframe thead th {\n",
       "        text-align: right;\n",
       "    }\n",
       "</style>\n",
       "<table border=\"1\" class=\"dataframe\">\n",
       "  <thead>\n",
       "    <tr style=\"text-align: right;\">\n",
       "      <th></th>\n",
       "      <th>distance</th>\n",
       "      <th>intersection</th>\n",
       "      <th>location_type</th>\n",
       "      <th>weather_1</th>\n",
       "      <th>pcf_violation_category</th>\n",
       "      <th>road_surface</th>\n",
       "      <th>road_condition_1</th>\n",
       "      <th>lighting</th>\n",
       "      <th>control_device</th>\n",
       "      <th>party_drug_physical</th>\n",
       "      <th>party_sobriety</th>\n",
       "      <th>cellphone_in_use</th>\n",
       "      <th>id</th>\n",
       "      <th>vehicle_age</th>\n",
       "      <th>at_fault</th>\n",
       "    </tr>\n",
       "  </thead>\n",
       "  <tbody>\n",
       "    <tr>\n",
       "      <th>0</th>\n",
       "      <td>0.0</td>\n",
       "      <td>1.0</td>\n",
       "      <td>None</td>\n",
       "      <td>clear</td>\n",
       "      <td>traffic signals and signs</td>\n",
       "      <td>dry</td>\n",
       "      <td>normal</td>\n",
       "      <td>daylight</td>\n",
       "      <td>functioning</td>\n",
       "      <td>None</td>\n",
       "      <td>had not been drinking</td>\n",
       "      <td>0.0</td>\n",
       "      <td>5461918</td>\n",
       "      <td>3.0</td>\n",
       "      <td>0</td>\n",
       "    </tr>\n",
       "    <tr>\n",
       "      <th>1</th>\n",
       "      <td>30.0</td>\n",
       "      <td>0.0</td>\n",
       "      <td>None</td>\n",
       "      <td>clear</td>\n",
       "      <td>wrong side of road</td>\n",
       "      <td>dry</td>\n",
       "      <td>normal</td>\n",
       "      <td>daylight</td>\n",
       "      <td>functioning</td>\n",
       "      <td>None</td>\n",
       "      <td>had not been drinking</td>\n",
       "      <td>0.0</td>\n",
       "      <td>5513536</td>\n",
       "      <td>10.0</td>\n",
       "      <td>0</td>\n",
       "    </tr>\n",
       "    <tr>\n",
       "      <th>2</th>\n",
       "      <td>30.0</td>\n",
       "      <td>0.0</td>\n",
       "      <td>ramp</td>\n",
       "      <td>cloudy</td>\n",
       "      <td>speeding</td>\n",
       "      <td>dry</td>\n",
       "      <td>normal</td>\n",
       "      <td>daylight</td>\n",
       "      <td>functioning</td>\n",
       "      <td>None</td>\n",
       "      <td>had not been drinking</td>\n",
       "      <td>NaN</td>\n",
       "      <td>5608843</td>\n",
       "      <td>2.0</td>\n",
       "      <td>0</td>\n",
       "    </tr>\n",
       "    <tr>\n",
       "      <th>3</th>\n",
       "      <td>197.0</td>\n",
       "      <td>0.0</td>\n",
       "      <td>None</td>\n",
       "      <td>clear</td>\n",
       "      <td>speeding</td>\n",
       "      <td>dry</td>\n",
       "      <td>normal</td>\n",
       "      <td>daylight</td>\n",
       "      <td>functioning</td>\n",
       "      <td>None</td>\n",
       "      <td>had not been drinking</td>\n",
       "      <td>0.0</td>\n",
       "      <td>5458050</td>\n",
       "      <td>0.0</td>\n",
       "      <td>0</td>\n",
       "    </tr>\n",
       "    <tr>\n",
       "      <th>4</th>\n",
       "      <td>218.0</td>\n",
       "      <td>0.0</td>\n",
       "      <td>None</td>\n",
       "      <td>raining</td>\n",
       "      <td>speeding</td>\n",
       "      <td>wet</td>\n",
       "      <td>normal</td>\n",
       "      <td>daylight</td>\n",
       "      <td>functioning</td>\n",
       "      <td>None</td>\n",
       "      <td>had not been drinking</td>\n",
       "      <td>0.0</td>\n",
       "      <td>5458124</td>\n",
       "      <td>NaN</td>\n",
       "      <td>0</td>\n",
       "    </tr>\n",
       "  </tbody>\n",
       "</table>\n",
       "</div>\n",
       "    <div class=\"colab-df-buttons\">\n",
       "\n",
       "  <div class=\"colab-df-container\">\n",
       "    <button class=\"colab-df-convert\" onclick=\"convertToInteractive('df-6d3fc75d-a2c9-434e-a2b9-b1a4c4cffbbe')\"\n",
       "            title=\"Convert this dataframe to an interactive table.\"\n",
       "            style=\"display:none;\">\n",
       "\n",
       "  <svg xmlns=\"http://www.w3.org/2000/svg\" height=\"24px\" viewBox=\"0 -960 960 960\">\n",
       "    <path d=\"M120-120v-720h720v720H120Zm60-500h600v-160H180v160Zm220 220h160v-160H400v160Zm0 220h160v-160H400v160ZM180-400h160v-160H180v160Zm440 0h160v-160H620v160ZM180-180h160v-160H180v160Zm440 0h160v-160H620v160Z\"/>\n",
       "  </svg>\n",
       "    </button>\n",
       "\n",
       "  <style>\n",
       "    .colab-df-container {\n",
       "      display:flex;\n",
       "      gap: 12px;\n",
       "    }\n",
       "\n",
       "    .colab-df-convert {\n",
       "      background-color: #E8F0FE;\n",
       "      border: none;\n",
       "      border-radius: 50%;\n",
       "      cursor: pointer;\n",
       "      display: none;\n",
       "      fill: #1967D2;\n",
       "      height: 32px;\n",
       "      padding: 0 0 0 0;\n",
       "      width: 32px;\n",
       "    }\n",
       "\n",
       "    .colab-df-convert:hover {\n",
       "      background-color: #E2EBFA;\n",
       "      box-shadow: 0px 1px 2px rgba(60, 64, 67, 0.3), 0px 1px 3px 1px rgba(60, 64, 67, 0.15);\n",
       "      fill: #174EA6;\n",
       "    }\n",
       "\n",
       "    .colab-df-buttons div {\n",
       "      margin-bottom: 4px;\n",
       "    }\n",
       "\n",
       "    [theme=dark] .colab-df-convert {\n",
       "      background-color: #3B4455;\n",
       "      fill: #D2E3FC;\n",
       "    }\n",
       "\n",
       "    [theme=dark] .colab-df-convert:hover {\n",
       "      background-color: #434B5C;\n",
       "      box-shadow: 0px 1px 3px 1px rgba(0, 0, 0, 0.15);\n",
       "      filter: drop-shadow(0px 1px 2px rgba(0, 0, 0, 0.3));\n",
       "      fill: #FFFFFF;\n",
       "    }\n",
       "  </style>\n",
       "\n",
       "    <script>\n",
       "      const buttonEl =\n",
       "        document.querySelector('#df-6d3fc75d-a2c9-434e-a2b9-b1a4c4cffbbe button.colab-df-convert');\n",
       "      buttonEl.style.display =\n",
       "        google.colab.kernel.accessAllowed ? 'block' : 'none';\n",
       "\n",
       "      async function convertToInteractive(key) {\n",
       "        const element = document.querySelector('#df-6d3fc75d-a2c9-434e-a2b9-b1a4c4cffbbe');\n",
       "        const dataTable =\n",
       "          await google.colab.kernel.invokeFunction('convertToInteractive',\n",
       "                                                    [key], {});\n",
       "        if (!dataTable) return;\n",
       "\n",
       "        const docLinkHtml = 'Like what you see? Visit the ' +\n",
       "          '<a target=\"_blank\" href=https://colab.research.google.com/notebooks/data_table.ipynb>data table notebook</a>'\n",
       "          + ' to learn more about interactive tables.';\n",
       "        element.innerHTML = '';\n",
       "        dataTable['output_type'] = 'display_data';\n",
       "        await google.colab.output.renderOutput(dataTable, element);\n",
       "        const docLink = document.createElement('div');\n",
       "        docLink.innerHTML = docLinkHtml;\n",
       "        element.appendChild(docLink);\n",
       "      }\n",
       "    </script>\n",
       "  </div>\n",
       "\n",
       "\n",
       "<div id=\"df-bdd8ba3f-4425-4038-892b-b69aafcb0ed8\">\n",
       "  <button class=\"colab-df-quickchart\" onclick=\"quickchart('df-bdd8ba3f-4425-4038-892b-b69aafcb0ed8')\"\n",
       "            title=\"Suggest charts\"\n",
       "            style=\"display:none;\">\n",
       "\n",
       "<svg xmlns=\"http://www.w3.org/2000/svg\" height=\"24px\"viewBox=\"0 0 24 24\"\n",
       "     width=\"24px\">\n",
       "    <g>\n",
       "        <path d=\"M19 3H5c-1.1 0-2 .9-2 2v14c0 1.1.9 2 2 2h14c1.1 0 2-.9 2-2V5c0-1.1-.9-2-2-2zM9 17H7v-7h2v7zm4 0h-2V7h2v10zm4 0h-2v-4h2v4z\"/>\n",
       "    </g>\n",
       "</svg>\n",
       "  </button>\n",
       "\n",
       "<style>\n",
       "  .colab-df-quickchart {\n",
       "      --bg-color: #E8F0FE;\n",
       "      --fill-color: #1967D2;\n",
       "      --hover-bg-color: #E2EBFA;\n",
       "      --hover-fill-color: #174EA6;\n",
       "      --disabled-fill-color: #AAA;\n",
       "      --disabled-bg-color: #DDD;\n",
       "  }\n",
       "\n",
       "  [theme=dark] .colab-df-quickchart {\n",
       "      --bg-color: #3B4455;\n",
       "      --fill-color: #D2E3FC;\n",
       "      --hover-bg-color: #434B5C;\n",
       "      --hover-fill-color: #FFFFFF;\n",
       "      --disabled-bg-color: #3B4455;\n",
       "      --disabled-fill-color: #666;\n",
       "  }\n",
       "\n",
       "  .colab-df-quickchart {\n",
       "    background-color: var(--bg-color);\n",
       "    border: none;\n",
       "    border-radius: 50%;\n",
       "    cursor: pointer;\n",
       "    display: none;\n",
       "    fill: var(--fill-color);\n",
       "    height: 32px;\n",
       "    padding: 0;\n",
       "    width: 32px;\n",
       "  }\n",
       "\n",
       "  .colab-df-quickchart:hover {\n",
       "    background-color: var(--hover-bg-color);\n",
       "    box-shadow: 0 1px 2px rgba(60, 64, 67, 0.3), 0 1px 3px 1px rgba(60, 64, 67, 0.15);\n",
       "    fill: var(--button-hover-fill-color);\n",
       "  }\n",
       "\n",
       "  .colab-df-quickchart-complete:disabled,\n",
       "  .colab-df-quickchart-complete:disabled:hover {\n",
       "    background-color: var(--disabled-bg-color);\n",
       "    fill: var(--disabled-fill-color);\n",
       "    box-shadow: none;\n",
       "  }\n",
       "\n",
       "  .colab-df-spinner {\n",
       "    border: 2px solid var(--fill-color);\n",
       "    border-color: transparent;\n",
       "    border-bottom-color: var(--fill-color);\n",
       "    animation:\n",
       "      spin 1s steps(1) infinite;\n",
       "  }\n",
       "\n",
       "  @keyframes spin {\n",
       "    0% {\n",
       "      border-color: transparent;\n",
       "      border-bottom-color: var(--fill-color);\n",
       "      border-left-color: var(--fill-color);\n",
       "    }\n",
       "    20% {\n",
       "      border-color: transparent;\n",
       "      border-left-color: var(--fill-color);\n",
       "      border-top-color: var(--fill-color);\n",
       "    }\n",
       "    30% {\n",
       "      border-color: transparent;\n",
       "      border-left-color: var(--fill-color);\n",
       "      border-top-color: var(--fill-color);\n",
       "      border-right-color: var(--fill-color);\n",
       "    }\n",
       "    40% {\n",
       "      border-color: transparent;\n",
       "      border-right-color: var(--fill-color);\n",
       "      border-top-color: var(--fill-color);\n",
       "    }\n",
       "    60% {\n",
       "      border-color: transparent;\n",
       "      border-right-color: var(--fill-color);\n",
       "    }\n",
       "    80% {\n",
       "      border-color: transparent;\n",
       "      border-right-color: var(--fill-color);\n",
       "      border-bottom-color: var(--fill-color);\n",
       "    }\n",
       "    90% {\n",
       "      border-color: transparent;\n",
       "      border-bottom-color: var(--fill-color);\n",
       "    }\n",
       "  }\n",
       "</style>\n",
       "\n",
       "  <script>\n",
       "    async function quickchart(key) {\n",
       "      const quickchartButtonEl =\n",
       "        document.querySelector('#' + key + ' button');\n",
       "      quickchartButtonEl.disabled = true;  // To prevent multiple clicks.\n",
       "      quickchartButtonEl.classList.add('colab-df-spinner');\n",
       "      try {\n",
       "        const charts = await google.colab.kernel.invokeFunction(\n",
       "            'suggestCharts', [key], {});\n",
       "      } catch (error) {\n",
       "        console.error('Error during call to suggestCharts:', error);\n",
       "      }\n",
       "      quickchartButtonEl.classList.remove('colab-df-spinner');\n",
       "      quickchartButtonEl.classList.add('colab-df-quickchart-complete');\n",
       "    }\n",
       "    (() => {\n",
       "      let quickchartButtonEl =\n",
       "        document.querySelector('#df-bdd8ba3f-4425-4038-892b-b69aafcb0ed8 button');\n",
       "      quickchartButtonEl.style.display =\n",
       "        google.colab.kernel.accessAllowed ? 'block' : 'none';\n",
       "    })();\n",
       "  </script>\n",
       "</div>\n",
       "    </div>\n",
       "  </div>\n"
      ],
      "text/plain": [
       "   distance  intersection location_type weather_1     pcf_violation_category  \\\n",
       "0       0.0           1.0          None     clear  traffic signals and signs   \n",
       "1      30.0           0.0          None     clear         wrong side of road   \n",
       "2      30.0           0.0          ramp    cloudy                   speeding   \n",
       "3     197.0           0.0          None     clear                   speeding   \n",
       "4     218.0           0.0          None   raining                   speeding   \n",
       "\n",
       "  road_surface road_condition_1  lighting control_device party_drug_physical  \\\n",
       "0          dry           normal  daylight    functioning                None   \n",
       "1          dry           normal  daylight    functioning                None   \n",
       "2          dry           normal  daylight    functioning                None   \n",
       "3          dry           normal  daylight    functioning                None   \n",
       "4          wet           normal  daylight    functioning                None   \n",
       "\n",
       "          party_sobriety  cellphone_in_use       id  vehicle_age  at_fault  \n",
       "0  had not been drinking               0.0  5461918          3.0         0  \n",
       "1  had not been drinking               0.0  5513536         10.0         0  \n",
       "2  had not been drinking               NaN  5608843          2.0         0  \n",
       "3  had not been drinking               0.0  5458050          0.0         0  \n",
       "4  had not been drinking               0.0  5458124          NaN         0  "
      ]
     },
     "metadata": {},
     "output_type": "display_data"
    }
   ],
   "source": [
    "query = '''\n",
    "WITH cp AS(\n",
    "    WITH p AS (\n",
    "        SELECT case_id id,\n",
    "        party_number,\n",
    "        party_drug_physical,\n",
    "        party_sobriety,\n",
    "        cellphone_in_use,\n",
    "        at_fault\n",
    "        FROM parties\n",
    "        WHERE party_type='car')\n",
    "    SELECT p.party_drug_physical,\n",
    "    p.party_sobriety,\n",
    "    p.cellphone_in_use,\n",
    "    p.id,\n",
    "    p.party_number,\n",
    "    v.vehicle_age,\n",
    "    p.at_fault\n",
    "    FROM vehicles v\n",
    "    INNER JOIN p ON p.id=v.case_id AND p.party_number=v.party_number)\n",
    "\n",
    "SELECT col.distance, --при формировании маршрута, возможно, это важный фактор\n",
    "col.intersection, --на перекрестке внимание водителя должно увеливаться\n",
    "col.location_type, --в зависимости от типа дороги это может быть важным\n",
    "col.weather_1, --погода часто становится помехой\n",
    "col.pcf_violation_category,--категорию нарушения в некоторых случаях можно предсказать\n",
    "col.road_surface,--покрытие дороги влияет на многие физические факторы(сцепление)\n",
    "col.road_condition_1,--дорожное состояние является также важным физ фактором\n",
    "col.lighting,--влияет на видимость, что очень важно\n",
    "col.control_device,--этот фактор не описывает ДТП, мне не очень понятно, что это.\n",
    "                    --необходимо уточнить у заказчика, но он лишним не будет\n",
    "cp.party_drug_physical, --медикаменты и мало сна могут повлиять на реакцию водителя\n",
    "cp.party_sobriety, --один из важнейших факторов, снижающий внимание водителя\n",
    "cp.cellphone_in_use, --телефон за рулем может отвлесь\n",
    "cp.id, --уникальный id для проверки дубликатов\n",
    "cp.vehicle_age, --старым авто нужно больше внимание, а некоторые водить сложнее\n",
    "        --Кроме того, когда старый автомобиль в последний раз был на ТО? \n",
    "        -- возможно это было бы важно знать\n",
    "cp.at_fault --целевой признак\n",
    "\n",
    "FROM collisions col\n",
    "INNER JOIN cp ON cp.id=col.case_id\n",
    "WHERE col.collision_damage!='scratch' AND EXTRACT(YEAR FROM\n",
    "CAST(col.collision_date AS date))=2012\n",
    "'''\n",
    "df = pd.read_sql_query(query, con=con)\n",
    "display(df.head())"
   ]
  },
  {
   "cell_type": "code",
   "execution_count": null,
   "id": "d1727694",
   "metadata": {
    "colab": {
     "base_uri": "https://localhost:8080/"
    },
    "id": "d1727694",
    "outputId": "37cd47a9-c222-4457-d472-699939951de2"
   },
   "outputs": [
    {
     "name": "stdout",
     "output_type": "stream",
     "text": [
      "<class 'pandas.core.frame.DataFrame'>\n",
      "RangeIndex: 56248 entries, 0 to 56247\n",
      "Data columns (total 15 columns):\n",
      " #   Column                  Non-Null Count  Dtype  \n",
      "---  ------                  --------------  -----  \n",
      " 0   distance                56248 non-null  float64\n",
      " 1   intersection            56073 non-null  float64\n",
      " 2   location_type           25932 non-null  object \n",
      " 3   weather_1               56080 non-null  object \n",
      " 4   pcf_violation_category  55482 non-null  object \n",
      " 5   road_surface            55900 non-null  object \n",
      " 6   road_condition_1        55999 non-null  object \n",
      " 7   lighting                56094 non-null  object \n",
      " 8   control_device          56033 non-null  object \n",
      " 9   party_drug_physical     2857 non-null   object \n",
      " 10  party_sobriety          55376 non-null  object \n",
      " 11  cellphone_in_use        51777 non-null  float64\n",
      " 12  id                      56248 non-null  object \n",
      " 13  vehicle_age             54554 non-null  float64\n",
      " 14  at_fault                56248 non-null  int64  \n",
      "dtypes: float64(4), int64(1), object(10)\n",
      "memory usage: 6.4+ MB\n"
     ]
    }
   ],
   "source": [
    "df.info()"
   ]
  },
  {
   "cell_type": "code",
   "execution_count": null,
   "id": "c72fac0f",
   "metadata": {
    "colab": {
     "base_uri": "https://localhost:8080/"
    },
    "id": "c72fac0f",
    "outputId": "b0e24a83-3d61-4e26-eb10-513e4071048e"
   },
   "outputs": [
    {
     "name": "stdout",
     "output_type": "stream",
     "text": [
      "Количество явных дубликатов: 288\n",
      "Количество явных дубликатов: 0\n"
     ]
    }
   ],
   "source": [
    "print('Количество явных дубликатов:', df.duplicated().sum())\n",
    "df = df.drop_duplicates()\n",
    "print('Количество явных дубликатов:', df.duplicated().sum())"
   ]
  },
  {
   "cell_type": "markdown",
   "id": "8a161635",
   "metadata": {
    "id": "8a161635"
   },
   "source": [
    "Есть явные дупликаты, удалил их."
   ]
  },
  {
   "cell_type": "code",
   "execution_count": null,
   "id": "a38a293c",
   "metadata": {
    "id": "a38a293c"
   },
   "outputs": [],
   "source": [
    "df = df.drop(['id'], axis=1)"
   ]
  },
  {
   "cell_type": "markdown",
   "id": "f2b0ad8b",
   "metadata": {
    "id": "f2b0ad8b"
   },
   "source": [
    "Теперь удалю столбец id, так как мы уже проверили явные дубликаты."
   ]
  },
  {
   "cell_type": "code",
   "execution_count": null,
   "id": "e432137e",
   "metadata": {
    "colab": {
     "base_uri": "https://localhost:8080/"
    },
    "id": "e432137e",
    "outputId": "89c6593d-1947-44e7-d679-6726c191434d"
   },
   "outputs": [
    {
     "name": "stdout",
     "output_type": "stream",
     "text": [
      "<class 'pandas.core.frame.DataFrame'>\n",
      "Index: 55960 entries, 0 to 56247\n",
      "Data columns (total 14 columns):\n",
      " #   Column                  Non-Null Count  Dtype  \n",
      "---  ------                  --------------  -----  \n",
      " 0   distance                55960 non-null  float64\n",
      " 1   intersection            55786 non-null  float64\n",
      " 2   location_type           25780 non-null  object \n",
      " 3   weather_1               55793 non-null  object \n",
      " 4   pcf_violation_category  55200 non-null  object \n",
      " 5   road_surface            55618 non-null  object \n",
      " 6   road_condition_1        55714 non-null  object \n",
      " 7   lighting                55807 non-null  object \n",
      " 8   control_device          55745 non-null  object \n",
      " 9   party_drug_physical     2854 non-null   object \n",
      " 10  party_sobriety          55091 non-null  object \n",
      " 11  cellphone_in_use        51511 non-null  float64\n",
      " 12  vehicle_age             54279 non-null  float64\n",
      " 13  at_fault                55960 non-null  int64  \n",
      "dtypes: float64(4), int64(1), object(9)\n",
      "memory usage: 6.4+ MB\n"
     ]
    }
   ],
   "source": [
    "df.info()"
   ]
  },
  {
   "cell_type": "markdown",
   "id": "1be48890",
   "metadata": {
    "id": "1be48890"
   },
   "source": [
    "Проверю категориальные признаки на неявные дубликаты."
   ]
  },
  {
   "cell_type": "code",
   "execution_count": null,
   "id": "d9dde8f6",
   "metadata": {
    "colab": {
     "base_uri": "https://localhost:8080/"
    },
    "id": "d9dde8f6",
    "outputId": "8d4c0277-ccf0-4087-d1d4-70879896fcd1"
   },
   "outputs": [
    {
     "name": "stdout",
     "output_type": "stream",
     "text": [
      "location_type [None 'ramp' 'highway' 'intersection']\n",
      "\n",
      "weather_1 ['clear' 'cloudy' 'raining' 'fog' None 'snowing' 'wind' 'other']\n",
      "\n",
      "pcf_violation_category ['traffic signals and signs' 'wrong side of road' 'speeding'\n",
      " 'other hazardous violation' 'automobile right of way'\n",
      " 'unsafe starting or backing' None 'following too closely'\n",
      " 'unsafe lane change' 'dui' 'unknown' 'improper turning'\n",
      " 'pedestrian violation' 'improper passing'\n",
      " 'other than driver (or pedestrian)' 'hazardous parking'\n",
      " 'other improper driving' 'pedestrian right of way' 'other equipment'\n",
      " 'impeding traffic' 'brakes' 'lights' 'fell asleep']\n",
      "\n",
      "road_surface ['dry' 'wet' None 'snowy' 'slippery']\n",
      "\n",
      "road_condition_1 ['normal' 'construction' 'holes' 'loose material' 'other' 'obstruction'\n",
      " None 'flooded' 'reduced width']\n",
      "\n",
      "lighting ['daylight' 'dark with street lights' 'dark with no street lights'\n",
      " 'dusk or dawn' 'dark with street lights not functioning' None]\n",
      "\n",
      "control_device ['functioning' 'none' 'not functioning' None 'obscured']\n",
      "\n",
      "party_drug_physical [None 'G' 'under drug influence' 'not applicable' 'sleepy/fatigued'\n",
      " 'impairment - physical']\n",
      "\n",
      "party_sobriety ['had not been drinking' 'had been drinking, not under influence'\n",
      " 'had been drinking, under influence' None 'impairment unknown'\n",
      " 'had been drinking, impairment unknown' 'not applicable']\n",
      "\n"
     ]
    }
   ],
   "source": [
    "cat_feat = df.select_dtypes(include='object').columns\n",
    "for c in cat_feat:\n",
    "    print(c, df[c].unique())\n",
    "    print()"
   ]
  },
  {
   "cell_type": "markdown",
   "id": "ad87fc70",
   "metadata": {
    "id": "ad87fc70"
   },
   "source": [
    "Неявных дубликатов не обнаружил."
   ]
  },
  {
   "cell_type": "code",
   "execution_count": null,
   "id": "1c52a3e0",
   "metadata": {
    "colab": {
     "base_uri": "https://localhost:8080/",
     "height": 523
    },
    "id": "1c52a3e0",
    "outputId": "83f8ee81-93b9-4fa4-a97f-bbe753cf0762"
   },
   "outputs": [
    {
     "data": {
      "text/html": [
       "<div>\n",
       "<style scoped>\n",
       "    .dataframe tbody tr th:only-of-type {\n",
       "        vertical-align: middle;\n",
       "    }\n",
       "\n",
       "    .dataframe tbody tr th {\n",
       "        vertical-align: top;\n",
       "    }\n",
       "\n",
       "    .dataframe thead th {\n",
       "        text-align: right;\n",
       "    }\n",
       "</style>\n",
       "<table border=\"1\" class=\"dataframe\">\n",
       "  <thead>\n",
       "    <tr style=\"text-align: right;\">\n",
       "      <th></th>\n",
       "      <th>Процент пропусков, %</th>\n",
       "    </tr>\n",
       "  </thead>\n",
       "  <tbody>\n",
       "    <tr>\n",
       "      <th>distance</th>\n",
       "      <td>0.000000</td>\n",
       "    </tr>\n",
       "    <tr>\n",
       "      <th>intersection</th>\n",
       "      <td>0.310936</td>\n",
       "    </tr>\n",
       "    <tr>\n",
       "      <th>location_type</th>\n",
       "      <td>53.931380</td>\n",
       "    </tr>\n",
       "    <tr>\n",
       "      <th>weather_1</th>\n",
       "      <td>0.298427</td>\n",
       "    </tr>\n",
       "    <tr>\n",
       "      <th>pcf_violation_category</th>\n",
       "      <td>1.358113</td>\n",
       "    </tr>\n",
       "    <tr>\n",
       "      <th>road_surface</th>\n",
       "      <td>0.611151</td>\n",
       "    </tr>\n",
       "    <tr>\n",
       "      <th>road_condition_1</th>\n",
       "      <td>0.439600</td>\n",
       "    </tr>\n",
       "    <tr>\n",
       "      <th>lighting</th>\n",
       "      <td>0.273410</td>\n",
       "    </tr>\n",
       "    <tr>\n",
       "      <th>control_device</th>\n",
       "      <td>0.384203</td>\n",
       "    </tr>\n",
       "    <tr>\n",
       "      <th>party_drug_physical</th>\n",
       "      <td>94.899929</td>\n",
       "    </tr>\n",
       "    <tr>\n",
       "      <th>party_sobriety</th>\n",
       "      <td>1.552895</td>\n",
       "    </tr>\n",
       "    <tr>\n",
       "      <th>cellphone_in_use</th>\n",
       "      <td>7.950322</td>\n",
       "    </tr>\n",
       "    <tr>\n",
       "      <th>vehicle_age</th>\n",
       "      <td>3.003931</td>\n",
       "    </tr>\n",
       "    <tr>\n",
       "      <th>at_fault</th>\n",
       "      <td>0.000000</td>\n",
       "    </tr>\n",
       "  </tbody>\n",
       "</table>\n",
       "</div><br><label><b>dtype:</b> float64</label>"
      ],
      "text/plain": [
       "distance                   0.000000\n",
       "intersection               0.310936\n",
       "location_type             53.931380\n",
       "weather_1                  0.298427\n",
       "pcf_violation_category     1.358113\n",
       "road_surface               0.611151\n",
       "road_condition_1           0.439600\n",
       "lighting                   0.273410\n",
       "control_device             0.384203\n",
       "party_drug_physical       94.899929\n",
       "party_sobriety             1.552895\n",
       "cellphone_in_use           7.950322\n",
       "vehicle_age                3.003931\n",
       "at_fault                   0.000000\n",
       "Name: Процент пропусков, %, dtype: float64"
      ]
     },
     "execution_count": 21,
     "metadata": {},
     "output_type": "execute_result"
    }
   ],
   "source": [
    "a = df.isna().sum()/df.shape[0]*100\n",
    "a = a.rename('Процент пропусков, %')\n",
    "a"
   ]
  },
  {
   "cell_type": "markdown",
   "id": "284359e7",
   "metadata": {
    "id": "284359e7"
   },
   "source": [
    "В данных есть пропуски."
   ]
  },
  {
   "cell_type": "code",
   "execution_count": null,
   "id": "d7330bb5",
   "metadata": {
    "id": "d7330bb5"
   },
   "outputs": [],
   "source": [
    "df = df.drop(['location_type', 'party_drug_physical'], axis=1)"
   ]
  },
  {
   "cell_type": "markdown",
   "id": "8d6a953b",
   "metadata": {
    "id": "8d6a953b"
   },
   "source": [
    "Удалю столбцы 'location_type', 'party_drug_physical', так как пропусков в них больше 50%, восстановить верно нет возможности."
   ]
  },
  {
   "cell_type": "code",
   "execution_count": null,
   "id": "50dc7798",
   "metadata": {
    "id": "50dc7798"
   },
   "outputs": [],
   "source": [
    "df = df.dropna(subset=['intersection', 'lighting'])"
   ]
  },
  {
   "cell_type": "markdown",
   "id": "1a98994d",
   "metadata": {
    "id": "1a98994d"
   },
   "source": [
    "В столбцах 'intersection', 'lighting' пропусков меньше 1%, поэтому просто удалю строки с пропусками."
   ]
  },
  {
   "cell_type": "code",
   "execution_count": null,
   "id": "06ad1a6e",
   "metadata": {
    "colab": {
     "base_uri": "https://localhost:8080/",
     "height": 460
    },
    "id": "06ad1a6e",
    "outputId": "1d787479-96ca-45ab-d3c6-afc5a432b394"
   },
   "outputs": [
    {
     "data": {
      "text/html": [
       "<div>\n",
       "<style scoped>\n",
       "    .dataframe tbody tr th:only-of-type {\n",
       "        vertical-align: middle;\n",
       "    }\n",
       "\n",
       "    .dataframe tbody tr th {\n",
       "        vertical-align: top;\n",
       "    }\n",
       "\n",
       "    .dataframe thead th {\n",
       "        text-align: right;\n",
       "    }\n",
       "</style>\n",
       "<table border=\"1\" class=\"dataframe\">\n",
       "  <thead>\n",
       "    <tr style=\"text-align: right;\">\n",
       "      <th></th>\n",
       "      <th>0</th>\n",
       "    </tr>\n",
       "  </thead>\n",
       "  <tbody>\n",
       "    <tr>\n",
       "      <th>distance</th>\n",
       "      <td>0.0</td>\n",
       "    </tr>\n",
       "    <tr>\n",
       "      <th>intersection</th>\n",
       "      <td>0.0</td>\n",
       "    </tr>\n",
       "    <tr>\n",
       "      <th>weather_1</th>\n",
       "      <td>0.0</td>\n",
       "    </tr>\n",
       "    <tr>\n",
       "      <th>pcf_violation_category</th>\n",
       "      <td>0.0</td>\n",
       "    </tr>\n",
       "    <tr>\n",
       "      <th>road_surface</th>\n",
       "      <td>0.0</td>\n",
       "    </tr>\n",
       "    <tr>\n",
       "      <th>road_condition_1</th>\n",
       "      <td>0.0</td>\n",
       "    </tr>\n",
       "    <tr>\n",
       "      <th>lighting</th>\n",
       "      <td>0.0</td>\n",
       "    </tr>\n",
       "    <tr>\n",
       "      <th>control_device</th>\n",
       "      <td>0.0</td>\n",
       "    </tr>\n",
       "    <tr>\n",
       "      <th>party_sobriety</th>\n",
       "      <td>0.0</td>\n",
       "    </tr>\n",
       "    <tr>\n",
       "      <th>cellphone_in_use</th>\n",
       "      <td>0.0</td>\n",
       "    </tr>\n",
       "    <tr>\n",
       "      <th>vehicle_age</th>\n",
       "      <td>0.0</td>\n",
       "    </tr>\n",
       "    <tr>\n",
       "      <th>at_fault</th>\n",
       "      <td>0.0</td>\n",
       "    </tr>\n",
       "  </tbody>\n",
       "</table>\n",
       "</div><br><label><b>dtype:</b> float64</label>"
      ],
      "text/plain": [
       "distance                  0.0\n",
       "intersection              0.0\n",
       "weather_1                 0.0\n",
       "pcf_violation_category    0.0\n",
       "road_surface              0.0\n",
       "road_condition_1          0.0\n",
       "lighting                  0.0\n",
       "control_device            0.0\n",
       "party_sobriety            0.0\n",
       "cellphone_in_use          0.0\n",
       "vehicle_age               0.0\n",
       "at_fault                  0.0\n",
       "dtype: float64"
      ]
     },
     "execution_count": 24,
     "metadata": {},
     "output_type": "execute_result"
    }
   ],
   "source": [
    "fillna_col = ['weather_1', 'pcf_violation_category',\n",
    "            'road_surface', 'road_condition_1', 'control_device', 'party_sobriety',\n",
    "            'cellphone_in_use']\n",
    "for c in fillna_col:\n",
    "    df[c] = df[c].fillna(df[c].mode()[0])\n",
    "df['vehicle_age'] = df['vehicle_age'].fillna(df['vehicle_age'].median())\n",
    "df.isna().sum()/df.shape[0]*100"
   ]
  },
  {
   "cell_type": "markdown",
   "id": "a38384a8",
   "metadata": {
    "id": "a38384a8"
   },
   "source": [
    "Оставшиеся столбцы с пропусками категориальные, в них менее 10% пропусков, поэтому заменю пропуски на наиболее часто встречающиеся значения."
   ]
  },
  {
   "cell_type": "code",
   "execution_count": null,
   "id": "ccd7553c",
   "metadata": {
    "colab": {
     "base_uri": "https://localhost:8080/"
    },
    "id": "ccd7553c",
    "outputId": "002d2e83-9445-41d1-b657-05f0b9d85f50"
   },
   "outputs": [
    {
     "name": "stdout",
     "output_type": "stream",
     "text": [
      "[1. 0.]\n"
     ]
    },
    {
     "data": {
      "text/plain": [
       "array([0., 1.])"
      ]
     },
     "execution_count": 25,
     "metadata": {},
     "output_type": "execute_result"
    }
   ],
   "source": [
    "print(df['intersection'].unique())\n",
    "df['cellphone_in_use'].unique()"
   ]
  },
  {
   "cell_type": "markdown",
   "id": "f6afd1d8",
   "metadata": {
    "id": "f6afd1d8"
   },
   "source": [
    "Видим, что intersection задан через 0 и 1, но это категориальный признак, как и cellphone_in_use"
   ]
  },
  {
   "cell_type": "code",
   "execution_count": null,
   "id": "997fb9a7",
   "metadata": {
    "colab": {
     "base_uri": "https://localhost:8080/"
    },
    "id": "997fb9a7",
    "outputId": "1572cec4-99db-4bfd-9dea-150f3764c9eb"
   },
   "outputs": [
    {
     "name": "stdout",
     "output_type": "stream",
     "text": [
      "9\n"
     ]
    },
    {
     "data": {
      "text/plain": [
       "2"
      ]
     },
     "execution_count": 26,
     "metadata": {},
     "output_type": "execute_result"
    }
   ],
   "source": [
    "cat_feat = list(df.select_dtypes(include='object').columns)\n",
    "cat_feat.extend(['intersection', 'cellphone_in_use'])\n",
    "num_feat = ['distance', 'vehicle_age']\n",
    "print(len(cat_feat))\n",
    "len(num_feat)"
   ]
  },
  {
   "cell_type": "markdown",
   "id": "05a9d921",
   "metadata": {
    "id": "05a9d921"
   },
   "source": [
    "Разделил признаки на категориальные и числовые."
   ]
  },
  {
   "cell_type": "code",
   "execution_count": null,
   "id": "6952a33d",
   "metadata": {
    "colab": {
     "base_uri": "https://localhost:8080/"
    },
    "id": "6952a33d",
    "outputId": "bcc504aa-c7a6-4ed6-f571-9a840f8a5498"
   },
   "outputs": [
    {
     "name": "stdout",
     "output_type": "stream",
     "text": [
      "(55634, 11) (55634,)\n"
     ]
    }
   ],
   "source": [
    "x = df.drop('at_fault', axis=1) # Признаки\n",
    "y = df.at_fault # целевой признак\n",
    "print(x.shape, y.shape)"
   ]
  },
  {
   "cell_type": "code",
   "execution_count": null,
   "id": "0fbe206d",
   "metadata": {
    "colab": {
     "base_uri": "https://localhost:8080/",
     "height": 564
    },
    "id": "0fbe206d",
    "outputId": "2f11bc16-23a8-40e2-ba04-1bf750b5e5f1"
   },
   "outputs": [
    {
     "data": {
      "image/png": "[encoded data removed]",
      "text/plain": [
       "<Figure size 1000x600 with 1 Axes>"
      ]
     },
     "metadata": {},
     "output_type": "display_data"
    }
   ],
   "source": [
    "plt.figure(figsize=(10, 6))\n",
    "y.hist()\n",
    "plt.xlabel('at_fault')\n",
    "plt.ylabel('Количесвто')\n",
    "plt.title('Количество разных классов целевого признака')\n",
    "plt.show();"
   ]
  },
  {
   "cell_type": "markdown",
   "id": "e0c61a8f",
   "metadata": {
    "id": "e0c61a8f"
   },
   "source": [
    "Целевой признак разделен почти равномерно, методы для балансировки классов не требуются. \n",
    "\n",
    "При разбиение на выборки, учту стратификацию."
   ]
  },
  {
   "cell_type": "code",
   "execution_count": null,
   "id": "81c8ef03",
   "metadata": {
    "colab": {
     "base_uri": "https://localhost:8080/",
     "height": 300
    },
    "id": "81c8ef03",
    "outputId": "b35ff411-3087-4a13-da46-f8b6bc95892b"
   },
   "outputs": [
    {
     "data": {
      "application/vnd.google.colaboratory.intrinsic+json": {
       "summary": "{\n  \"name\": \"x[num_feat]\",\n  \"rows\": 8,\n  \"fields\": [\n    {\n      \"column\": \"distance\",\n      \"properties\": {\n        \"dtype\": \"number\",\n        \"std\": 557100.1438187923,\n        \"min\": 0.0,\n        \"max\": 1584000.0,\n        \"num_unique_values\": 8,\n        \"samples\": [\n          863.1148741776612,\n          136.0,\n          55634.0\n        ],\n        \"semantic_type\": \"\",\n        \"description\": \"\"\n      }\n    },\n    {\n      \"column\": \"vehicle_age\",\n      \"properties\": {\n        \"dtype\": \"number\",\n        \"std\": 19660.42230769182,\n        \"min\": 0.0,\n        \"max\": 55634.0,\n        \"num_unique_values\": 8,\n        \"samples\": [\n          4.8334471725923,\n          4.0,\n          55634.0\n        ],\n        \"semantic_type\": \"\",\n        \"description\": \"\"\n      }\n    }\n  ]\n}",
       "type": "dataframe"
      },
      "text/html": [
       "\n",
       "  <div id=\"df-0480ef73-28c3-433e-b003-401dbc9a2146\" class=\"colab-df-container\">\n",
       "    <div>\n",
       "<style scoped>\n",
       "    .dataframe tbody tr th:only-of-type {\n",
       "        vertical-align: middle;\n",
       "    }\n",
       "\n",
       "    .dataframe tbody tr th {\n",
       "        vertical-align: top;\n",
       "    }\n",
       "\n",
       "    .dataframe thead th {\n",
       "        text-align: right;\n",
       "    }\n",
       "</style>\n",
       "<table border=\"1\" class=\"dataframe\">\n",
       "  <thead>\n",
       "    <tr style=\"text-align: right;\">\n",
       "      <th></th>\n",
       "      <th>distance</th>\n",
       "      <th>vehicle_age</th>\n",
       "    </tr>\n",
       "  </thead>\n",
       "  <tbody>\n",
       "    <tr>\n",
       "      <th>count</th>\n",
       "      <td>5.563400e+04</td>\n",
       "      <td>55634.000000</td>\n",
       "    </tr>\n",
       "    <tr>\n",
       "      <th>mean</th>\n",
       "      <td>8.631149e+02</td>\n",
       "      <td>4.833447</td>\n",
       "    </tr>\n",
       "    <tr>\n",
       "      <th>std</th>\n",
       "      <td>7.277705e+03</td>\n",
       "      <td>3.192438</td>\n",
       "    </tr>\n",
       "    <tr>\n",
       "      <th>min</th>\n",
       "      <td>0.000000e+00</td>\n",
       "      <td>0.000000</td>\n",
       "    </tr>\n",
       "    <tr>\n",
       "      <th>25%</th>\n",
       "      <td>8.000000e+00</td>\n",
       "      <td>3.000000</td>\n",
       "    </tr>\n",
       "    <tr>\n",
       "      <th>50%</th>\n",
       "      <td>1.360000e+02</td>\n",
       "      <td>4.000000</td>\n",
       "    </tr>\n",
       "    <tr>\n",
       "      <th>75%</th>\n",
       "      <td>5.500000e+02</td>\n",
       "      <td>7.000000</td>\n",
       "    </tr>\n",
       "    <tr>\n",
       "      <th>max</th>\n",
       "      <td>1.584000e+06</td>\n",
       "      <td>161.000000</td>\n",
       "    </tr>\n",
       "  </tbody>\n",
       "</table>\n",
       "</div>\n",
       "    <div class=\"colab-df-buttons\">\n",
       "\n",
       "  <div class=\"colab-df-container\">\n",
       "    <button class=\"colab-df-convert\" onclick=\"convertToInteractive('df-0480ef73-28c3-433e-b003-401dbc9a2146')\"\n",
       "            title=\"Convert this dataframe to an interactive table.\"\n",
       "            style=\"display:none;\">\n",
       "\n",
       "  <svg xmlns=\"http://www.w3.org/2000/svg\" height=\"24px\" viewBox=\"0 -960 960 960\">\n",
       "    <path d=\"M120-120v-720h720v720H120Zm60-500h600v-160H180v160Zm220 220h160v-160H400v160Zm0 220h160v-160H400v160ZM180-400h160v-160H180v160Zm440 0h160v-160H620v160ZM180-180h160v-160H180v160Zm440 0h160v-160H620v160Z\"/>\n",
       "  </svg>\n",
       "    </button>\n",
       "\n",
       "  <style>\n",
       "    .colab-df-container {\n",
       "      display:flex;\n",
       "      gap: 12px;\n",
       "    }\n",
       "\n",
       "    .colab-df-convert {\n",
       "      background-color: #E8F0FE;\n",
       "      border: none;\n",
       "      border-radius: 50%;\n",
       "      cursor: pointer;\n",
       "      display: none;\n",
       "      fill: #1967D2;\n",
       "      height: 32px;\n",
       "      padding: 0 0 0 0;\n",
       "      width: 32px;\n",
       "    }\n",
       "\n",
       "    .colab-df-convert:hover {\n",
       "      background-color: #E2EBFA;\n",
       "      box-shadow: 0px 1px 2px rgba(60, 64, 67, 0.3), 0px 1px 3px 1px rgba(60, 64, 67, 0.15);\n",
       "      fill: #174EA6;\n",
       "    }\n",
       "\n",
       "    .colab-df-buttons div {\n",
       "      margin-bottom: 4px;\n",
       "    }\n",
       "\n",
       "    [theme=dark] .colab-df-convert {\n",
       "      background-color: #3B4455;\n",
       "      fill: #D2E3FC;\n",
       "    }\n",
       "\n",
       "    [theme=dark] .colab-df-convert:hover {\n",
       "      background-color: #434B5C;\n",
       "      box-shadow: 0px 1px 3px 1px rgba(0, 0, 0, 0.15);\n",
       "      filter: drop-shadow(0px 1px 2px rgba(0, 0, 0, 0.3));\n",
       "      fill: #FFFFFF;\n",
       "    }\n",
       "  </style>\n",
       "\n",
       "    <script>\n",
       "      const buttonEl =\n",
       "        document.querySelector('#df-0480ef73-28c3-433e-b003-401dbc9a2146 button.colab-df-convert');\n",
       "      buttonEl.style.display =\n",
       "        google.colab.kernel.accessAllowed ? 'block' : 'none';\n",
       "\n",
       "      async function convertToInteractive(key) {\n",
       "        const element = document.querySelector('#df-0480ef73-28c3-433e-b003-401dbc9a2146');\n",
       "        const dataTable =\n",
       "          await google.colab.kernel.invokeFunction('convertToInteractive',\n",
       "                                                    [key], {});\n",
       "        if (!dataTable) return;\n",
       "\n",
       "        const docLinkHtml = 'Like what you see? Visit the ' +\n",
       "          '<a target=\"_blank\" href=https://colab.research.google.com/notebooks/data_table.ipynb>data table notebook</a>'\n",
       "          + ' to learn more about interactive tables.';\n",
       "        element.innerHTML = '';\n",
       "        dataTable['output_type'] = 'display_data';\n",
       "        await google.colab.output.renderOutput(dataTable, element);\n",
       "        const docLink = document.createElement('div');\n",
       "        docLink.innerHTML = docLinkHtml;\n",
       "        element.appendChild(docLink);\n",
       "      }\n",
       "    </script>\n",
       "  </div>\n",
       "\n",
       "\n",
       "<div id=\"df-596105d4-4a6c-461e-8a40-c726bee9d796\">\n",
       "  <button class=\"colab-df-quickchart\" onclick=\"quickchart('df-596105d4-4a6c-461e-8a40-c726bee9d796')\"\n",
       "            title=\"Suggest charts\"\n",
       "            style=\"display:none;\">\n",
       "\n",
       "<svg xmlns=\"http://www.w3.org/2000/svg\" height=\"24px\"viewBox=\"0 0 24 24\"\n",
       "     width=\"24px\">\n",
       "    <g>\n",
       "        <path d=\"M19 3H5c-1.1 0-2 .9-2 2v14c0 1.1.9 2 2 2h14c1.1 0 2-.9 2-2V5c0-1.1-.9-2-2-2zM9 17H7v-7h2v7zm4 0h-2V7h2v10zm4 0h-2v-4h2v4z\"/>\n",
       "    </g>\n",
       "</svg>\n",
       "  </button>\n",
       "\n",
       "<style>\n",
       "  .colab-df-quickchart {\n",
       "      --bg-color: #E8F0FE;\n",
       "      --fill-color: #1967D2;\n",
       "      --hover-bg-color: #E2EBFA;\n",
       "      --hover-fill-color: #174EA6;\n",
       "      --disabled-fill-color: #AAA;\n",
       "      --disabled-bg-color: #DDD;\n",
       "  }\n",
       "\n",
       "  [theme=dark] .colab-df-quickchart {\n",
       "      --bg-color: #3B4455;\n",
       "      --fill-color: #D2E3FC;\n",
       "      --hover-bg-color: #434B5C;\n",
       "      --hover-fill-color: #FFFFFF;\n",
       "      --disabled-bg-color: #3B4455;\n",
       "      --disabled-fill-color: #666;\n",
       "  }\n",
       "\n",
       "  .colab-df-quickchart {\n",
       "    background-color: var(--bg-color);\n",
       "    border: none;\n",
       "    border-radius: 50%;\n",
       "    cursor: pointer;\n",
       "    display: none;\n",
       "    fill: var(--fill-color);\n",
       "    height: 32px;\n",
       "    padding: 0;\n",
       "    width: 32px;\n",
       "  }\n",
       "\n",
       "  .colab-df-quickchart:hover {\n",
       "    background-color: var(--hover-bg-color);\n",
       "    box-shadow: 0 1px 2px rgba(60, 64, 67, 0.3), 0 1px 3px 1px rgba(60, 64, 67, 0.15);\n",
       "    fill: var(--button-hover-fill-color);\n",
       "  }\n",
       "\n",
       "  .colab-df-quickchart-complete:disabled,\n",
       "  .colab-df-quickchart-complete:disabled:hover {\n",
       "    background-color: var(--disabled-bg-color);\n",
       "    fill: var(--disabled-fill-color);\n",
       "    box-shadow: none;\n",
       "  }\n",
       "\n",
       "  .colab-df-spinner {\n",
       "    border: 2px solid var(--fill-color);\n",
       "    border-color: transparent;\n",
       "    border-bottom-color: var(--fill-color);\n",
       "    animation:\n",
       "      spin 1s steps(1) infinite;\n",
       "  }\n",
       "\n",
       "  @keyframes spin {\n",
       "    0% {\n",
       "      border-color: transparent;\n",
       "      border-bottom-color: var(--fill-color);\n",
       "      border-left-color: var(--fill-color);\n",
       "    }\n",
       "    20% {\n",
       "      border-color: transparent;\n",
       "      border-left-color: var(--fill-color);\n",
       "      border-top-color: var(--fill-color);\n",
       "    }\n",
       "    30% {\n",
       "      border-color: transparent;\n",
       "      border-left-color: var(--fill-color);\n",
       "      border-top-color: var(--fill-color);\n",
       "      border-right-color: var(--fill-color);\n",
       "    }\n",
       "    40% {\n",
       "      border-color: transparent;\n",
       "      border-right-color: var(--fill-color);\n",
       "      border-top-color: var(--fill-color);\n",
       "    }\n",
       "    60% {\n",
       "      border-color: transparent;\n",
       "      border-right-color: var(--fill-color);\n",
       "    }\n",
       "    80% {\n",
       "      border-color: transparent;\n",
       "      border-right-color: var(--fill-color);\n",
       "      border-bottom-color: var(--fill-color);\n",
       "    }\n",
       "    90% {\n",
       "      border-color: transparent;\n",
       "      border-bottom-color: var(--fill-color);\n",
       "    }\n",
       "  }\n",
       "</style>\n",
       "\n",
       "  <script>\n",
       "    async function quickchart(key) {\n",
       "      const quickchartButtonEl =\n",
       "        document.querySelector('#' + key + ' button');\n",
       "      quickchartButtonEl.disabled = true;  // To prevent multiple clicks.\n",
       "      quickchartButtonEl.classList.add('colab-df-spinner');\n",
       "      try {\n",
       "        const charts = await google.colab.kernel.invokeFunction(\n",
       "            'suggestCharts', [key], {});\n",
       "      } catch (error) {\n",
       "        console.error('Error during call to suggestCharts:', error);\n",
       "      }\n",
       "      quickchartButtonEl.classList.remove('colab-df-spinner');\n",
       "      quickchartButtonEl.classList.add('colab-df-quickchart-complete');\n",
       "    }\n",
       "    (() => {\n",
       "      let quickchartButtonEl =\n",
       "        document.querySelector('#df-596105d4-4a6c-461e-8a40-c726bee9d796 button');\n",
       "      quickchartButtonEl.style.display =\n",
       "        google.colab.kernel.accessAllowed ? 'block' : 'none';\n",
       "    })();\n",
       "  </script>\n",
       "</div>\n",
       "    </div>\n",
       "  </div>\n"
      ],
      "text/plain": [
       "           distance   vehicle_age\n",
       "count  5.563400e+04  55634.000000\n",
       "mean   8.631149e+02      4.833447\n",
       "std    7.277705e+03      3.192438\n",
       "min    0.000000e+00      0.000000\n",
       "25%    8.000000e+00      3.000000\n",
       "50%    1.360000e+02      4.000000\n",
       "75%    5.500000e+02      7.000000\n",
       "max    1.584000e+06    161.000000"
      ]
     },
     "execution_count": 29,
     "metadata": {},
     "output_type": "execute_result"
    }
   ],
   "source": [
    "x[num_feat].describe()"
   ]
  },
  {
   "cell_type": "markdown",
   "id": "124f42f6",
   "metadata": {
    "id": "124f42f6"
   },
   "source": [
    "Есть разброс в числовых признаках, требуется масштабирование."
   ]
  },
  {
   "cell_type": "code",
   "execution_count": null,
   "id": "216e5c02",
   "metadata": {
    "id": "216e5c02"
   },
   "outputs": [],
   "source": [
    "scaler = StandardScaler()\n",
    "st = 12345 #random_state"
   ]
  },
  {
   "cell_type": "markdown",
   "id": "9b9a66c4",
   "metadata": {
    "id": "9b9a66c4"
   },
   "source": [
    "Эмпирически StandardScaler() показал лучший результат."
   ]
  },
  {
   "cell_type": "code",
   "execution_count": null,
   "id": "022e96e6",
   "metadata": {
    "colab": {
     "base_uri": "https://localhost:8080/",
     "height": 300
    },
    "id": "022e96e6",
    "outputId": "d0dad4e5-27a0-4ffb-a428-68ee181c36ba"
   },
   "outputs": [
    {
     "data": {
      "application/vnd.google.colaboratory.intrinsic+json": {
       "summary": "{\n  \"name\": \"x[num_feat]\",\n  \"rows\": 8,\n  \"fields\": [\n    {\n      \"column\": \"distance\",\n      \"properties\": {\n        \"dtype\": \"number\",\n        \"std\": 19658.71806196769,\n        \"min\": -0.11859818832399614,\n        \"max\": 55634.0,\n        \"num_unique_values\": 8,\n        \"samples\": [\n          -1.5645376052524046e-17,\n          -0.09991081067055131,\n          55634.0\n        ],\n        \"semantic_type\": \"\",\n        \"description\": \"\"\n      }\n    },\n    {\n      \"column\": \"vehicle_age\",\n      \"properties\": {\n        \"dtype\": \"number\",\n        \"std\": 19667.15997295372,\n        \"min\": -1.5140435850509852,\n        \"max\": 55634.0,\n        \"num_unique_values\": 8,\n        \"samples\": [\n          -1.274619208197469e-16,\n          -0.26107150861141565,\n          55634.0\n        ],\n        \"semantic_type\": \"\",\n        \"description\": \"\"\n      }\n    }\n  ]\n}",
       "type": "dataframe"
      },
      "text/html": [
       "\n",
       "  <div id=\"df-768bd5e8-56fe-4f0e-8b76-fb3bf3d68eaf\" class=\"colab-df-container\">\n",
       "    <div>\n",
       "<style scoped>\n",
       "    .dataframe tbody tr th:only-of-type {\n",
       "        vertical-align: middle;\n",
       "    }\n",
       "\n",
       "    .dataframe tbody tr th {\n",
       "        vertical-align: top;\n",
       "    }\n",
       "\n",
       "    .dataframe thead th {\n",
       "        text-align: right;\n",
       "    }\n",
       "</style>\n",
       "<table border=\"1\" class=\"dataframe\">\n",
       "  <thead>\n",
       "    <tr style=\"text-align: right;\">\n",
       "      <th></th>\n",
       "      <th>distance</th>\n",
       "      <th>vehicle_age</th>\n",
       "    </tr>\n",
       "  </thead>\n",
       "  <tbody>\n",
       "    <tr>\n",
       "      <th>count</th>\n",
       "      <td>5.563400e+04</td>\n",
       "      <td>5.563400e+04</td>\n",
       "    </tr>\n",
       "    <tr>\n",
       "      <th>mean</th>\n",
       "      <td>-1.564538e-17</td>\n",
       "      <td>-1.274619e-16</td>\n",
       "    </tr>\n",
       "    <tr>\n",
       "      <th>std</th>\n",
       "      <td>1.000009e+00</td>\n",
       "      <td>1.000009e+00</td>\n",
       "    </tr>\n",
       "    <tr>\n",
       "      <th>min</th>\n",
       "      <td>-1.185982e-01</td>\n",
       "      <td>-1.514044e+00</td>\n",
       "    </tr>\n",
       "    <tr>\n",
       "      <th>25%</th>\n",
       "      <td>-1.174989e-01</td>\n",
       "      <td>-5.743145e-01</td>\n",
       "    </tr>\n",
       "    <tr>\n",
       "      <th>50%</th>\n",
       "      <td>-9.991081e-02</td>\n",
       "      <td>-2.610715e-01</td>\n",
       "    </tr>\n",
       "    <tr>\n",
       "      <th>75%</th>\n",
       "      <td>-4.302423e-02</td>\n",
       "      <td>6.786575e-01</td>\n",
       "    </tr>\n",
       "    <tr>\n",
       "      <th>max</th>\n",
       "      <td>2.175344e+02</td>\n",
       "      <td>4.891808e+01</td>\n",
       "    </tr>\n",
       "  </tbody>\n",
       "</table>\n",
       "</div>\n",
       "    <div class=\"colab-df-buttons\">\n",
       "\n",
       "  <div class=\"colab-df-container\">\n",
       "    <button class=\"colab-df-convert\" onclick=\"convertToInteractive('df-768bd5e8-56fe-4f0e-8b76-fb3bf3d68eaf')\"\n",
       "            title=\"Convert this dataframe to an interactive table.\"\n",
       "            style=\"display:none;\">\n",
       "\n",
       "  <svg xmlns=\"http://www.w3.org/2000/svg\" height=\"24px\" viewBox=\"0 -960 960 960\">\n",
       "    <path d=\"M120-120v-720h720v720H120Zm60-500h600v-160H180v160Zm220 220h160v-160H400v160Zm0 220h160v-160H400v160ZM180-400h160v-160H180v160Zm440 0h160v-160H620v160ZM180-180h160v-160H180v160Zm440 0h160v-160H620v160Z\"/>\n",
       "  </svg>\n",
       "    </button>\n",
       "\n",
       "  <style>\n",
       "    .colab-df-container {\n",
       "      display:flex;\n",
       "      gap: 12px;\n",
       "    }\n",
       "\n",
       "    .colab-df-convert {\n",
       "      background-color: #E8F0FE;\n",
       "      border: none;\n",
       "      border-radius: 50%;\n",
       "      cursor: pointer;\n",
       "      display: none;\n",
       "      fill: #1967D2;\n",
       "      height: 32px;\n",
       "      padding: 0 0 0 0;\n",
       "      width: 32px;\n",
       "    }\n",
       "\n",
       "    .colab-df-convert:hover {\n",
       "      background-color: #E2EBFA;\n",
       "      box-shadow: 0px 1px 2px rgba(60, 64, 67, 0.3), 0px 1px 3px 1px rgba(60, 64, 67, 0.15);\n",
       "      fill: #174EA6;\n",
       "    }\n",
       "\n",
       "    .colab-df-buttons div {\n",
       "      margin-bottom: 4px;\n",
       "    }\n",
       "\n",
       "    [theme=dark] .colab-df-convert {\n",
       "      background-color: #3B4455;\n",
       "      fill: #D2E3FC;\n",
       "    }\n",
       "\n",
       "    [theme=dark] .colab-df-convert:hover {\n",
       "      background-color: #434B5C;\n",
       "      box-shadow: 0px 1px 3px 1px rgba(0, 0, 0, 0.15);\n",
       "      filter: drop-shadow(0px 1px 2px rgba(0, 0, 0, 0.3));\n",
       "      fill: #FFFFFF;\n",
       "    }\n",
       "  </style>\n",
       "\n",
       "    <script>\n",
       "      const buttonEl =\n",
       "        document.querySelector('#df-768bd5e8-56fe-4f0e-8b76-fb3bf3d68eaf button.colab-df-convert');\n",
       "      buttonEl.style.display =\n",
       "        google.colab.kernel.accessAllowed ? 'block' : 'none';\n",
       "\n",
       "      async function convertToInteractive(key) {\n",
       "        const element = document.querySelector('#df-768bd5e8-56fe-4f0e-8b76-fb3bf3d68eaf');\n",
       "        const dataTable =\n",
       "          await google.colab.kernel.invokeFunction('convertToInteractive',\n",
       "                                                    [key], {});\n",
       "        if (!dataTable) return;\n",
       "\n",
       "        const docLinkHtml = 'Like what you see? Visit the ' +\n",
       "          '<a target=\"_blank\" href=https://colab.research.google.com/notebooks/data_table.ipynb>data table notebook</a>'\n",
       "          + ' to learn more about interactive tables.';\n",
       "        element.innerHTML = '';\n",
       "        dataTable['output_type'] = 'display_data';\n",
       "        await google.colab.output.renderOutput(dataTable, element);\n",
       "        const docLink = document.createElement('div');\n",
       "        docLink.innerHTML = docLinkHtml;\n",
       "        element.appendChild(docLink);\n",
       "      }\n",
       "    </script>\n",
       "  </div>\n",
       "\n",
       "\n",
       "<div id=\"df-c6376cc1-22b8-4990-a50f-41de28a0d7cd\">\n",
       "  <button class=\"colab-df-quickchart\" onclick=\"quickchart('df-c6376cc1-22b8-4990-a50f-41de28a0d7cd')\"\n",
       "            title=\"Suggest charts\"\n",
       "            style=\"display:none;\">\n",
       "\n",
       "<svg xmlns=\"http://www.w3.org/2000/svg\" height=\"24px\"viewBox=\"0 0 24 24\"\n",
       "     width=\"24px\">\n",
       "    <g>\n",
       "        <path d=\"M19 3H5c-1.1 0-2 .9-2 2v14c0 1.1.9 2 2 2h14c1.1 0 2-.9 2-2V5c0-1.1-.9-2-2-2zM9 17H7v-7h2v7zm4 0h-2V7h2v10zm4 0h-2v-4h2v4z\"/>\n",
       "    </g>\n",
       "</svg>\n",
       "  </button>\n",
       "\n",
       "<style>\n",
       "  .colab-df-quickchart {\n",
       "      --bg-color: #E8F0FE;\n",
       "      --fill-color: #1967D2;\n",
       "      --hover-bg-color: #E2EBFA;\n",
       "      --hover-fill-color: #174EA6;\n",
       "      --disabled-fill-color: #AAA;\n",
       "      --disabled-bg-color: #DDD;\n",
       "  }\n",
       "\n",
       "  [theme=dark] .colab-df-quickchart {\n",
       "      --bg-color: #3B4455;\n",
       "      --fill-color: #D2E3FC;\n",
       "      --hover-bg-color: #434B5C;\n",
       "      --hover-fill-color: #FFFFFF;\n",
       "      --disabled-bg-color: #3B4455;\n",
       "      --disabled-fill-color: #666;\n",
       "  }\n",
       "\n",
       "  .colab-df-quickchart {\n",
       "    background-color: var(--bg-color);\n",
       "    border: none;\n",
       "    border-radius: 50%;\n",
       "    cursor: pointer;\n",
       "    display: none;\n",
       "    fill: var(--fill-color);\n",
       "    height: 32px;\n",
       "    padding: 0;\n",
       "    width: 32px;\n",
       "  }\n",
       "\n",
       "  .colab-df-quickchart:hover {\n",
       "    background-color: var(--hover-bg-color);\n",
       "    box-shadow: 0 1px 2px rgba(60, 64, 67, 0.3), 0 1px 3px 1px rgba(60, 64, 67, 0.15);\n",
       "    fill: var(--button-hover-fill-color);\n",
       "  }\n",
       "\n",
       "  .colab-df-quickchart-complete:disabled,\n",
       "  .colab-df-quickchart-complete:disabled:hover {\n",
       "    background-color: var(--disabled-bg-color);\n",
       "    fill: var(--disabled-fill-color);\n",
       "    box-shadow: none;\n",
       "  }\n",
       "\n",
       "  .colab-df-spinner {\n",
       "    border: 2px solid var(--fill-color);\n",
       "    border-color: transparent;\n",
       "    border-bottom-color: var(--fill-color);\n",
       "    animation:\n",
       "      spin 1s steps(1) infinite;\n",
       "  }\n",
       "\n",
       "  @keyframes spin {\n",
       "    0% {\n",
       "      border-color: transparent;\n",
       "      border-bottom-color: var(--fill-color);\n",
       "      border-left-color: var(--fill-color);\n",
       "    }\n",
       "    20% {\n",
       "      border-color: transparent;\n",
       "      border-left-color: var(--fill-color);\n",
       "      border-top-color: var(--fill-color);\n",
       "    }\n",
       "    30% {\n",
       "      border-color: transparent;\n",
       "      border-left-color: var(--fill-color);\n",
       "      border-top-color: var(--fill-color);\n",
       "      border-right-color: var(--fill-color);\n",
       "    }\n",
       "    40% {\n",
       "      border-color: transparent;\n",
       "      border-right-color: var(--fill-color);\n",
       "      border-top-color: var(--fill-color);\n",
       "    }\n",
       "    60% {\n",
       "      border-color: transparent;\n",
       "      border-right-color: var(--fill-color);\n",
       "    }\n",
       "    80% {\n",
       "      border-color: transparent;\n",
       "      border-right-color: var(--fill-color);\n",
       "      border-bottom-color: var(--fill-color);\n",
       "    }\n",
       "    90% {\n",
       "      border-color: transparent;\n",
       "      border-bottom-color: var(--fill-color);\n",
       "    }\n",
       "  }\n",
       "</style>\n",
       "\n",
       "  <script>\n",
       "    async function quickchart(key) {\n",
       "      const quickchartButtonEl =\n",
       "        document.querySelector('#' + key + ' button');\n",
       "      quickchartButtonEl.disabled = true;  // To prevent multiple clicks.\n",
       "      quickchartButtonEl.classList.add('colab-df-spinner');\n",
       "      try {\n",
       "        const charts = await google.colab.kernel.invokeFunction(\n",
       "            'suggestCharts', [key], {});\n",
       "      } catch (error) {\n",
       "        console.error('Error during call to suggestCharts:', error);\n",
       "      }\n",
       "      quickchartButtonEl.classList.remove('colab-df-spinner');\n",
       "      quickchartButtonEl.classList.add('colab-df-quickchart-complete');\n",
       "    }\n",
       "    (() => {\n",
       "      let quickchartButtonEl =\n",
       "        document.querySelector('#df-c6376cc1-22b8-4990-a50f-41de28a0d7cd button');\n",
       "      quickchartButtonEl.style.display =\n",
       "        google.colab.kernel.accessAllowed ? 'block' : 'none';\n",
       "    })();\n",
       "  </script>\n",
       "</div>\n",
       "    </div>\n",
       "  </div>\n"
      ],
      "text/plain": [
       "           distance   vehicle_age\n",
       "count  5.563400e+04  5.563400e+04\n",
       "mean  -1.564538e-17 -1.274619e-16\n",
       "std    1.000009e+00  1.000009e+00\n",
       "min   -1.185982e-01 -1.514044e+00\n",
       "25%   -1.174989e-01 -5.743145e-01\n",
       "50%   -9.991081e-02 -2.610715e-01\n",
       "75%   -4.302423e-02  6.786575e-01\n",
       "max    2.175344e+02  4.891808e+01"
      ]
     },
     "execution_count": 31,
     "metadata": {},
     "output_type": "execute_result"
    }
   ],
   "source": [
    "x[num_feat] = scaler.fit_transform(x[num_feat])\n",
    "x[num_feat].describe()"
   ]
  },
  {
   "cell_type": "code",
   "execution_count": null,
   "id": "369f75a3",
   "metadata": {
    "colab": {
     "base_uri": "https://localhost:8080/"
    },
    "id": "369f75a3",
    "outputId": "bd071837-a436-4534-939d-52cc78038a2d"
   },
   "outputs": [
    {
     "name": "stdout",
     "output_type": "stream",
     "text": [
      "(38943, 11)\n",
      "(16691, 11)\n",
      "(38943,)\n",
      "(16691,)\n"
     ]
    }
   ],
   "source": [
    "X_train, X_test, y_train, y_test = train_test_split(x, y,\n",
    "                                                    test_size=0.3, shuffle=True,\n",
    "                                                    random_state=st, stratify=y)\n",
    "X_train.reset_index(drop=True, inplace=True)\n",
    "X_test.reset_index(drop=True, inplace=True)\n",
    "y_train.reset_index(drop=True, inplace=True)\n",
    "y_test.reset_index(drop=True, inplace=True)\n",
    "print(X_train.shape)\n",
    "print(X_test.shape)\n",
    "print(y_train.shape)\n",
    "print(y_test.shape)"
   ]
  },
  {
   "cell_type": "markdown",
   "id": "71238351",
   "metadata": {
    "id": "71238351"
   },
   "source": [
    "Разбил данные на тренировочную и тестовую выборки в отношении 7:3."
   ]
  },
  {
   "cell_type": "code",
   "execution_count": null,
   "id": "b0cKr9Q-ZNUy",
   "metadata": {
    "id": "b0cKr9Q-ZNUy"
   },
   "outputs": [],
   "source": [
    "ohe = OneHotEncoder(drop='first', handle_unknown='ignore')\n",
    "enc = OrdinalEncoder(handle_unknown='use_encoded_value', unknown_value=22)"
   ]
  },
  {
   "cell_type": "code",
   "execution_count": null,
   "id": "tFUB7sQRZ0I2",
   "metadata": {
    "colab": {
     "base_uri": "https://localhost:8080/",
     "height": 199
    },
    "id": "tFUB7sQRZ0I2",
    "outputId": "e1597cc5-c617-4c50-a457-8f02b90f7090"
   },
   "outputs": [
    {
     "name": "stdout",
     "output_type": "stream",
     "text": [
      "(38943, 11)\n",
      "(16691, 11)\n"
     ]
    },
    {
     "data": {
      "application/vnd.google.colaboratory.intrinsic+json": {
       "summary": "{\n  \"name\": \"X_train_enc\",\n  \"rows\": 3,\n  \"fields\": [\n    {\n      \"column\": \"distance\",\n      \"properties\": {\n        \"dtype\": \"number\",\n        \"std\": 0.27467363625646196,\n        \"min\": 0.09905479846318485,\n        \"max\": 0.6069117676332738,\n        \"num_unique_values\": 3,\n        \"samples\": [\n          0.6069117676332738,\n          0.5343607720375468,\n          0.09905479846318485\n        ],\n        \"semantic_type\": \"\",\n        \"description\": \"\"\n      }\n    },\n    {\n      \"column\": \"vehicle_age\",\n      \"properties\": {\n        \"dtype\": \"number\",\n        \"std\": 0.31324301910989233,\n        \"min\": -1.2008005659410927,\n        \"max\": -0.5743145277213081,\n        \"num_unique_values\": 3,\n        \"samples\": [\n          -0.8875575468312005,\n          -1.2008005659410927,\n          -0.5743145277213081\n        ],\n        \"semantic_type\": \"\",\n        \"description\": \"\"\n      }\n    },\n    {\n      \"column\": \"weather_1\",\n      \"properties\": {\n        \"dtype\": \"number\",\n        \"std\": 0.5773502691896258,\n        \"min\": 0.0,\n        \"max\": 1.0,\n        \"num_unique_values\": 2,\n        \"samples\": [\n          0.0,\n          1.0\n        ],\n        \"semantic_type\": \"\",\n        \"description\": \"\"\n      }\n    },\n    {\n      \"column\": \"pcf_violation_category\",\n      \"properties\": {\n        \"dtype\": \"number\",\n        \"std\": 3.4641016151377544,\n        \"min\": 2.0,\n        \"max\": 8.0,\n        \"num_unique_values\": 2,\n        \"samples\": [\n          2.0,\n          8.0\n        ],\n        \"semantic_type\": \"\",\n        \"description\": \"\"\n      }\n    },\n    {\n      \"column\": \"road_surface\",\n      \"properties\": {\n        \"dtype\": \"number\",\n        \"std\": 1.7320508075688772,\n        \"min\": 0.0,\n        \"max\": 3.0,\n        \"num_unique_values\": 2,\n        \"samples\": [\n          0.0,\n          3.0\n        ],\n        \"semantic_type\": \"\",\n        \"description\": \"\"\n      }\n    },\n    {\n      \"column\": \"road_condition_1\",\n      \"properties\": {\n        \"dtype\": \"number\",\n        \"std\": 0.0,\n        \"min\": 4.0,\n        \"max\": 4.0,\n        \"num_unique_values\": 1,\n        \"samples\": [\n          4.0\n        ],\n        \"semantic_type\": \"\",\n        \"description\": \"\"\n      }\n    },\n    {\n      \"column\": \"lighting\",\n      \"properties\": {\n        \"dtype\": \"number\",\n        \"std\": 0.5773502691896258,\n        \"min\": 0.0,\n        \"max\": 1.0,\n        \"num_unique_values\": 2,\n        \"samples\": [\n          1.0\n        ],\n        \"semantic_type\": \"\",\n        \"description\": \"\"\n      }\n    },\n    {\n      \"column\": \"control_device\",\n      \"properties\": {\n        \"dtype\": \"number\",\n        \"std\": 0.0,\n        \"min\": 1.0,\n        \"max\": 1.0,\n        \"num_unique_values\": 1,\n        \"samples\": [\n          1.0\n        ],\n        \"semantic_type\": \"\",\n        \"description\": \"\"\n      }\n    },\n    {\n      \"column\": \"party_sobriety\",\n      \"properties\": {\n        \"dtype\": \"number\",\n        \"std\": 0.5773502691896258,\n        \"min\": 2.0,\n        \"max\": 3.0,\n        \"num_unique_values\": 2,\n        \"samples\": [\n          2.0\n        ],\n        \"semantic_type\": \"\",\n        \"description\": \"\"\n      }\n    },\n    {\n      \"column\": \"intersection\",\n      \"properties\": {\n        \"dtype\": \"number\",\n        \"std\": 0.0,\n        \"min\": 0.0,\n        \"max\": 0.0,\n        \"num_unique_values\": 1,\n        \"samples\": [\n          0.0\n        ],\n        \"semantic_type\": \"\",\n        \"description\": \"\"\n      }\n    },\n    {\n      \"column\": \"cellphone_in_use\",\n      \"properties\": {\n        \"dtype\": \"number\",\n        \"std\": 0.0,\n        \"min\": 0.0,\n        \"max\": 0.0,\n        \"num_unique_values\": 1,\n        \"samples\": [\n          0.0\n        ],\n        \"semantic_type\": \"\",\n        \"description\": \"\"\n      }\n    }\n  ]\n}",
       "type": "dataframe"
      },
      "text/html": [
       "\n",
       "  <div id=\"df-1e10e52a-b3d3-4f6c-a763-db7b7a21a8a5\" class=\"colab-df-container\">\n",
       "    <div>\n",
       "<style scoped>\n",
       "    .dataframe tbody tr th:only-of-type {\n",
       "        vertical-align: middle;\n",
       "    }\n",
       "\n",
       "    .dataframe tbody tr th {\n",
       "        vertical-align: top;\n",
       "    }\n",
       "\n",
       "    .dataframe thead th {\n",
       "        text-align: right;\n",
       "    }\n",
       "</style>\n",
       "<table border=\"1\" class=\"dataframe\">\n",
       "  <thead>\n",
       "    <tr style=\"text-align: right;\">\n",
       "      <th></th>\n",
       "      <th>distance</th>\n",
       "      <th>vehicle_age</th>\n",
       "      <th>weather_1</th>\n",
       "      <th>pcf_violation_category</th>\n",
       "      <th>road_surface</th>\n",
       "      <th>road_condition_1</th>\n",
       "      <th>lighting</th>\n",
       "      <th>control_device</th>\n",
       "      <th>party_sobriety</th>\n",
       "      <th>intersection</th>\n",
       "      <th>cellphone_in_use</th>\n",
       "    </tr>\n",
       "  </thead>\n",
       "  <tbody>\n",
       "    <tr>\n",
       "      <th>38620</th>\n",
       "      <td>0.606912</td>\n",
       "      <td>-0.887558</td>\n",
       "      <td>1.0</td>\n",
       "      <td>8.0</td>\n",
       "      <td>3.0</td>\n",
       "      <td>4.0</td>\n",
       "      <td>0.0</td>\n",
       "      <td>1.0</td>\n",
       "      <td>3.0</td>\n",
       "      <td>0.0</td>\n",
       "      <td>0.0</td>\n",
       "    </tr>\n",
       "    <tr>\n",
       "      <th>35915</th>\n",
       "      <td>0.534361</td>\n",
       "      <td>-1.200801</td>\n",
       "      <td>0.0</td>\n",
       "      <td>8.0</td>\n",
       "      <td>0.0</td>\n",
       "      <td>4.0</td>\n",
       "      <td>0.0</td>\n",
       "      <td>1.0</td>\n",
       "      <td>3.0</td>\n",
       "      <td>0.0</td>\n",
       "      <td>0.0</td>\n",
       "    </tr>\n",
       "    <tr>\n",
       "      <th>5460</th>\n",
       "      <td>0.099055</td>\n",
       "      <td>-0.574315</td>\n",
       "      <td>0.0</td>\n",
       "      <td>2.0</td>\n",
       "      <td>0.0</td>\n",
       "      <td>4.0</td>\n",
       "      <td>1.0</td>\n",
       "      <td>1.0</td>\n",
       "      <td>2.0</td>\n",
       "      <td>0.0</td>\n",
       "      <td>0.0</td>\n",
       "    </tr>\n",
       "  </tbody>\n",
       "</table>\n",
       "</div>\n",
       "    <div class=\"colab-df-buttons\">\n",
       "\n",
       "  <div class=\"colab-df-container\">\n",
       "    <button class=\"colab-df-convert\" onclick=\"convertToInteractive('df-1e10e52a-b3d3-4f6c-a763-db7b7a21a8a5')\"\n",
       "            title=\"Convert this dataframe to an interactive table.\"\n",
       "            style=\"display:none;\">\n",
       "\n",
       "  <svg xmlns=\"http://www.w3.org/2000/svg\" height=\"24px\" viewBox=\"0 -960 960 960\">\n",
       "    <path d=\"M120-120v-720h720v720H120Zm60-500h600v-160H180v160Zm220 220h160v-160H400v160Zm0 220h160v-160H400v160ZM180-400h160v-160H180v160Zm440 0h160v-160H620v160ZM180-180h160v-160H180v160Zm440 0h160v-160H620v160Z\"/>\n",
       "  </svg>\n",
       "    </button>\n",
       "\n",
       "  <style>\n",
       "    .colab-df-container {\n",
       "      display:flex;\n",
       "      gap: 12px;\n",
       "    }\n",
       "\n",
       "    .colab-df-convert {\n",
       "      background-color: #E8F0FE;\n",
       "      border: none;\n",
       "      border-radius: 50%;\n",
       "      cursor: pointer;\n",
       "      display: none;\n",
       "      fill: #1967D2;\n",
       "      height: 32px;\n",
       "      padding: 0 0 0 0;\n",
       "      width: 32px;\n",
       "    }\n",
       "\n",
       "    .colab-df-convert:hover {\n",
       "      background-color: #E2EBFA;\n",
       "      box-shadow: 0px 1px 2px rgba(60, 64, 67, 0.3), 0px 1px 3px 1px rgba(60, 64, 67, 0.15);\n",
       "      fill: #174EA6;\n",
       "    }\n",
       "\n",
       "    .colab-df-buttons div {\n",
       "      margin-bottom: 4px;\n",
       "    }\n",
       "\n",
       "    [theme=dark] .colab-df-convert {\n",
       "      background-color: #3B4455;\n",
       "      fill: #D2E3FC;\n",
       "    }\n",
       "\n",
       "    [theme=dark] .colab-df-convert:hover {\n",
       "      background-color: #434B5C;\n",
       "      box-shadow: 0px 1px 3px 1px rgba(0, 0, 0, 0.15);\n",
       "      filter: drop-shadow(0px 1px 2px rgba(0, 0, 0, 0.3));\n",
       "      fill: #FFFFFF;\n",
       "    }\n",
       "  </style>\n",
       "\n",
       "    <script>\n",
       "      const buttonEl =\n",
       "        document.querySelector('#df-1e10e52a-b3d3-4f6c-a763-db7b7a21a8a5 button.colab-df-convert');\n",
       "      buttonEl.style.display =\n",
       "        google.colab.kernel.accessAllowed ? 'block' : 'none';\n",
       "\n",
       "      async function convertToInteractive(key) {\n",
       "        const element = document.querySelector('#df-1e10e52a-b3d3-4f6c-a763-db7b7a21a8a5');\n",
       "        const dataTable =\n",
       "          await google.colab.kernel.invokeFunction('convertToInteractive',\n",
       "                                                    [key], {});\n",
       "        if (!dataTable) return;\n",
       "\n",
       "        const docLinkHtml = 'Like what you see? Visit the ' +\n",
       "          '<a target=\"_blank\" href=https://colab.research.google.com/notebooks/data_table.ipynb>data table notebook</a>'\n",
       "          + ' to learn more about interactive tables.';\n",
       "        element.innerHTML = '';\n",
       "        dataTable['output_type'] = 'display_data';\n",
       "        await google.colab.output.renderOutput(dataTable, element);\n",
       "        const docLink = document.createElement('div');\n",
       "        docLink.innerHTML = docLinkHtml;\n",
       "        element.appendChild(docLink);\n",
       "      }\n",
       "    </script>\n",
       "  </div>\n",
       "\n",
       "\n",
       "<div id=\"df-e635ab92-2027-4312-a8a5-b5b5f7c295c0\">\n",
       "  <button class=\"colab-df-quickchart\" onclick=\"quickchart('df-e635ab92-2027-4312-a8a5-b5b5f7c295c0')\"\n",
       "            title=\"Suggest charts\"\n",
       "            style=\"display:none;\">\n",
       "\n",
       "<svg xmlns=\"http://www.w3.org/2000/svg\" height=\"24px\"viewBox=\"0 0 24 24\"\n",
       "     width=\"24px\">\n",
       "    <g>\n",
       "        <path d=\"M19 3H5c-1.1 0-2 .9-2 2v14c0 1.1.9 2 2 2h14c1.1 0 2-.9 2-2V5c0-1.1-.9-2-2-2zM9 17H7v-7h2v7zm4 0h-2V7h2v10zm4 0h-2v-4h2v4z\"/>\n",
       "    </g>\n",
       "</svg>\n",
       "  </button>\n",
       "\n",
       "<style>\n",
       "  .colab-df-quickchart {\n",
       "      --bg-color: #E8F0FE;\n",
       "      --fill-color: #1967D2;\n",
       "      --hover-bg-color: #E2EBFA;\n",
       "      --hover-fill-color: #174EA6;\n",
       "      --disabled-fill-color: #AAA;\n",
       "      --disabled-bg-color: #DDD;\n",
       "  }\n",
       "\n",
       "  [theme=dark] .colab-df-quickchart {\n",
       "      --bg-color: #3B4455;\n",
       "      --fill-color: #D2E3FC;\n",
       "      --hover-bg-color: #434B5C;\n",
       "      --hover-fill-color: #FFFFFF;\n",
       "      --disabled-bg-color: #3B4455;\n",
       "      --disabled-fill-color: #666;\n",
       "  }\n",
       "\n",
       "  .colab-df-quickchart {\n",
       "    background-color: var(--bg-color);\n",
       "    border: none;\n",
       "    border-radius: 50%;\n",
       "    cursor: pointer;\n",
       "    display: none;\n",
       "    fill: var(--fill-color);\n",
       "    height: 32px;\n",
       "    padding: 0;\n",
       "    width: 32px;\n",
       "  }\n",
       "\n",
       "  .colab-df-quickchart:hover {\n",
       "    background-color: var(--hover-bg-color);\n",
       "    box-shadow: 0 1px 2px rgba(60, 64, 67, 0.3), 0 1px 3px 1px rgba(60, 64, 67, 0.15);\n",
       "    fill: var(--button-hover-fill-color);\n",
       "  }\n",
       "\n",
       "  .colab-df-quickchart-complete:disabled,\n",
       "  .colab-df-quickchart-complete:disabled:hover {\n",
       "    background-color: var(--disabled-bg-color);\n",
       "    fill: var(--disabled-fill-color);\n",
       "    box-shadow: none;\n",
       "  }\n",
       "\n",
       "  .colab-df-spinner {\n",
       "    border: 2px solid var(--fill-color);\n",
       "    border-color: transparent;\n",
       "    border-bottom-color: var(--fill-color);\n",
       "    animation:\n",
       "      spin 1s steps(1) infinite;\n",
       "  }\n",
       "\n",
       "  @keyframes spin {\n",
       "    0% {\n",
       "      border-color: transparent;\n",
       "      border-bottom-color: var(--fill-color);\n",
       "      border-left-color: var(--fill-color);\n",
       "    }\n",
       "    20% {\n",
       "      border-color: transparent;\n",
       "      border-left-color: var(--fill-color);\n",
       "      border-top-color: var(--fill-color);\n",
       "    }\n",
       "    30% {\n",
       "      border-color: transparent;\n",
       "      border-left-color: var(--fill-color);\n",
       "      border-top-color: var(--fill-color);\n",
       "      border-right-color: var(--fill-color);\n",
       "    }\n",
       "    40% {\n",
       "      border-color: transparent;\n",
       "      border-right-color: var(--fill-color);\n",
       "      border-top-color: var(--fill-color);\n",
       "    }\n",
       "    60% {\n",
       "      border-color: transparent;\n",
       "      border-right-color: var(--fill-color);\n",
       "    }\n",
       "    80% {\n",
       "      border-color: transparent;\n",
       "      border-right-color: var(--fill-color);\n",
       "      border-bottom-color: var(--fill-color);\n",
       "    }\n",
       "    90% {\n",
       "      border-color: transparent;\n",
       "      border-bottom-color: var(--fill-color);\n",
       "    }\n",
       "  }\n",
       "</style>\n",
       "\n",
       "  <script>\n",
       "    async function quickchart(key) {\n",
       "      const quickchartButtonEl =\n",
       "        document.querySelector('#' + key + ' button');\n",
       "      quickchartButtonEl.disabled = true;  // To prevent multiple clicks.\n",
       "      quickchartButtonEl.classList.add('colab-df-spinner');\n",
       "      try {\n",
       "        const charts = await google.colab.kernel.invokeFunction(\n",
       "            'suggestCharts', [key], {});\n",
       "      } catch (error) {\n",
       "        console.error('Error during call to suggestCharts:', error);\n",
       "      }\n",
       "      quickchartButtonEl.classList.remove('colab-df-spinner');\n",
       "      quickchartButtonEl.classList.add('colab-df-quickchart-complete');\n",
       "    }\n",
       "    (() => {\n",
       "      let quickchartButtonEl =\n",
       "        document.querySelector('#df-e635ab92-2027-4312-a8a5-b5b5f7c295c0 button');\n",
       "      quickchartButtonEl.style.display =\n",
       "        google.colab.kernel.accessAllowed ? 'block' : 'none';\n",
       "    })();\n",
       "  </script>\n",
       "</div>\n",
       "    </div>\n",
       "  </div>\n"
      ],
      "text/plain": [
       "       distance  vehicle_age  weather_1  pcf_violation_category  road_surface  \\\n",
       "38620  0.606912    -0.887558        1.0                     8.0           3.0   \n",
       "35915  0.534361    -1.200801        0.0                     8.0           0.0   \n",
       "5460   0.099055    -0.574315        0.0                     2.0           0.0   \n",
       "\n",
       "       road_condition_1  lighting  control_device  party_sobriety  \\\n",
       "38620               4.0       0.0             1.0             3.0   \n",
       "35915               4.0       0.0             1.0             3.0   \n",
       "5460                4.0       1.0             1.0             2.0   \n",
       "\n",
       "       intersection  cellphone_in_use  \n",
       "38620           0.0               0.0  \n",
       "35915           0.0               0.0  \n",
       "5460            0.0               0.0  "
      ]
     },
     "execution_count": 34,
     "metadata": {},
     "output_type": "execute_result"
    }
   ],
   "source": [
    "enc.fit(X_train[cat_feat])\n",
    "train_enc = pd.DataFrame(enc.transform(X_train[cat_feat]),\n",
    "             columns=cat_feat)\n",
    "test_enc = pd.DataFrame(enc.transform(X_test[cat_feat]),\n",
    "             columns=cat_feat)\n",
    "X_train_enc = pd.concat([X_train[num_feat], train_enc], axis=1)\n",
    "X_test_enc = pd.concat([X_test[num_feat], test_enc], axis=1)\n",
    "print(X_train_enc.shape)\n",
    "print(X_test_enc.shape)\n",
    "X_train_enc.sample(3)"
   ]
  },
  {
   "cell_type": "code",
   "execution_count": null,
   "id": "frLOOu_oawYp",
   "metadata": {
    "colab": {
     "base_uri": "https://localhost:8080/",
     "height": 263
    },
    "id": "frLOOu_oawYp",
    "outputId": "d5eed734-9dd0-4874-8e4c-8cb0a8eb63d7"
   },
   "outputs": [
    {
     "name": "stdout",
     "output_type": "stream",
     "text": [
      "(38943, 53)\n",
      "(16691, 53)\n"
     ]
    },
    {
     "data": {
      "application/vnd.google.colaboratory.intrinsic+json": {
       "type": "dataframe"
      },
      "text/html": [
       "\n",
       "  <div id=\"df-c72848c9-62bd-48e5-9137-304e4e1df19d\" class=\"colab-df-container\">\n",
       "    <div>\n",
       "<style scoped>\n",
       "    .dataframe tbody tr th:only-of-type {\n",
       "        vertical-align: middle;\n",
       "    }\n",
       "\n",
       "    .dataframe tbody tr th {\n",
       "        vertical-align: top;\n",
       "    }\n",
       "\n",
       "    .dataframe thead th {\n",
       "        text-align: right;\n",
       "    }\n",
       "</style>\n",
       "<table border=\"1\" class=\"dataframe\">\n",
       "  <thead>\n",
       "    <tr style=\"text-align: right;\">\n",
       "      <th></th>\n",
       "      <th>distance</th>\n",
       "      <th>vehicle_age</th>\n",
       "      <th>weather_1_cloudy</th>\n",
       "      <th>weather_1_fog</th>\n",
       "      <th>weather_1_other</th>\n",
       "      <th>weather_1_raining</th>\n",
       "      <th>weather_1_snowing</th>\n",
       "      <th>weather_1_wind</th>\n",
       "      <th>pcf_violation_category_brakes</th>\n",
       "      <th>pcf_violation_category_dui</th>\n",
       "      <th>...</th>\n",
       "      <th>control_device_none</th>\n",
       "      <th>control_device_not functioning</th>\n",
       "      <th>control_device_obscured</th>\n",
       "      <th>party_sobriety_had been drinking, not under influence</th>\n",
       "      <th>party_sobriety_had been drinking, under influence</th>\n",
       "      <th>party_sobriety_had not been drinking</th>\n",
       "      <th>party_sobriety_impairment unknown</th>\n",
       "      <th>party_sobriety_not applicable</th>\n",
       "      <th>intersection_1.0</th>\n",
       "      <th>cellphone_in_use_1.0</th>\n",
       "    </tr>\n",
       "  </thead>\n",
       "  <tbody>\n",
       "    <tr>\n",
       "      <th>26961</th>\n",
       "      <td>-0.118598</td>\n",
       "      <td>0.678658</td>\n",
       "      <td>1.0</td>\n",
       "      <td>0.0</td>\n",
       "      <td>0.0</td>\n",
       "      <td>0.0</td>\n",
       "      <td>0.0</td>\n",
       "      <td>0.0</td>\n",
       "      <td>0.0</td>\n",
       "      <td>0.0</td>\n",
       "      <td>...</td>\n",
       "      <td>0.0</td>\n",
       "      <td>0.0</td>\n",
       "      <td>0.0</td>\n",
       "      <td>0.0</td>\n",
       "      <td>0.0</td>\n",
       "      <td>1.0</td>\n",
       "      <td>0.0</td>\n",
       "      <td>0.0</td>\n",
       "      <td>1.0</td>\n",
       "      <td>0.0</td>\n",
       "    </tr>\n",
       "    <tr>\n",
       "      <th>26831</th>\n",
       "      <td>0.046290</td>\n",
       "      <td>1.305144</td>\n",
       "      <td>0.0</td>\n",
       "      <td>0.0</td>\n",
       "      <td>0.0</td>\n",
       "      <td>0.0</td>\n",
       "      <td>0.0</td>\n",
       "      <td>0.0</td>\n",
       "      <td>0.0</td>\n",
       "      <td>0.0</td>\n",
       "      <td>...</td>\n",
       "      <td>1.0</td>\n",
       "      <td>0.0</td>\n",
       "      <td>0.0</td>\n",
       "      <td>0.0</td>\n",
       "      <td>0.0</td>\n",
       "      <td>1.0</td>\n",
       "      <td>0.0</td>\n",
       "      <td>0.0</td>\n",
       "      <td>0.0</td>\n",
       "      <td>0.0</td>\n",
       "    </tr>\n",
       "    <tr>\n",
       "      <th>36754</th>\n",
       "      <td>-0.114476</td>\n",
       "      <td>-0.887558</td>\n",
       "      <td>0.0</td>\n",
       "      <td>0.0</td>\n",
       "      <td>0.0</td>\n",
       "      <td>0.0</td>\n",
       "      <td>0.0</td>\n",
       "      <td>0.0</td>\n",
       "      <td>0.0</td>\n",
       "      <td>0.0</td>\n",
       "      <td>...</td>\n",
       "      <td>1.0</td>\n",
       "      <td>0.0</td>\n",
       "      <td>0.0</td>\n",
       "      <td>0.0</td>\n",
       "      <td>0.0</td>\n",
       "      <td>1.0</td>\n",
       "      <td>0.0</td>\n",
       "      <td>0.0</td>\n",
       "      <td>0.0</td>\n",
       "      <td>0.0</td>\n",
       "    </tr>\n",
       "  </tbody>\n",
       "</table>\n",
       "<p>3 rows × 53 columns</p>\n",
       "</div>\n",
       "    <div class=\"colab-df-buttons\">\n",
       "\n",
       "  <div class=\"colab-df-container\">\n",
       "    <button class=\"colab-df-convert\" onclick=\"convertToInteractive('df-c72848c9-62bd-48e5-9137-304e4e1df19d')\"\n",
       "            title=\"Convert this dataframe to an interactive table.\"\n",
       "            style=\"display:none;\">\n",
       "\n",
       "  <svg xmlns=\"http://www.w3.org/2000/svg\" height=\"24px\" viewBox=\"0 -960 960 960\">\n",
       "    <path d=\"M120-120v-720h720v720H120Zm60-500h600v-160H180v160Zm220 220h160v-160H400v160Zm0 220h160v-160H400v160ZM180-400h160v-160H180v160Zm440 0h160v-160H620v160ZM180-180h160v-160H180v160Zm440 0h160v-160H620v160Z\"/>\n",
       "  </svg>\n",
       "    </button>\n",
       "\n",
       "  <style>\n",
       "    .colab-df-container {\n",
       "      display:flex;\n",
       "      gap: 12px;\n",
       "    }\n",
       "\n",
       "    .colab-df-convert {\n",
       "      background-color: #E8F0FE;\n",
       "      border: none;\n",
       "      border-radius: 50%;\n",
       "      cursor: pointer;\n",
       "      display: none;\n",
       "      fill: #1967D2;\n",
       "      height: 32px;\n",
       "      padding: 0 0 0 0;\n",
       "      width: 32px;\n",
       "    }\n",
       "\n",
       "    .colab-df-convert:hover {\n",
       "      background-color: #E2EBFA;\n",
       "      box-shadow: 0px 1px 2px rgba(60, 64, 67, 0.3), 0px 1px 3px 1px rgba(60, 64, 67, 0.15);\n",
       "      fill: #174EA6;\n",
       "    }\n",
       "\n",
       "    .colab-df-buttons div {\n",
       "      margin-bottom: 4px;\n",
       "    }\n",
       "\n",
       "    [theme=dark] .colab-df-convert {\n",
       "      background-color: #3B4455;\n",
       "      fill: #D2E3FC;\n",
       "    }\n",
       "\n",
       "    [theme=dark] .colab-df-convert:hover {\n",
       "      background-color: #434B5C;\n",
       "      box-shadow: 0px 1px 3px 1px rgba(0, 0, 0, 0.15);\n",
       "      filter: drop-shadow(0px 1px 2px rgba(0, 0, 0, 0.3));\n",
       "      fill: #FFFFFF;\n",
       "    }\n",
       "  </style>\n",
       "\n",
       "    <script>\n",
       "      const buttonEl =\n",
       "        document.querySelector('#df-c72848c9-62bd-48e5-9137-304e4e1df19d button.colab-df-convert');\n",
       "      buttonEl.style.display =\n",
       "        google.colab.kernel.accessAllowed ? 'block' : 'none';\n",
       "\n",
       "      async function convertToInteractive(key) {\n",
       "        const element = document.querySelector('#df-c72848c9-62bd-48e5-9137-304e4e1df19d');\n",
       "        const dataTable =\n",
       "          await google.colab.kernel.invokeFunction('convertToInteractive',\n",
       "                                                    [key], {});\n",
       "        if (!dataTable) return;\n",
       "\n",
       "        const docLinkHtml = 'Like what you see? Visit the ' +\n",
       "          '<a target=\"_blank\" href=https://colab.research.google.com/notebooks/data_table.ipynb>data table notebook</a>'\n",
       "          + ' to learn more about interactive tables.';\n",
       "        element.innerHTML = '';\n",
       "        dataTable['output_type'] = 'display_data';\n",
       "        await google.colab.output.renderOutput(dataTable, element);\n",
       "        const docLink = document.createElement('div');\n",
       "        docLink.innerHTML = docLinkHtml;\n",
       "        element.appendChild(docLink);\n",
       "      }\n",
       "    </script>\n",
       "  </div>\n",
       "\n",
       "\n",
       "<div id=\"df-34b3cac1-723e-40e2-8fd9-f51e4e69d812\">\n",
       "  <button class=\"colab-df-quickchart\" onclick=\"quickchart('df-34b3cac1-723e-40e2-8fd9-f51e4e69d812')\"\n",
       "            title=\"Suggest charts\"\n",
       "            style=\"display:none;\">\n",
       "\n",
       "<svg xmlns=\"http://www.w3.org/2000/svg\" height=\"24px\"viewBox=\"0 0 24 24\"\n",
       "     width=\"24px\">\n",
       "    <g>\n",
       "        <path d=\"M19 3H5c-1.1 0-2 .9-2 2v14c0 1.1.9 2 2 2h14c1.1 0 2-.9 2-2V5c0-1.1-.9-2-2-2zM9 17H7v-7h2v7zm4 0h-2V7h2v10zm4 0h-2v-4h2v4z\"/>\n",
       "    </g>\n",
       "</svg>\n",
       "  </button>\n",
       "\n",
       "<style>\n",
       "  .colab-df-quickchart {\n",
       "      --bg-color: #E8F0FE;\n",
       "      --fill-color: #1967D2;\n",
       "      --hover-bg-color: #E2EBFA;\n",
       "      --hover-fill-color: #174EA6;\n",
       "      --disabled-fill-color: #AAA;\n",
       "      --disabled-bg-color: #DDD;\n",
       "  }\n",
       "\n",
       "  [theme=dark] .colab-df-quickchart {\n",
       "      --bg-color: #3B4455;\n",
       "      --fill-color: #D2E3FC;\n",
       "      --hover-bg-color: #434B5C;\n",
       "      --hover-fill-color: #FFFFFF;\n",
       "      --disabled-bg-color: #3B4455;\n",
       "      --disabled-fill-color: #666;\n",
       "  }\n",
       "\n",
       "  .colab-df-quickchart {\n",
       "    background-color: var(--bg-color);\n",
       "    border: none;\n",
       "    border-radius: 50%;\n",
       "    cursor: pointer;\n",
       "    display: none;\n",
       "    fill: var(--fill-color);\n",
       "    height: 32px;\n",
       "    padding: 0;\n",
       "    width: 32px;\n",
       "  }\n",
       "\n",
       "  .colab-df-quickchart:hover {\n",
       "    background-color: var(--hover-bg-color);\n",
       "    box-shadow: 0 1px 2px rgba(60, 64, 67, 0.3), 0 1px 3px 1px rgba(60, 64, 67, 0.15);\n",
       "    fill: var(--button-hover-fill-color);\n",
       "  }\n",
       "\n",
       "  .colab-df-quickchart-complete:disabled,\n",
       "  .colab-df-quickchart-complete:disabled:hover {\n",
       "    background-color: var(--disabled-bg-color);\n",
       "    fill: var(--disabled-fill-color);\n",
       "    box-shadow: none;\n",
       "  }\n",
       "\n",
       "  .colab-df-spinner {\n",
       "    border: 2px solid var(--fill-color);\n",
       "    border-color: transparent;\n",
       "    border-bottom-color: var(--fill-color);\n",
       "    animation:\n",
       "      spin 1s steps(1) infinite;\n",
       "  }\n",
       "\n",
       "  @keyframes spin {\n",
       "    0% {\n",
       "      border-color: transparent;\n",
       "      border-bottom-color: var(--fill-color);\n",
       "      border-left-color: var(--fill-color);\n",
       "    }\n",
       "    20% {\n",
       "      border-color: transparent;\n",
       "      border-left-color: var(--fill-color);\n",
       "      border-top-color: var(--fill-color);\n",
       "    }\n",
       "    30% {\n",
       "      border-color: transparent;\n",
       "      border-left-color: var(--fill-color);\n",
       "      border-top-color: var(--fill-color);\n",
       "      border-right-color: var(--fill-color);\n",
       "    }\n",
       "    40% {\n",
       "      border-color: transparent;\n",
       "      border-right-color: var(--fill-color);\n",
       "      border-top-color: var(--fill-color);\n",
       "    }\n",
       "    60% {\n",
       "      border-color: transparent;\n",
       "      border-right-color: var(--fill-color);\n",
       "    }\n",
       "    80% {\n",
       "      border-color: transparent;\n",
       "      border-right-color: var(--fill-color);\n",
       "      border-bottom-color: var(--fill-color);\n",
       "    }\n",
       "    90% {\n",
       "      border-color: transparent;\n",
       "      border-bottom-color: var(--fill-color);\n",
       "    }\n",
       "  }\n",
       "</style>\n",
       "\n",
       "  <script>\n",
       "    async function quickchart(key) {\n",
       "      const quickchartButtonEl =\n",
       "        document.querySelector('#' + key + ' button');\n",
       "      quickchartButtonEl.disabled = true;  // To prevent multiple clicks.\n",
       "      quickchartButtonEl.classList.add('colab-df-spinner');\n",
       "      try {\n",
       "        const charts = await google.colab.kernel.invokeFunction(\n",
       "            'suggestCharts', [key], {});\n",
       "      } catch (error) {\n",
       "        console.error('Error during call to suggestCharts:', error);\n",
       "      }\n",
       "      quickchartButtonEl.classList.remove('colab-df-spinner');\n",
       "      quickchartButtonEl.classList.add('colab-df-quickchart-complete');\n",
       "    }\n",
       "    (() => {\n",
       "      let quickchartButtonEl =\n",
       "        document.querySelector('#df-34b3cac1-723e-40e2-8fd9-f51e4e69d812 button');\n",
       "      quickchartButtonEl.style.display =\n",
       "        google.colab.kernel.accessAllowed ? 'block' : 'none';\n",
       "    })();\n",
       "  </script>\n",
       "</div>\n",
       "    </div>\n",
       "  </div>\n"
      ],
      "text/plain": [
       "       distance  vehicle_age  weather_1_cloudy  weather_1_fog  \\\n",
       "26961 -0.118598     0.678658               1.0            0.0   \n",
       "26831  0.046290     1.305144               0.0            0.0   \n",
       "36754 -0.114476    -0.887558               0.0            0.0   \n",
       "\n",
       "       weather_1_other  weather_1_raining  weather_1_snowing  weather_1_wind  \\\n",
       "26961              0.0                0.0                0.0             0.0   \n",
       "26831              0.0                0.0                0.0             0.0   \n",
       "36754              0.0                0.0                0.0             0.0   \n",
       "\n",
       "       pcf_violation_category_brakes  pcf_violation_category_dui  ...  \\\n",
       "26961                            0.0                         0.0  ...   \n",
       "26831                            0.0                         0.0  ...   \n",
       "36754                            0.0                         0.0  ...   \n",
       "\n",
       "       control_device_none  control_device_not functioning  \\\n",
       "26961                  0.0                             0.0   \n",
       "26831                  1.0                             0.0   \n",
       "36754                  1.0                             0.0   \n",
       "\n",
       "       control_device_obscured  \\\n",
       "26961                      0.0   \n",
       "26831                      0.0   \n",
       "36754                      0.0   \n",
       "\n",
       "       party_sobriety_had been drinking, not under influence  \\\n",
       "26961                                                0.0       \n",
       "26831                                                0.0       \n",
       "36754                                                0.0       \n",
       "\n",
       "       party_sobriety_had been drinking, under influence  \\\n",
       "26961                                                0.0   \n",
       "26831                                                0.0   \n",
       "36754                                                0.0   \n",
       "\n",
       "       party_sobriety_had not been drinking  \\\n",
       "26961                                   1.0   \n",
       "26831                                   1.0   \n",
       "36754                                   1.0   \n",
       "\n",
       "       party_sobriety_impairment unknown  party_sobriety_not applicable  \\\n",
       "26961                                0.0                            0.0   \n",
       "26831                                0.0                            0.0   \n",
       "36754                                0.0                            0.0   \n",
       "\n",
       "       intersection_1.0  cellphone_in_use_1.0  \n",
       "26961               1.0                   0.0  \n",
       "26831               0.0                   0.0  \n",
       "36754               0.0                   0.0  \n",
       "\n",
       "[3 rows x 53 columns]"
      ]
     },
     "execution_count": 35,
     "metadata": {},
     "output_type": "execute_result"
    }
   ],
   "source": [
    "ohe.fit(X_train[cat_feat])\n",
    "train_ohe = pd.DataFrame(ohe.transform(X_train[cat_feat]).toarray(),\n",
    "             columns=ohe.get_feature_names_out())\n",
    "test_ohe = pd.DataFrame(ohe.transform(X_test[cat_feat]).toarray(),\n",
    "             columns=ohe.get_feature_names_out())\n",
    "X_train_ohe = pd.concat([X_train[num_feat], train_ohe], axis=1)\n",
    "X_test_ohe = pd.concat([X_test[num_feat], test_ohe], axis=1)\n",
    "\n",
    "print(X_train_ohe.shape)\n",
    "print(X_test_ohe.shape)\n",
    "X_train_ohe.sample(3)"
   ]
  },
  {
   "cell_type": "markdown",
   "id": "4b8de829",
   "metadata": {
    "id": "4b8de829"
   },
   "source": [
    "* Использовал ohe для кодирования категориальных признаков, так как потом буду использовать нейронку.\n",
    "\n",
    "* OrdinalEncoder использую для деревянных и бустинговых моделей."
   ]
  },
  {
   "cell_type": "markdown",
   "id": "e2bc2089",
   "metadata": {
    "id": "e2bc2089"
   },
   "source": [
    "## Разработка моделей"
   ]
  },
  {
   "cell_type": "markdown",
   "id": "5160ae09-ee8f-40df-b316-788393cd692d",
   "metadata": {},
   "source": [
    "В качестве метрики качества использую f1-меру."
   ]
  },
  {
   "cell_type": "markdown",
   "id": "7cddd850",
   "metadata": {
    "id": "7cddd850"
   },
   "source": [
    "### Логистическая регрессия"
   ]
  },
  {
   "cell_type": "code",
   "execution_count": null,
   "id": "2b30100b",
   "metadata": {
    "colab": {
     "base_uri": "https://localhost:8080/"
    },
    "id": "2b30100b",
    "outputId": "cd0c0b96-1dcb-4b75-d1fe-570085e31c03",
    "scrolled": true
   },
   "outputs": [
    {
     "name": "stdout",
     "output_type": "stream",
     "text": [
      "{'C': 2, 'max_iter': 300, 'solver': 'newton-cg'}\n",
      "f1: 0.6622243134158025\n"
     ]
    }
   ],
   "source": [
    "lr = GridSearchCV(LogisticRegression(random_state=st, penalty='l2'), {'C': [2, 1, 0.7],\n",
    "                                                                     'solver': ['newton-cg',\n",
    "                                                                                'lbfgs'],\n",
    "                                                                     'max_iter': [300, 350, 400]},\n",
    "                 refit='f1',  cv=StratifiedKFold(5))\n",
    "lr.fit(X_train_ohe, y_train)\n",
    "print(lr.best_params_)\n",
    "print('f1:', lr.best_score_)"
   ]
  },
  {
   "cell_type": "markdown",
   "id": "9a219835",
   "metadata": {
    "id": "9a219835"
   },
   "source": [
    "Подбирал гиперпараметры solver, C (для solver) и количество итераций. Лучшая метрика = 0.66"
   ]
  },
  {
   "cell_type": "markdown",
   "id": "8120a7b3",
   "metadata": {
    "id": "8120a7b3"
   },
   "source": [
    "### Лес решений"
   ]
  },
  {
   "cell_type": "code",
   "execution_count": null,
   "id": "c2d4c5c0",
   "metadata": {
    "colab": {
     "base_uri": "https://localhost:8080/"
    },
    "id": "c2d4c5c0",
    "outputId": "9665c399-d12c-4941-ca6a-9c2a556d3eb4"
   },
   "outputs": [
    {
     "name": "stdout",
     "output_type": "stream",
     "text": [
      "{'criterion': 'entropy', 'max_depth': 12, 'n_estimators': 55}\n",
      "0.6706983588658311\n"
     ]
    }
   ],
   "source": [
    "dt = GridSearchCV(RandomForestClassifier(random_state=st), {'max_depth': [12, 15, 20],\n",
    "                                            'n_estimators': [55, 60, 65],\n",
    "                                            'criterion': ['gini', 'entropy', 'log_loss']},\n",
    "                 refit='f1',  cv=StratifiedKFold(5))\n",
    "dt.fit(X_train_enc, y_train)\n",
    "print(dt.best_params_)\n",
    "print(dt.best_score_)"
   ]
  },
  {
   "cell_type": "markdown",
   "id": "6504df5c",
   "metadata": {
    "id": "6504df5c"
   },
   "source": [
    "Для леса подбирал глубину, количество деревьев и функцию, которую минимизируем. Лучшая метрика 0.67."
   ]
  },
  {
   "cell_type": "markdown",
   "id": "e53a8739-4194-4664-b343-d1c53b65388f",
   "metadata": {},
   "source": [
    "### XGB"
   ]
  },
  {
   "cell_type": "code",
   "execution_count": null,
   "id": "owWUupZjoQQo",
   "metadata": {
    "colab": {
     "base_uri": "https://localhost:8080/"
    },
    "id": "owWUupZjoQQo",
    "outputId": "88bfba42-26c0-454b-ced7-85ad8ab136be"
   },
   "outputs": [
    {
     "name": "stdout",
     "output_type": "stream",
     "text": [
      "Используется GPU\n"
     ]
    }
   ],
   "source": [
    "if torch.cuda.is_available():\n",
    "    device = torch.device(\"cuda\")\n",
    "    print(\"Используется GPU\")\n",
    "else:\n",
    "    device = torch.device(\"cpu\")\n",
    "    print(\"Используется CPU\")"
   ]
  },
  {
   "cell_type": "code",
   "execution_count": null,
   "id": "KYN_E1nClt9C",
   "metadata": {
    "colab": {
     "base_uri": "https://localhost:8080/"
    },
    "id": "KYN_E1nClt9C",
    "outputId": "b6818b04-6828-4969-c434-13b678a47501"
   },
   "outputs": [
    {
     "name": "stdout",
     "output_type": "stream",
     "text": [
      "{'depth': 10, 'learning_rate': 0.01}\n",
      "0.6754744667439885\n"
     ]
    }
   ],
   "source": [
    "xgb = XGBClassifier(objective=\"binary:logistic\", learning_rate=0.02,\n",
    "                    silent=True, n_estimators=600)#, tree_method='gpu_hist'\n",
    "params = {\n",
    "        'depth': [10, 12, 14],\n",
    "        'learning_rate': [0.001, 0.01, 0.05]\n",
    "        }\n",
    "\n",
    "CV_xgb = GridSearchCV(xgb, param_grid=params, refit='f1',\n",
    "                      cv=StratifiedKFold(5), error_score='raise', n_jobs=1);\n",
    "CV_xgb.fit(X_train_enc, y_train);\n",
    "print(CV_xgb.best_params_)\n",
    "print(CV_xgb.best_score_)"
   ]
  },
  {
   "cell_type": "markdown",
   "id": "63e735f2-a3c0-4a1c-bd55-428eae9d438f",
   "metadata": {},
   "source": [
    "XGBClassifier дал лучшую метрику f1: 0.675"
   ]
  },
  {
   "cell_type": "markdown",
   "id": "7c3e212f",
   "metadata": {
    "id": "7c3e212f"
   },
   "source": [
    "### Многослойный перцептрон"
   ]
  },
  {
   "cell_type": "code",
   "execution_count": null,
   "id": "b187d1df",
   "metadata": {
    "id": "b187d1df"
   },
   "outputs": [],
   "source": [
    "class net1(nn.Module):\n",
    "    def __init__(self, n_in_neurons, n_hidden_neurons_1, n_hidden_neurons_2,\n",
    "                 n_out_neurons):\n",
    "        super(net1, self).__init__()\n",
    "\n",
    "        self.layer1 = nn.Linear(n_in_neurons, n_hidden_neurons_1)\n",
    "        self.layer2 = nn.Linear(n_hidden_neurons_1, n_hidden_neurons_2)\n",
    "        self.bn2 = nn.BatchNorm1d(n_hidden_neurons_2)\n",
    "        self.layer3 = nn.Linear(n_hidden_neurons_2, n_out_neurons)\n",
    "        self.act1 = nn.Sigmoid()\n",
    "\n",
    "    def forward(self, x):\n",
    "        x = self.layer1(x)\n",
    "        x = self.act1(x)\n",
    "        x = self.layer2(x)\n",
    "        x = self.bn2(x)\n",
    "        x = self.act1(x)\n",
    "        x = self.layer3(x)\n",
    "        x = self.act1(x)\n",
    "        return x"
   ]
  },
  {
   "cell_type": "code",
   "execution_count": null,
   "id": "179c2bab",
   "metadata": {
    "colab": {
     "base_uri": "https://localhost:8080/"
    },
    "id": "179c2bab",
    "outputId": "5ac05d59-2c66-4b05-dfb1-9b574aff18ed"
   },
   "outputs": [
    {
     "name": "stdout",
     "output_type": "stream",
     "text": [
      "epoch: 0 f1_score: 0.6167365148032986\n",
      "epoch: 20 f1_score: 0.5633911965282083\n",
      "epoch: 40 f1_score: 0.6508816748707085\n",
      "epoch: 60 f1_score: 0.5715800636267232\n",
      "epoch: 80 f1_score: 0.5702101736216875\n",
      "epoch: 100 f1_score: 0.4166969147005445\n",
      "epoch: 120 f1_score: 0.5524792742061629\n",
      "epoch: 140 f1_score: 0.26461843409316155\n",
      "epoch: 160 f1_score: 0.572468162522741\n",
      "epoch: 180 f1_score: 0.5670979101278419\n",
      "epoch: 200 f1_score: 0.6730004770233742\n"
     ]
    }
   ],
   "source": [
    "model = net1(X_train_ohe.shape[1], 40, 12, 1) # количество нейронов\n",
    "warnings.filterwarnings('ignore')\n",
    "\n",
    "loss = nn.BCELoss()\n",
    "#optimizer = torch.optim.Adam(model.parameters(), lr=0.001)\n",
    "#optimizer = torch.optim.SGD(model.parameters(), lr=0.001)\n",
    "optimizer = torch.optim.RMSprop(model.parameters(), lr=0.5, alpha=0.9, eps=1e-05)\n",
    "\n",
    "batch_size = 200\n",
    "num_epochs = 201\n",
    "num_batches = ceil(X_train_ohe.shape[0]/batch_size)\n",
    "for epoch in range(num_epochs):\n",
    "    order = np.random.permutation(X_train_ohe.shape[0])\n",
    "    for batch_idx in range(num_batches):\n",
    "        optimizer.zero_grad()\n",
    "        st_ind = batch_idx*batch_size\n",
    "        batch_indexes = order[st_ind:st_ind+batch_size]\n",
    "        X_batch = torch.from_numpy(X_train_ohe.values[batch_indexes]).type(torch.FloatTensor)\n",
    "        y_batch = torch.from_numpy(y_train.values[batch_indexes]).type(torch.FloatTensor)\n",
    "\n",
    "        pred = model.forward(X_batch).flatten()\n",
    "        loss_value = loss(pred, y_batch)\n",
    "        optimizer.zero_grad()\n",
    "        loss_value.backward()\n",
    "        optimizer.step()\n",
    "    if epoch%20 == 0 or epoch==num_epochs-1:\n",
    "        model.eval()\n",
    "        test_preds = model.forward(torch.from_numpy(X_test_ohe.values).type(torch.FloatTensor))\n",
    "        test_preds = test_preds.detach().numpy().transpose()[0]\n",
    "        for i in range(len(test_preds)):\n",
    "            if test_preds[i]>=0.5:\n",
    "                test_preds[i] = 1\n",
    "            else:\n",
    "                test_preds[i] = 0\n",
    "        print(f'epoch: {epoch} f1_score:', f1_score(y_test, test_preds))"
   ]
  },
  {
   "cell_type": "markdown",
   "id": "18c6f743",
   "metadata": {
    "id": "18c6f743"
   },
   "source": [
    "Разработал модель персептрона с двумя скрытыми слоями и функцией активации сигмойдой. Использовал батчнормализацию для предотвращения переобучения. \n",
    "Проверял на тестовых данных после каждой 20-ой эпохи метрику, просто чтобы знать, так как не брал валидационную выборку."
   ]
  },
  {
   "cell_type": "markdown",
   "id": "cb48de5e-8846-469c-a929-c98a3f5407a9",
   "metadata": {},
   "source": [
    "* В качестве меры использовал f1-меру.\n",
    "\n",
    "* XGBClassifier дал лучшую метрику f1: 0.675\n",
    "\n",
    "* Для подбора параметров использовал кросс-валидацию на 5 фолдах. "
   ]
  },
  {
   "cell_type": "markdown",
   "id": "ec260d14",
   "metadata": {
    "id": "ec260d14"
   },
   "source": [
    "###  Лучшая модель"
   ]
  },
  {
   "cell_type": "markdown",
   "id": "02ed8e90",
   "metadata": {
    "id": "02ed8e90"
   },
   "source": [
    "Использую XGBClassifier с подходящими параметрами."
   ]
  },
  {
   "cell_type": "code",
   "execution_count": null,
   "id": "d6564906",
   "metadata": {
    "colab": {
     "base_uri": "https://localhost:8080/"
    },
    "id": "d6564906",
    "outputId": "fd45af35-dedd-42f7-a473-d26dfae22f88"
   },
   "outputs": [
    {
     "name": "stdout",
     "output_type": "stream",
     "text": [
      "f1: 0.64501312335958\n"
     ]
    }
   ],
   "source": [
    "#получение предсказаний на лесе решений\n",
    "xgb = CV_xgb.best_estimator_\n",
    "test_preds = xgb.predict(X_test_enc)\n",
    "f1 = f1_score(y_test, test_preds)\n",
    "print('f1:', f1)"
   ]
  },
  {
   "cell_type": "markdown",
   "id": "1685de57",
   "metadata": {
    "id": "1685de57"
   },
   "source": [
    "Метрика на тестовых данных 0.645."
   ]
  },
  {
   "cell_type": "code",
   "execution_count": null,
   "id": "09jZwiov6RhQ",
   "metadata": {
    "colab": {
     "base_uri": "https://localhost:8080/",
     "height": 112
    },
    "id": "09jZwiov6RhQ",
    "outputId": "d81e601e-35e3-4ec5-eccf-0e7f95d84ec0"
   },
   "outputs": [
    {
     "data": {
      "application/vnd.google.colaboratory.intrinsic+json": {
       "summary": "{\n  \"name\": \"pd\",\n  \"rows\": 2,\n  \"fields\": [\n    {\n      \"column\": \"1\",\n      \"properties\": {\n        \"dtype\": \"number\",\n        \"std\": 1991,\n        \"min\": 3550,\n        \"max\": 6366,\n        \"num_unique_values\": 2,\n        \"samples\": [\n          3550,\n          6366\n        ],\n        \"semantic_type\": \"\",\n        \"description\": \"\"\n      }\n    },\n    {\n      \"column\": \"0\",\n      \"properties\": {\n        \"dtype\": \"number\",\n        \"std\": 2160,\n        \"min\": 1860,\n        \"max\": 4915,\n        \"num_unique_values\": 2,\n        \"samples\": [\n          4915,\n          1860\n        ],\n        \"semantic_type\": \"\",\n        \"description\": \"\"\n      }\n    }\n  ]\n}",
       "type": "dataframe"
      },
      "text/html": [
       "\n",
       "  <div id=\"df-cdd344ae-7c0e-46e5-a42c-d35c4c8b887f\" class=\"colab-df-container\">\n",
       "    <div>\n",
       "<style scoped>\n",
       "    .dataframe tbody tr th:only-of-type {\n",
       "        vertical-align: middle;\n",
       "    }\n",
       "\n",
       "    .dataframe tbody tr th {\n",
       "        vertical-align: top;\n",
       "    }\n",
       "\n",
       "    .dataframe thead th {\n",
       "        text-align: right;\n",
       "    }\n",
       "</style>\n",
       "<table border=\"1\" class=\"dataframe\">\n",
       "  <thead>\n",
       "    <tr style=\"text-align: right;\">\n",
       "      <th></th>\n",
       "      <th>1</th>\n",
       "      <th>0</th>\n",
       "    </tr>\n",
       "  </thead>\n",
       "  <tbody>\n",
       "    <tr>\n",
       "      <th>1</th>\n",
       "      <td>6366</td>\n",
       "      <td>1860</td>\n",
       "    </tr>\n",
       "    <tr>\n",
       "      <th>0</th>\n",
       "      <td>3550</td>\n",
       "      <td>4915</td>\n",
       "    </tr>\n",
       "  </tbody>\n",
       "</table>\n",
       "</div>\n",
       "    <div class=\"colab-df-buttons\">\n",
       "\n",
       "  <div class=\"colab-df-container\">\n",
       "    <button class=\"colab-df-convert\" onclick=\"convertToInteractive('df-cdd344ae-7c0e-46e5-a42c-d35c4c8b887f')\"\n",
       "            title=\"Convert this dataframe to an interactive table.\"\n",
       "            style=\"display:none;\">\n",
       "\n",
       "  <svg xmlns=\"http://www.w3.org/2000/svg\" height=\"24px\" viewBox=\"0 -960 960 960\">\n",
       "    <path d=\"M120-120v-720h720v720H120Zm60-500h600v-160H180v160Zm220 220h160v-160H400v160Zm0 220h160v-160H400v160ZM180-400h160v-160H180v160Zm440 0h160v-160H620v160ZM180-180h160v-160H180v160Zm440 0h160v-160H620v160Z\"/>\n",
       "  </svg>\n",
       "    </button>\n",
       "\n",
       "  <style>\n",
       "    .colab-df-container {\n",
       "      display:flex;\n",
       "      gap: 12px;\n",
       "    }\n",
       "\n",
       "    .colab-df-convert {\n",
       "      background-color: #E8F0FE;\n",
       "      border: none;\n",
       "      border-radius: 50%;\n",
       "      cursor: pointer;\n",
       "      display: none;\n",
       "      fill: #1967D2;\n",
       "      height: 32px;\n",
       "      padding: 0 0 0 0;\n",
       "      width: 32px;\n",
       "    }\n",
       "\n",
       "    .colab-df-convert:hover {\n",
       "      background-color: #E2EBFA;\n",
       "      box-shadow: 0px 1px 2px rgba(60, 64, 67, 0.3), 0px 1px 3px 1px rgba(60, 64, 67, 0.15);\n",
       "      fill: #174EA6;\n",
       "    }\n",
       "\n",
       "    .colab-df-buttons div {\n",
       "      margin-bottom: 4px;\n",
       "    }\n",
       "\n",
       "    [theme=dark] .colab-df-convert {\n",
       "      background-color: #3B4455;\n",
       "      fill: #D2E3FC;\n",
       "    }\n",
       "\n",
       "    [theme=dark] .colab-df-convert:hover {\n",
       "      background-color: #434B5C;\n",
       "      box-shadow: 0px 1px 3px 1px rgba(0, 0, 0, 0.15);\n",
       "      filter: drop-shadow(0px 1px 2px rgba(0, 0, 0, 0.3));\n",
       "      fill: #FFFFFF;\n",
       "    }\n",
       "  </style>\n",
       "\n",
       "    <script>\n",
       "      const buttonEl =\n",
       "        document.querySelector('#df-cdd344ae-7c0e-46e5-a42c-d35c4c8b887f button.colab-df-convert');\n",
       "      buttonEl.style.display =\n",
       "        google.colab.kernel.accessAllowed ? 'block' : 'none';\n",
       "\n",
       "      async function convertToInteractive(key) {\n",
       "        const element = document.querySelector('#df-cdd344ae-7c0e-46e5-a42c-d35c4c8b887f');\n",
       "        const dataTable =\n",
       "          await google.colab.kernel.invokeFunction('convertToInteractive',\n",
       "                                                    [key], {});\n",
       "        if (!dataTable) return;\n",
       "\n",
       "        const docLinkHtml = 'Like what you see? Visit the ' +\n",
       "          '<a target=\"_blank\" href=https://colab.research.google.com/notebooks/data_table.ipynb>data table notebook</a>'\n",
       "          + ' to learn more about interactive tables.';\n",
       "        element.innerHTML = '';\n",
       "        dataTable['output_type'] = 'display_data';\n",
       "        await google.colab.output.renderOutput(dataTable, element);\n",
       "        const docLink = document.createElement('div');\n",
       "        docLink.innerHTML = docLinkHtml;\n",
       "        element.appendChild(docLink);\n",
       "      }\n",
       "    </script>\n",
       "  </div>\n",
       "\n",
       "\n",
       "<div id=\"df-c67613ea-ea82-40ec-a407-d6bf81de28cb\">\n",
       "  <button class=\"colab-df-quickchart\" onclick=\"quickchart('df-c67613ea-ea82-40ec-a407-d6bf81de28cb')\"\n",
       "            title=\"Suggest charts\"\n",
       "            style=\"display:none;\">\n",
       "\n",
       "<svg xmlns=\"http://www.w3.org/2000/svg\" height=\"24px\"viewBox=\"0 0 24 24\"\n",
       "     width=\"24px\">\n",
       "    <g>\n",
       "        <path d=\"M19 3H5c-1.1 0-2 .9-2 2v14c0 1.1.9 2 2 2h14c1.1 0 2-.9 2-2V5c0-1.1-.9-2-2-2zM9 17H7v-7h2v7zm4 0h-2V7h2v10zm4 0h-2v-4h2v4z\"/>\n",
       "    </g>\n",
       "</svg>\n",
       "  </button>\n",
       "\n",
       "<style>\n",
       "  .colab-df-quickchart {\n",
       "      --bg-color: #E8F0FE;\n",
       "      --fill-color: #1967D2;\n",
       "      --hover-bg-color: #E2EBFA;\n",
       "      --hover-fill-color: #174EA6;\n",
       "      --disabled-fill-color: #AAA;\n",
       "      --disabled-bg-color: #DDD;\n",
       "  }\n",
       "\n",
       "  [theme=dark] .colab-df-quickchart {\n",
       "      --bg-color: #3B4455;\n",
       "      --fill-color: #D2E3FC;\n",
       "      --hover-bg-color: #434B5C;\n",
       "      --hover-fill-color: #FFFFFF;\n",
       "      --disabled-bg-color: #3B4455;\n",
       "      --disabled-fill-color: #666;\n",
       "  }\n",
       "\n",
       "  .colab-df-quickchart {\n",
       "    background-color: var(--bg-color);\n",
       "    border: none;\n",
       "    border-radius: 50%;\n",
       "    cursor: pointer;\n",
       "    display: none;\n",
       "    fill: var(--fill-color);\n",
       "    height: 32px;\n",
       "    padding: 0;\n",
       "    width: 32px;\n",
       "  }\n",
       "\n",
       "  .colab-df-quickchart:hover {\n",
       "    background-color: var(--hover-bg-color);\n",
       "    box-shadow: 0 1px 2px rgba(60, 64, 67, 0.3), 0 1px 3px 1px rgba(60, 64, 67, 0.15);\n",
       "    fill: var(--button-hover-fill-color);\n",
       "  }\n",
       "\n",
       "  .colab-df-quickchart-complete:disabled,\n",
       "  .colab-df-quickchart-complete:disabled:hover {\n",
       "    background-color: var(--disabled-bg-color);\n",
       "    fill: var(--disabled-fill-color);\n",
       "    box-shadow: none;\n",
       "  }\n",
       "\n",
       "  .colab-df-spinner {\n",
       "    border: 2px solid var(--fill-color);\n",
       "    border-color: transparent;\n",
       "    border-bottom-color: var(--fill-color);\n",
       "    animation:\n",
       "      spin 1s steps(1) infinite;\n",
       "  }\n",
       "\n",
       "  @keyframes spin {\n",
       "    0% {\n",
       "      border-color: transparent;\n",
       "      border-bottom-color: var(--fill-color);\n",
       "      border-left-color: var(--fill-color);\n",
       "    }\n",
       "    20% {\n",
       "      border-color: transparent;\n",
       "      border-left-color: var(--fill-color);\n",
       "      border-top-color: var(--fill-color);\n",
       "    }\n",
       "    30% {\n",
       "      border-color: transparent;\n",
       "      border-left-color: var(--fill-color);\n",
       "      border-top-color: var(--fill-color);\n",
       "      border-right-color: var(--fill-color);\n",
       "    }\n",
       "    40% {\n",
       "      border-color: transparent;\n",
       "      border-right-color: var(--fill-color);\n",
       "      border-top-color: var(--fill-color);\n",
       "    }\n",
       "    60% {\n",
       "      border-color: transparent;\n",
       "      border-right-color: var(--fill-color);\n",
       "    }\n",
       "    80% {\n",
       "      border-color: transparent;\n",
       "      border-right-color: var(--fill-color);\n",
       "      border-bottom-color: var(--fill-color);\n",
       "    }\n",
       "    90% {\n",
       "      border-color: transparent;\n",
       "      border-bottom-color: var(--fill-color);\n",
       "    }\n",
       "  }\n",
       "</style>\n",
       "\n",
       "  <script>\n",
       "    async function quickchart(key) {\n",
       "      const quickchartButtonEl =\n",
       "        document.querySelector('#' + key + ' button');\n",
       "      quickchartButtonEl.disabled = true;  // To prevent multiple clicks.\n",
       "      quickchartButtonEl.classList.add('colab-df-spinner');\n",
       "      try {\n",
       "        const charts = await google.colab.kernel.invokeFunction(\n",
       "            'suggestCharts', [key], {});\n",
       "      } catch (error) {\n",
       "        console.error('Error during call to suggestCharts:', error);\n",
       "      }\n",
       "      quickchartButtonEl.classList.remove('colab-df-spinner');\n",
       "      quickchartButtonEl.classList.add('colab-df-quickchart-complete');\n",
       "    }\n",
       "    (() => {\n",
       "      let quickchartButtonEl =\n",
       "        document.querySelector('#df-c67613ea-ea82-40ec-a407-d6bf81de28cb button');\n",
       "      quickchartButtonEl.style.display =\n",
       "        google.colab.kernel.accessAllowed ? 'block' : 'none';\n",
       "    })();\n",
       "  </script>\n",
       "</div>\n",
       "    </div>\n",
       "  </div>\n"
      ],
      "text/plain": [
       "      1     0\n",
       "1  6366  1860\n",
       "0  3550  4915"
      ]
     },
     "execution_count": 51,
     "metadata": {},
     "output_type": "execute_result"
    }
   ],
   "source": [
    "pd.DataFrame(confusion_matrix(y_test, test_preds), columns=['1', '0'], index=[1, 0])"
   ]
  },
  {
   "cell_type": "markdown",
   "id": "75fd22ff",
   "metadata": {
    "id": "75fd22ff"
   },
   "source": [
    "Матрица ошибок"
   ]
  },
  {
   "cell_type": "code",
   "execution_count": null,
   "id": "1c3f865c",
   "metadata": {
    "colab": {
     "base_uri": "https://localhost:8080/",
     "height": 564
    },
    "id": "1c3f865c",
    "outputId": "96a91f25-33b7-4420-ee50-7f80bcdc2354"
   },
   "outputs": [
    {
     "data": {
      "image/png": "[encoded data removed]",
      "text/plain": [
       "<Figure size 800x600 with 1 Axes>"
      ]
     },
     "metadata": {},
     "output_type": "display_data"
    }
   ],
   "source": [
    "precision, recall, thresholds = precision_recall_curve(y_test, test_preds)\n",
    "auc_score = auc(recall, precision)\n",
    "plt.figure(figsize=(8, 6))\n",
    "plt.plot(recall, precision, label=f'Precision-Recall Curve (AUC = {auc_score:.2f})')\n",
    "plt.xlabel('Recall')\n",
    "plt.ylabel('Precision')\n",
    "plt.title('Precision-Recall Curve')\n",
    "plt.legend()\n",
    "plt.show()"
   ]
  },
  {
   "cell_type": "markdown",
   "id": "14815a5a-aacd-4769-93a6-b93e05955e74",
   "metadata": {},
   "source": [
    "Площадь под графиком точности-полноты: 0.76 \n",
    "\n",
    "* Метрика precision в данном случае обозначает, как много ответов, что ДТП произойдет не по вине водителя, нашла модель, пока искала ДТП, где водитель виновен.\n",
    "\n",
    "* Метрика recall выявляет, какую долю составляют ДТП по вине водителя среди всех ДТП.\n",
    "\n",
    "* На графике чем лучше классификатор разделяет два класса, тем больше площадь."
   ]
  },
  {
   "cell_type": "markdown",
   "id": "dae32925",
   "metadata": {
    "id": "dae32925"
   },
   "source": [
    "## Анализ важности признаков"
   ]
  },
  {
   "cell_type": "code",
   "execution_count": null,
   "id": "6urELPhwHrrh",
   "metadata": {
    "colab": {
     "base_uri": "https://localhost:8080/",
     "height": 904
    },
    "id": "6urELPhwHrrh",
    "outputId": "3516f9a8-6e6a-4c16-a94c-602cf97ea0c9"
   },
   "outputs": [
    {
     "data": {
      "image/png": "[encoded data removed]",
      "text/plain": [
       "<Figure size 1600x1400 with 1 Axes>"
      ]
     },
     "metadata": {},
     "output_type": "display_data"
    }
   ],
   "source": [
    "importance = pd.Series(xgb.feature_importances_,\n",
    "                         X_train_enc.columns)*100\n",
    "importance = importance.loc[importance>1.5]\n",
    "fig, ax = plt.subplots(figsize=(16,14))\n",
    "importance.plot.bar(ax=ax)\n",
    "ax.set_title(\"Важность признаков\")\n",
    "ax.set_ylabel('Важность, %')\n",
    "fig.tight_layout()"
   ]
  },
  {
   "cell_type": "markdown",
   "id": "4c1bce53",
   "metadata": {
    "id": "4c1bce53"
   },
   "source": [
    "Из важности признаков видим, что больше наиболее важными признаками были:\n",
    "\n",
    "* Трезвость\n",
    "* Категория нарушения\n",
    "* Состояние дороги\n",
    "\n",
    "Таким образом, одним из наиболее важных факторов при ДТП является трезвость водителя, как показала модель. А категорию нарушения можно рассматривать как уровень знания правил ПДД. \n",
    "\n",
    "Проанализируем, как трезвость влияет на ДТП."
   ]
  },
  {
   "cell_type": "code",
   "execution_count": null,
   "id": "4de0d925",
   "metadata": {
    "id": "4de0d925"
   },
   "outputs": [],
   "source": [
    "df1 = df[df['at_fault']==1].copy()\n",
    "df2 = df[df['at_fault']==0].copy()"
   ]
  },
  {
   "cell_type": "code",
   "execution_count": null,
   "id": "eb70e85c",
   "metadata": {
    "colab": {
     "base_uri": "https://localhost:8080/",
     "height": 1000
    },
    "id": "eb70e85c",
    "outputId": "7f87c4a8-3aee-4fbb-eb22-866483380239"
   },
   "outputs": [
    {
     "data": {
      "image/png": "[encoded data removed]",
      "text/plain": [
       "<Figure size 1000x800 with 1 Axes>"
      ]
     },
     "metadata": {},
     "output_type": "display_data"
    },
    {
     "data": {
      "image/png": "[encoded data removed]",
      "text/plain": [
       "<Figure size 1000x800 with 1 Axes>"
      ]
     },
     "metadata": {},
     "output_type": "display_data"
    },
    {
     "data": {
      "image/png": "[encoded data removed]",
      "text/plain": [
       "<Figure size 1000x800 with 1 Axes>"
      ]
     },
     "metadata": {},
     "output_type": "display_data"
    }
   ],
   "source": [
    "pd.pivot_table(df, values='at_fault', columns='party_sobriety', aggfunc='count',\n",
    "               margins_name=False).plot(kind='bar',figsize=(10, 8))\n",
    "plt.xlabel('Трезвость водителя')\n",
    "plt.ylabel('Количество ДТП')\n",
    "plt.title('Количество ДТП в зависимости от трезвости')\n",
    "\n",
    "pd.pivot_table(df1, values='at_fault', columns='party_sobriety', aggfunc='count',\n",
    "               margins_name=False).plot(kind='bar',figsize=(10, 8))\n",
    "plt.xlabel('Трезвость водителя')\n",
    "plt.ylabel('Количество ДТП')\n",
    "plt.title('Количество ДТП, когда человек виновен, в зависимости от трезвости')\n",
    "\n",
    "pd.pivot_table(df2, values='at_fault', columns='party_sobriety', aggfunc='count',\n",
    "               margins_name=False).plot(kind='bar',figsize=(10, 8))\n",
    "plt.xlabel('Трезвость водителя')\n",
    "plt.ylabel('Количество ДТП')\n",
    "plt.title('Количество ДТП, когда человек не виновен, в зависимости от трезвости')\n",
    "\n",
    "plt.show();\n"
   ]
  },
  {
   "cell_type": "markdown",
   "id": "e9636a4d",
   "metadata": {
    "id": "e9636a4d"
   },
   "source": [
    "Из столбчатых диаграм видим, что большинство аварий произошло, когда человек не был пьян. Однако, если человек виновен в совершении ДТП, то на втором месте по трезвости стоит алгокольное опьянение. Если же не виновен, то большинство трезвых людей людей попадают в аварии.\n",
    "Кроме того, ранее я рассматривал зависимость серьезности ДТП от того, был ли опьянен виновник, оказалось, что больше всего аварий по вине нетрезвых водителей носят небольшую и среднюю серьезность.\n",
    "Я бы предложил оборудовать алкотеторами автомобили и направленными на водителя камерами.\n",
    "\n",
    "А чтобы увеличить внимание водителей на пешеходов, припаркованные машины и велосипедистов, то встроить предупреждение, например, если водитель заехал во двор или едет по улице, где есть велосипедная дорожка, или пересекает дорожный переход, не оснащенные светофором."
   ]
  },
  {
   "cell_type": "markdown",
   "id": "06b7b57e",
   "metadata": {
    "id": "06b7b57e"
   },
   "source": [
    "## Выводы"
   ]
  },
  {
   "cell_type": "markdown",
   "id": "559ea9e5",
   "metadata": {
    "id": "559ea9e5"
   },
   "source": [
    "***Знакомство с данными***\n",
    "   \n",
    "   - *Загрузка данных и проверка связей через ключ*\n",
    "   \n",
    "   - *Сделал первичный анализ данных*\n",
    "    \n",
    "   - *Создал несколько заданий для ознакомления с данными и выявлений зависимостей*\n",
    "   \n",
    "   - *Разделил на выборки*\n",
    "    \n",
    "***Подготовка данных***\n",
    "   \n",
    "   - *Удалил неинформативные столбцы*\n",
    "\n",
    "   - *Нормализовал количественные признаки*\n",
    "   \n",
    "   - *Разделил на выборки*\n",
    "    \n",
    "   - *Использовал кодирование ohe и OrdinalEncoder категориальных признаков*\n",
    "\n",
    "***Разработка модели ML***\n",
    "\n",
    "   - *Нашел лучшие гиперпараметры, исходя из метрики f1. Использовал Gridsearch с кросс-валидацией*\n",
    "   \n",
    "   - *Рассмотрел логистическую регрессию, RandomForest и XGBClassifier.*\n",
    "\n",
    "   - *Рассмотрел многослойный персептрон с двумя скрытыми слоями*\n",
    "   \n",
    "   - *Лучшей моделью стал XGBClassifier, лучшая метрика 0.645 на тестовой выборке*\n",
    "   \n",
    "***Анализ важности признаков***\n",
    "   \n",
    "   - *Наибольшее влиения на модель оказали следующие признаки: трезвость виновника, категория нарушения и состояние дороги.*\n",
    "\n",
    "   - Большинство аварий произошло, когда человек не был пьян. Однако, если человек виновен в совершении ДТП, то на втором месте по уровню трезвости стоит алгокольное опьянение.\n",
    "   \n",
    "\n",
    "*Таким образом, создание модели оценки рисков ДТП - это вполне реализуемая задача. Я бы хотел запросить у заказчика дополнительные данные про стаж водителя, количество ДТП в которых он уже участвовал. Такие дополнительные данные смогли бы улучшить модель.*"
   ]
  }
 ],
 "metadata": {
  "ExecuteTimeLog": [
   {
    "duration": 9,
    "start_time": "2024-04-30T06:55:32.292Z"
   },
   {
    "duration": 9,
    "start_time": "2024-04-30T09:30:40.414Z"
   },
   {
    "duration": 49,
    "start_time": "2024-04-30T09:36:58.664Z"
   },
   {
    "duration": 286,
    "start_time": "2024-04-30T09:38:06.342Z"
   },
   {
    "duration": 18,
    "start_time": "2024-04-30T09:38:08.269Z"
   },
   {
    "duration": 7303,
    "start_time": "2024-04-30T09:38:18.043Z"
   },
   {
    "duration": 218,
    "start_time": "2024-04-30T09:39:54.112Z"
   },
   {
    "duration": 312,
    "start_time": "2024-04-30T09:40:13.080Z"
   },
   {
    "duration": 2,
    "start_time": "2024-04-30T09:40:32.397Z"
   },
   {
    "duration": 96,
    "start_time": "2024-04-30T09:40:37.674Z"
   },
   {
    "duration": 3,
    "start_time": "2024-04-30T09:47:56.801Z"
   },
   {
    "duration": 5,
    "start_time": "2024-04-30T09:47:57.927Z"
   },
   {
    "duration": 129,
    "start_time": "2024-04-30T09:47:58.617Z"
   },
   {
    "duration": 8,
    "start_time": "2024-04-30T09:49:36.029Z"
   },
   {
    "duration": 5,
    "start_time": "2024-04-30T09:50:03.659Z"
   },
   {
    "duration": 61,
    "start_time": "2024-04-30T09:50:05.065Z"
   },
   {
    "duration": 8,
    "start_time": "2024-04-30T09:54:58.626Z"
   },
   {
    "duration": 3818,
    "start_time": "2024-04-30T09:56:01.801Z"
   },
   {
    "duration": 3,
    "start_time": "2024-04-30T10:35:34.948Z"
   },
   {
    "duration": 6,
    "start_time": "2024-04-30T10:35:35.768Z"
   },
   {
    "duration": 3796,
    "start_time": "2024-04-30T10:35:43.038Z"
   },
   {
    "duration": 84,
    "start_time": "2024-04-30T10:38:27.066Z"
   },
   {
    "duration": 4063,
    "start_time": "2024-04-30T10:39:20.436Z"
   },
   {
    "duration": 3976,
    "start_time": "2024-04-30T10:39:33.405Z"
   },
   {
    "duration": 16082,
    "start_time": "2024-04-30T10:40:18.518Z"
   },
   {
    "duration": 466,
    "start_time": "2024-04-30T16:10:24.133Z"
   },
   {
    "duration": 4827,
    "start_time": "2024-04-30T16:10:27.424Z"
   },
   {
    "duration": 74,
    "start_time": "2024-04-30T16:11:19.738Z"
   },
   {
    "duration": 4,
    "start_time": "2024-04-30T16:11:30.360Z"
   },
   {
    "duration": 7,
    "start_time": "2024-04-30T16:11:34.169Z"
   },
   {
    "duration": 3,
    "start_time": "2024-04-30T16:13:59.075Z"
   },
   {
    "duration": 3671,
    "start_time": "2024-04-30T16:14:01.775Z"
   },
   {
    "duration": 3447,
    "start_time": "2024-04-30T16:14:17.119Z"
   },
   {
    "duration": 466,
    "start_time": "2024-04-30T16:14:37.427Z"
   },
   {
    "duration": 38,
    "start_time": "2024-04-30T16:15:53.494Z"
   },
   {
    "duration": 40,
    "start_time": "2024-04-30T16:15:58.834Z"
   },
   {
    "duration": 40,
    "start_time": "2024-04-30T16:16:05.860Z"
   },
   {
    "duration": 40,
    "start_time": "2024-04-30T16:16:17.694Z"
   },
   {
    "duration": 48,
    "start_time": "2024-04-30T16:16:28.822Z"
   },
   {
    "duration": 42,
    "start_time": "2024-04-30T16:16:39.258Z"
   },
   {
    "duration": 47,
    "start_time": "2024-04-30T16:31:46.382Z"
   },
   {
    "duration": 98,
    "start_time": "2024-04-30T16:33:13.846Z"
   },
   {
    "duration": 82,
    "start_time": "2024-04-30T16:34:21.872Z"
   },
   {
    "duration": 88,
    "start_time": "2024-04-30T16:35:05.310Z"
   },
   {
    "duration": 280,
    "start_time": "2024-04-30T16:35:19.376Z"
   },
   {
    "duration": 282,
    "start_time": "2024-04-30T16:35:31.337Z"
   },
   {
    "duration": 332,
    "start_time": "2024-04-30T16:37:03.685Z"
   },
   {
    "duration": 17,
    "start_time": "2024-04-30T16:39:53.273Z"
   },
   {
    "duration": 7,
    "start_time": "2024-04-30T16:40:10.012Z"
   },
   {
    "duration": 16,
    "start_time": "2024-04-30T16:40:38.969Z"
   },
   {
    "duration": 8,
    "start_time": "2024-04-30T16:42:09.263Z"
   },
   {
    "duration": 140,
    "start_time": "2024-04-30T16:43:03.003Z"
   },
   {
    "duration": 153,
    "start_time": "2024-04-30T16:44:25.665Z"
   },
   {
    "duration": 137,
    "start_time": "2024-04-30T16:45:01.496Z"
   },
   {
    "duration": 7,
    "start_time": "2024-05-01T07:59:57.969Z"
   },
   {
    "duration": 5,
    "start_time": "2024-05-01T07:59:58.916Z"
   },
   {
    "duration": 220,
    "start_time": "2024-05-01T08:00:00.278Z"
   },
   {
    "duration": 105,
    "start_time": "2024-05-01T08:00:01.603Z"
   },
   {
    "duration": 41,
    "start_time": "2024-05-01T08:00:02.722Z"
   },
   {
    "duration": 47,
    "start_time": "2024-05-01T08:00:03.092Z"
   },
   {
    "duration": 308,
    "start_time": "2024-05-01T08:00:04.754Z"
   },
   {
    "duration": 144,
    "start_time": "2024-05-01T08:00:05.934Z"
   },
   {
    "duration": 111,
    "start_time": "2024-05-01T08:13:41.401Z"
   },
   {
    "duration": 107,
    "start_time": "2024-05-01T08:14:16.220Z"
   },
   {
    "duration": 109,
    "start_time": "2024-05-01T08:14:31.649Z"
   },
   {
    "duration": 104,
    "start_time": "2024-05-01T08:14:46.775Z"
   },
   {
    "duration": 106,
    "start_time": "2024-05-01T08:14:53.832Z"
   },
   {
    "duration": 455,
    "start_time": "2024-05-01T08:15:42.455Z"
   },
   {
    "duration": 878,
    "start_time": "2024-05-01T08:18:29.510Z"
   },
   {
    "duration": 881,
    "start_time": "2024-05-01T08:19:11.301Z"
   },
   {
    "duration": 2190,
    "start_time": "2024-05-01T08:20:02.004Z"
   },
   {
    "duration": 1851,
    "start_time": "2024-05-01T08:22:36.406Z"
   },
   {
    "duration": 1728,
    "start_time": "2024-05-01T08:25:03.422Z"
   },
   {
    "duration": 1539,
    "start_time": "2024-05-01T08:25:09.163Z"
   },
   {
    "duration": 1499,
    "start_time": "2024-05-01T08:25:43.013Z"
   },
   {
    "duration": 1672,
    "start_time": "2024-05-01T08:26:34.164Z"
   },
   {
    "duration": 1140,
    "start_time": "2024-05-01T08:27:04.141Z"
   },
   {
    "duration": 1987,
    "start_time": "2024-05-01T08:27:28.417Z"
   },
   {
    "duration": 1207,
    "start_time": "2024-05-01T08:28:45.786Z"
   },
   {
    "duration": 1203,
    "start_time": "2024-05-01T08:29:17.802Z"
   },
   {
    "duration": 1702,
    "start_time": "2024-05-01T08:29:29.330Z"
   },
   {
    "duration": 2545,
    "start_time": "2024-05-01T08:33:50.353Z"
   },
   {
    "duration": 3879,
    "start_time": "2024-05-01T08:39:52.303Z"
   },
   {
    "duration": 93,
    "start_time": "2024-05-01T08:40:41.017Z"
   },
   {
    "duration": 92,
    "start_time": "2024-05-01T08:40:50.694Z"
   },
   {
    "duration": 4408,
    "start_time": "2024-05-01T08:42:15.554Z"
   },
   {
    "duration": 89,
    "start_time": "2024-05-01T08:43:03.005Z"
   },
   {
    "duration": 1485,
    "start_time": "2024-05-01T08:43:40.128Z"
   },
   {
    "duration": 4718,
    "start_time": "2024-05-01T08:45:04.924Z"
   },
   {
    "duration": 4404,
    "start_time": "2024-05-01T08:45:49.694Z"
   },
   {
    "duration": 58,
    "start_time": "2024-05-01T08:48:49.989Z"
   },
   {
    "duration": 89,
    "start_time": "2024-05-01T08:48:57.341Z"
   },
   {
    "duration": 470,
    "start_time": "2024-05-01T08:49:10.250Z"
   },
   {
    "duration": 86,
    "start_time": "2024-05-01T09:00:20.762Z"
   },
   {
    "duration": 119,
    "start_time": "2024-05-01T09:01:01.420Z"
   },
   {
    "duration": 886,
    "start_time": "2024-05-01T09:01:24.928Z"
   },
   {
    "duration": 188,
    "start_time": "2024-05-01T09:02:00.839Z"
   },
   {
    "duration": 102,
    "start_time": "2024-05-01T09:02:18.663Z"
   },
   {
    "duration": 245,
    "start_time": "2024-05-01T09:02:25.730Z"
   },
   {
    "duration": 157,
    "start_time": "2024-05-01T09:04:12.576Z"
   },
   {
    "duration": 2864,
    "start_time": "2024-05-01T09:04:17.291Z"
   },
   {
    "duration": 160,
    "start_time": "2024-05-01T09:04:52.218Z"
   },
   {
    "duration": 157,
    "start_time": "2024-05-01T09:06:08.020Z"
   },
   {
    "duration": 6970,
    "start_time": "2024-05-01T09:07:04.963Z"
   },
   {
    "duration": 5494,
    "start_time": "2024-05-01T09:07:16.563Z"
   },
   {
    "duration": 527,
    "start_time": "2024-05-01T09:08:03.238Z"
   },
   {
    "duration": 536,
    "start_time": "2024-05-01T09:08:36.739Z"
   },
   {
    "duration": 523,
    "start_time": "2024-05-01T09:08:44.876Z"
   },
   {
    "duration": 1164,
    "start_time": "2024-05-01T09:17:18.087Z"
   },
   {
    "duration": 645,
    "start_time": "2024-05-01T09:17:29.755Z"
   },
   {
    "duration": 5467,
    "start_time": "2024-05-01T09:19:36.685Z"
   },
   {
    "duration": 89,
    "start_time": "2024-05-01T09:19:50.168Z"
   },
   {
    "duration": 9060,
    "start_time": "2024-05-01T09:19:58.630Z"
   },
   {
    "duration": 5221,
    "start_time": "2024-05-01T10:23:34.619Z"
   },
   {
    "duration": 115,
    "start_time": "2024-05-01T10:27:50.322Z"
   },
   {
    "duration": 134,
    "start_time": "2024-05-01T10:39:39.394Z"
   },
   {
    "duration": 102,
    "start_time": "2024-05-01T10:40:04.119Z"
   },
   {
    "duration": 95,
    "start_time": "2024-05-01T10:40:56.594Z"
   },
   {
    "duration": 7476,
    "start_time": "2024-05-01T10:41:12.220Z"
   },
   {
    "duration": 6808,
    "start_time": "2024-05-01T10:41:50.296Z"
   },
   {
    "duration": 9,
    "start_time": "2024-05-01T10:42:21.326Z"
   },
   {
    "duration": 34,
    "start_time": "2024-05-01T10:42:31.383Z"
   },
   {
    "duration": 126,
    "start_time": "2024-05-01T10:43:55.512Z"
   },
   {
    "duration": 92,
    "start_time": "2024-05-01T10:45:36.212Z"
   },
   {
    "duration": 7214,
    "start_time": "2024-05-01T10:46:00.537Z"
   },
   {
    "duration": 311,
    "start_time": "2024-05-01T10:46:54.933Z"
   },
   {
    "duration": 50,
    "start_time": "2024-05-01T10:47:09.658Z"
   },
   {
    "duration": 44,
    "start_time": "2024-05-01T10:47:12.966Z"
   },
   {
    "duration": 32,
    "start_time": "2024-05-01T10:47:21.077Z"
   },
   {
    "duration": 37,
    "start_time": "2024-05-01T10:47:27.266Z"
   },
   {
    "duration": 22,
    "start_time": "2024-05-01T10:47:51.408Z"
   },
   {
    "duration": 140,
    "start_time": "2024-05-01T10:48:25.853Z"
   },
   {
    "duration": 262,
    "start_time": "2024-05-01T10:50:49.045Z"
   },
   {
    "duration": 285,
    "start_time": "2024-05-01T10:51:13.515Z"
   },
   {
    "duration": 521,
    "start_time": "2024-05-01T10:51:18.353Z"
   },
   {
    "duration": 7238,
    "start_time": "2024-05-01T10:58:55.478Z"
   },
   {
    "duration": 150,
    "start_time": "2024-05-01T10:59:02.717Z"
   },
   {
    "duration": 47,
    "start_time": "2024-05-01T10:59:05.321Z"
   },
   {
    "duration": 206,
    "start_time": "2024-05-01T10:59:06.541Z"
   },
   {
    "duration": 387,
    "start_time": "2024-05-01T10:59:07.345Z"
   },
   {
    "duration": 101,
    "start_time": "2024-05-01T10:59:20.877Z"
   },
   {
    "duration": 6,
    "start_time": "2024-05-01T11:02:25.311Z"
   },
   {
    "duration": 710,
    "start_time": "2024-05-01T11:02:50.405Z"
   },
   {
    "duration": 18,
    "start_time": "2024-05-01T11:06:10.680Z"
   },
   {
    "duration": 13,
    "start_time": "2024-05-01T11:06:32.927Z"
   },
   {
    "duration": 18,
    "start_time": "2024-05-01T11:06:48.141Z"
   },
   {
    "duration": 7337,
    "start_time": "2024-05-01T11:08:00.679Z"
   },
   {
    "duration": 156,
    "start_time": "2024-05-01T11:08:08.018Z"
   },
   {
    "duration": 62,
    "start_time": "2024-05-01T11:08:08.175Z"
   },
   {
    "duration": 240,
    "start_time": "2024-05-01T11:08:08.239Z"
   },
   {
    "duration": 486,
    "start_time": "2024-05-01T11:08:11.743Z"
   },
   {
    "duration": 41,
    "start_time": "2024-05-01T11:08:14.193Z"
   },
   {
    "duration": 113,
    "start_time": "2024-05-01T11:08:14.726Z"
   },
   {
    "duration": 152,
    "start_time": "2024-05-01T11:11:35.765Z"
   },
   {
    "duration": 135,
    "start_time": "2024-05-01T11:11:55.159Z"
   },
   {
    "duration": 7283,
    "start_time": "2024-05-01T11:13:28.635Z"
   },
   {
    "duration": 148,
    "start_time": "2024-05-01T11:13:35.919Z"
   },
   {
    "duration": 52,
    "start_time": "2024-05-01T11:13:36.069Z"
   },
   {
    "duration": 233,
    "start_time": "2024-05-01T11:13:36.123Z"
   },
   {
    "duration": 400,
    "start_time": "2024-05-01T11:13:40.021Z"
   },
   {
    "duration": 40,
    "start_time": "2024-05-01T11:13:41.305Z"
   },
   {
    "duration": 105,
    "start_time": "2024-05-01T11:13:45.606Z"
   },
   {
    "duration": 149,
    "start_time": "2024-05-01T11:13:48.219Z"
   },
   {
    "duration": 122,
    "start_time": "2024-05-01T11:16:38.913Z"
   },
   {
    "duration": 11,
    "start_time": "2024-05-01T11:17:03.151Z"
   },
   {
    "duration": 7893,
    "start_time": "2024-05-01T11:17:06.651Z"
   },
   {
    "duration": 159,
    "start_time": "2024-05-01T11:17:14.545Z"
   },
   {
    "duration": 60,
    "start_time": "2024-05-01T11:17:14.706Z"
   },
   {
    "duration": 248,
    "start_time": "2024-05-01T11:17:14.768Z"
   },
   {
    "duration": 470,
    "start_time": "2024-05-01T11:17:15.017Z"
   },
   {
    "duration": 41,
    "start_time": "2024-05-01T11:17:15.489Z"
   },
   {
    "duration": 112,
    "start_time": "2024-05-01T11:17:18.929Z"
   },
   {
    "duration": 160,
    "start_time": "2024-05-01T11:17:21.447Z"
   },
   {
    "duration": 101,
    "start_time": "2024-05-01T11:17:24.494Z"
   },
   {
    "duration": 16,
    "start_time": "2024-05-01T11:19:39.245Z"
   },
   {
    "duration": 30,
    "start_time": "2024-05-01T11:19:47.836Z"
   },
   {
    "duration": 8028,
    "start_time": "2024-05-01T11:31:52.048Z"
   },
   {
    "duration": 164,
    "start_time": "2024-05-01T11:32:00.077Z"
   },
   {
    "duration": 70,
    "start_time": "2024-05-01T11:32:00.242Z"
   },
   {
    "duration": 255,
    "start_time": "2024-05-01T11:32:00.315Z"
   },
   {
    "duration": 517,
    "start_time": "2024-05-01T11:32:00.572Z"
   },
   {
    "duration": 40,
    "start_time": "2024-05-01T11:32:04.656Z"
   },
   {
    "duration": 107,
    "start_time": "2024-05-01T11:32:06.133Z"
   },
   {
    "duration": 164,
    "start_time": "2024-05-01T11:32:07.518Z"
   },
   {
    "duration": 101,
    "start_time": "2024-05-01T11:32:11.401Z"
   },
   {
    "duration": 37,
    "start_time": "2024-05-01T11:32:13.259Z"
   },
   {
    "duration": 8,
    "start_time": "2024-05-01T11:32:13.644Z"
   },
   {
    "duration": 61,
    "start_time": "2024-05-01T11:32:21.488Z"
   },
   {
    "duration": 9,
    "start_time": "2024-05-01T11:32:23.677Z"
   },
   {
    "duration": 208,
    "start_time": "2024-05-01T11:33:04.088Z"
   },
   {
    "duration": 7431,
    "start_time": "2024-05-01T11:35:32.906Z"
   },
   {
    "duration": 149,
    "start_time": "2024-05-01T11:35:40.339Z"
   },
   {
    "duration": 68,
    "start_time": "2024-05-01T11:35:40.490Z"
   },
   {
    "duration": 227,
    "start_time": "2024-05-01T11:35:40.560Z"
   },
   {
    "duration": 496,
    "start_time": "2024-05-01T11:35:40.788Z"
   },
   {
    "duration": 42,
    "start_time": "2024-05-01T11:35:41.286Z"
   },
   {
    "duration": 113,
    "start_time": "2024-05-01T11:35:41.329Z"
   },
   {
    "duration": 188,
    "start_time": "2024-05-01T11:35:43.944Z"
   },
   {
    "duration": 113,
    "start_time": "2024-05-01T11:35:44.445Z"
   },
   {
    "duration": 42,
    "start_time": "2024-05-01T11:35:46.552Z"
   },
   {
    "duration": 180,
    "start_time": "2024-05-01T11:36:28.238Z"
   },
   {
    "duration": 80,
    "start_time": "2024-05-01T11:36:32.447Z"
   },
   {
    "duration": 14,
    "start_time": "2024-05-01T11:37:04.226Z"
   },
   {
    "duration": 16,
    "start_time": "2024-05-01T11:37:33.089Z"
   },
   {
    "duration": 7223,
    "start_time": "2024-05-01T11:37:57.043Z"
   },
   {
    "duration": 140,
    "start_time": "2024-05-01T11:38:04.268Z"
   },
   {
    "duration": 70,
    "start_time": "2024-05-01T11:38:04.409Z"
   },
   {
    "duration": 232,
    "start_time": "2024-05-01T11:38:04.482Z"
   },
   {
    "duration": 412,
    "start_time": "2024-05-01T11:38:04.715Z"
   },
   {
    "duration": 48,
    "start_time": "2024-05-01T11:38:05.129Z"
   },
   {
    "duration": 90,
    "start_time": "2024-05-01T11:38:05.179Z"
   },
   {
    "duration": 147,
    "start_time": "2024-05-01T11:38:05.272Z"
   },
   {
    "duration": 99,
    "start_time": "2024-05-01T11:38:05.421Z"
   },
   {
    "duration": 36,
    "start_time": "2024-05-01T11:38:14.564Z"
   },
   {
    "duration": 57,
    "start_time": "2024-05-01T11:38:27.823Z"
   },
   {
    "duration": 6,
    "start_time": "2024-05-01T11:38:55.236Z"
   },
   {
    "duration": 82,
    "start_time": "2024-05-01T11:39:04.939Z"
   },
   {
    "duration": 23,
    "start_time": "2024-05-01T11:40:19.208Z"
   },
   {
    "duration": 85,
    "start_time": "2024-05-01T11:40:22.062Z"
   },
   {
    "duration": 16,
    "start_time": "2024-05-01T11:41:25.725Z"
   },
   {
    "duration": 29,
    "start_time": "2024-05-01T11:42:47.456Z"
   },
   {
    "duration": 79,
    "start_time": "2024-05-01T11:42:52.375Z"
   },
   {
    "duration": 7212,
    "start_time": "2024-05-01T11:43:42.379Z"
   },
   {
    "duration": 145,
    "start_time": "2024-05-01T11:43:49.592Z"
   },
   {
    "duration": 65,
    "start_time": "2024-05-01T11:43:49.739Z"
   },
   {
    "duration": 238,
    "start_time": "2024-05-01T11:43:49.806Z"
   },
   {
    "duration": 443,
    "start_time": "2024-05-01T11:43:50.045Z"
   },
   {
    "duration": 37,
    "start_time": "2024-05-01T11:43:50.490Z"
   },
   {
    "duration": 99,
    "start_time": "2024-05-01T11:43:50.528Z"
   },
   {
    "duration": 157,
    "start_time": "2024-05-01T11:43:50.629Z"
   },
   {
    "duration": 96,
    "start_time": "2024-05-01T11:43:50.787Z"
   },
   {
    "duration": 35,
    "start_time": "2024-05-01T11:43:55.576Z"
   },
   {
    "duration": 64,
    "start_time": "2024-05-01T11:44:01.975Z"
   },
   {
    "duration": 235,
    "start_time": "2024-05-01T11:44:03.699Z"
   },
   {
    "duration": 250,
    "start_time": "2024-05-01T11:44:28.301Z"
   },
   {
    "duration": 248,
    "start_time": "2024-05-01T11:45:57.475Z"
   },
   {
    "duration": 16,
    "start_time": "2024-05-01T11:50:12.108Z"
   },
   {
    "duration": 13,
    "start_time": "2024-05-01T11:50:25.924Z"
   },
   {
    "duration": 230,
    "start_time": "2024-05-01T11:50:35.888Z"
   },
   {
    "duration": 7277,
    "start_time": "2024-05-01T11:50:52.864Z"
   },
   {
    "duration": 146,
    "start_time": "2024-05-01T11:51:00.143Z"
   },
   {
    "duration": 115,
    "start_time": "2024-05-01T11:51:00.290Z"
   },
   {
    "duration": 245,
    "start_time": "2024-05-01T11:51:00.407Z"
   },
   {
    "duration": 453,
    "start_time": "2024-05-01T11:51:00.653Z"
   },
   {
    "duration": 45,
    "start_time": "2024-05-01T11:51:01.107Z"
   },
   {
    "duration": 116,
    "start_time": "2024-05-01T11:51:01.154Z"
   },
   {
    "duration": 193,
    "start_time": "2024-05-01T11:51:01.272Z"
   },
   {
    "duration": 99,
    "start_time": "2024-05-01T11:51:01.467Z"
   },
   {
    "duration": 65,
    "start_time": "2024-05-01T11:51:01.568Z"
   },
   {
    "duration": 63,
    "start_time": "2024-05-01T11:51:01.635Z"
   },
   {
    "duration": 236,
    "start_time": "2024-05-01T11:51:01.700Z"
   },
   {
    "duration": 24,
    "start_time": "2024-05-01T11:51:17.963Z"
   },
   {
    "duration": 1006,
    "start_time": "2024-05-02T15:12:58.464Z"
   },
   {
    "duration": 5891,
    "start_time": "2024-05-02T15:13:00.317Z"
   },
   {
    "duration": 246,
    "start_time": "2024-05-02T15:13:06.211Z"
   },
   {
    "duration": 45,
    "start_time": "2024-05-02T15:13:06.459Z"
   },
   {
    "duration": 47,
    "start_time": "2024-05-02T15:13:06.505Z"
   },
   {
    "duration": 55,
    "start_time": "2024-05-02T15:13:31.433Z"
   },
   {
    "duration": 304,
    "start_time": "2024-05-02T15:13:31.490Z"
   },
   {
    "duration": 181,
    "start_time": "2024-05-02T15:13:31.797Z"
   },
   {
    "duration": 1780,
    "start_time": "2024-05-02T15:13:31.980Z"
   },
   {
    "duration": 531,
    "start_time": "2024-05-02T15:13:33.763Z"
   },
   {
    "duration": 5333,
    "start_time": "2024-05-02T15:13:34.296Z"
   },
   {
    "duration": 696,
    "start_time": "2024-05-02T15:13:39.631Z"
   },
   {
    "duration": 13924,
    "start_time": "2024-05-02T15:14:26.193Z"
   },
   {
    "duration": 288,
    "start_time": "2024-05-02T15:15:01.392Z"
   },
   {
    "duration": 13211,
    "start_time": "2024-05-02T15:16:03.138Z"
   },
   {
    "duration": 259,
    "start_time": "2024-05-02T15:16:59.147Z"
   },
   {
    "duration": 96,
    "start_time": "2024-05-02T15:17:13.432Z"
   },
   {
    "duration": 486,
    "start_time": "2024-05-02T15:17:14.433Z"
   },
   {
    "duration": 844,
    "start_time": "2024-05-02T15:17:38.485Z"
   },
   {
    "duration": 74,
    "start_time": "2024-05-02T15:17:45.293Z"
   },
   {
    "duration": 181,
    "start_time": "2024-05-02T15:17:49.751Z"
   },
   {
    "duration": 284,
    "start_time": "2024-05-02T15:20:00.324Z"
   },
   {
    "duration": 166,
    "start_time": "2024-05-02T15:20:09.468Z"
   },
   {
    "duration": 55,
    "start_time": "2024-05-02T15:20:17.284Z"
   },
   {
    "duration": 114,
    "start_time": "2024-05-02T15:20:21.602Z"
   },
   {
    "duration": 462,
    "start_time": "2024-05-02T15:20:34.199Z"
   },
   {
    "duration": 13457,
    "start_time": "2024-05-02T15:23:56.693Z"
   },
   {
    "duration": 315,
    "start_time": "2024-05-02T15:24:10.152Z"
   },
   {
    "duration": 110,
    "start_time": "2024-05-02T15:24:10.468Z"
   },
   {
    "duration": 487,
    "start_time": "2024-05-02T15:24:10.580Z"
   },
   {
    "duration": 946,
    "start_time": "2024-05-02T15:24:17.000Z"
   },
   {
    "duration": 69,
    "start_time": "2024-05-02T15:24:19.796Z"
   },
   {
    "duration": 197,
    "start_time": "2024-05-02T15:24:20.649Z"
   },
   {
    "duration": 310,
    "start_time": "2024-05-02T15:24:24.210Z"
   },
   {
    "duration": 203,
    "start_time": "2024-05-02T15:24:29.400Z"
   },
   {
    "duration": 59,
    "start_time": "2024-05-02T15:24:32.734Z"
   },
   {
    "duration": 108,
    "start_time": "2024-05-02T15:24:33.901Z"
   },
   {
    "duration": 523,
    "start_time": "2024-05-02T15:24:35.035Z"
   },
   {
    "duration": 43,
    "start_time": "2024-05-02T15:31:49.204Z"
   },
   {
    "duration": 191,
    "start_time": "2024-05-02T15:39:01.924Z"
   },
   {
    "duration": 13094,
    "start_time": "2024-05-02T15:41:51.810Z"
   },
   {
    "duration": 312,
    "start_time": "2024-05-02T15:42:04.906Z"
   },
   {
    "duration": 106,
    "start_time": "2024-05-02T15:42:05.219Z"
   },
   {
    "duration": 498,
    "start_time": "2024-05-02T15:42:05.327Z"
   },
   {
    "duration": 911,
    "start_time": "2024-05-02T15:42:05.827Z"
   },
   {
    "duration": 74,
    "start_time": "2024-05-02T15:42:06.739Z"
   },
   {
    "duration": 194,
    "start_time": "2024-05-02T15:42:06.815Z"
   },
   {
    "duration": 320,
    "start_time": "2024-05-02T15:42:13.746Z"
   },
   {
    "duration": 193,
    "start_time": "2024-05-02T15:42:19.095Z"
   },
   {
    "duration": 54,
    "start_time": "2024-05-02T15:42:25.154Z"
   },
   {
    "duration": 103,
    "start_time": "2024-05-02T15:42:26.193Z"
   },
   {
    "duration": 1029,
    "start_time": "2024-05-02T15:42:26.920Z"
   },
   {
    "duration": 497,
    "start_time": "2024-05-02T15:42:34.741Z"
   },
   {
    "duration": 169,
    "start_time": "2024-05-02T15:42:44.112Z"
   },
   {
    "duration": 3,
    "start_time": "2024-05-02T15:43:10.237Z"
   },
   {
    "duration": 36,
    "start_time": "2024-05-02T15:44:05.764Z"
   },
   {
    "duration": 53,
    "start_time": "2024-05-02T15:44:21.606Z"
   },
   {
    "duration": 146,
    "start_time": "2024-05-02T15:45:18.855Z"
   },
   {
    "duration": 156,
    "start_time": "2024-05-02T15:47:04.267Z"
   },
   {
    "duration": 8,
    "start_time": "2024-05-02T15:47:31.528Z"
   },
   {
    "duration": 1220,
    "start_time": "2024-05-02T15:48:01.678Z"
   },
   {
    "duration": 3,
    "start_time": "2024-05-02T15:48:16.244Z"
   },
   {
    "duration": 5,
    "start_time": "2024-05-02T15:53:46.140Z"
   },
   {
    "duration": 5,
    "start_time": "2024-05-02T15:55:22.246Z"
   },
   {
    "duration": 7,
    "start_time": "2024-05-02T15:55:30.991Z"
   },
   {
    "duration": 91,
    "start_time": "2024-05-02T15:56:44.625Z"
   },
   {
    "duration": 4,
    "start_time": "2024-05-02T15:56:53.614Z"
   },
   {
    "duration": 3,
    "start_time": "2024-05-02T15:57:13.506Z"
   },
   {
    "duration": 4,
    "start_time": "2024-05-02T15:57:14.085Z"
   },
   {
    "duration": 5,
    "start_time": "2024-05-02T15:58:36.834Z"
   },
   {
    "duration": 3,
    "start_time": "2024-05-02T15:58:40.877Z"
   },
   {
    "duration": 4,
    "start_time": "2024-05-02T15:58:41.131Z"
   },
   {
    "duration": 68,
    "start_time": "2024-05-02T15:58:49.710Z"
   },
   {
    "duration": 157,
    "start_time": "2024-05-02T15:58:55.023Z"
   },
   {
    "duration": 36,
    "start_time": "2024-05-02T15:59:03.806Z"
   },
   {
    "duration": 25,
    "start_time": "2024-05-02T15:59:24.579Z"
   },
   {
    "duration": 3,
    "start_time": "2024-05-02T16:00:38.966Z"
   },
   {
    "duration": 60,
    "start_time": "2024-05-02T16:00:56.207Z"
   },
   {
    "duration": 138,
    "start_time": "2024-05-02T16:10:34.172Z"
   },
   {
    "duration": 237,
    "start_time": "2024-05-02T16:11:22.171Z"
   },
   {
    "duration": 2153,
    "start_time": "2024-05-02T16:16:55.991Z"
   },
   {
    "duration": 23,
    "start_time": "2024-05-02T16:21:21.037Z"
   },
   {
    "duration": 5,
    "start_time": "2024-05-02T16:23:24.380Z"
   },
   {
    "duration": 4,
    "start_time": "2024-05-02T16:32:00.148Z"
   },
   {
    "duration": 7,
    "start_time": "2024-05-02T16:32:00.959Z"
   },
   {
    "duration": 287,
    "start_time": "2024-05-02T16:32:00.969Z"
   },
   {
    "duration": 44,
    "start_time": "2024-05-02T16:32:01.895Z"
   },
   {
    "duration": 47,
    "start_time": "2024-05-02T16:32:01.940Z"
   },
   {
    "duration": 67,
    "start_time": "2024-05-02T16:32:02.071Z"
   },
   {
    "duration": 326,
    "start_time": "2024-05-02T16:32:02.720Z"
   },
   {
    "duration": 170,
    "start_time": "2024-05-02T16:32:03.048Z"
   },
   {
    "duration": 1091,
    "start_time": "2024-05-02T16:32:20.991Z"
   },
   {
    "duration": 516,
    "start_time": "2024-05-02T16:32:22.084Z"
   },
   {
    "duration": 5906,
    "start_time": "2024-05-02T16:32:22.601Z"
   },
   {
    "duration": 4,
    "start_time": "2024-05-02T16:38:48.673Z"
   },
   {
    "duration": 4,
    "start_time": "2024-05-02T16:38:49.510Z"
   },
   {
    "duration": 228,
    "start_time": "2024-05-02T16:38:50.095Z"
   },
   {
    "duration": 43,
    "start_time": "2024-05-02T16:38:50.561Z"
   },
   {
    "duration": 47,
    "start_time": "2024-05-02T16:38:51.697Z"
   },
   {
    "duration": 53,
    "start_time": "2024-05-02T16:38:52.207Z"
   },
   {
    "duration": 293,
    "start_time": "2024-05-02T16:38:53.126Z"
   },
   {
    "duration": 163,
    "start_time": "2024-05-02T16:38:53.583Z"
   },
   {
    "duration": 1227,
    "start_time": "2024-05-02T16:38:55.458Z"
   },
   {
    "duration": 545,
    "start_time": "2024-05-02T16:38:56.687Z"
   },
   {
    "duration": 7371,
    "start_time": "2024-05-02T16:38:58.484Z"
   },
   {
    "duration": 716,
    "start_time": "2024-05-02T16:39:07.053Z"
   },
   {
    "duration": 13536,
    "start_time": "2024-05-02T16:39:10.024Z"
   },
   {
    "duration": 283,
    "start_time": "2024-05-02T16:39:28.185Z"
   },
   {
    "duration": 91,
    "start_time": "2024-05-02T16:39:29.513Z"
   },
   {
    "duration": 497,
    "start_time": "2024-05-02T16:39:30.037Z"
   },
   {
    "duration": 834,
    "start_time": "2024-05-02T16:39:32.122Z"
   },
   {
    "duration": 60,
    "start_time": "2024-05-02T16:39:32.960Z"
   },
   {
    "duration": 167,
    "start_time": "2024-05-02T16:39:33.243Z"
   },
   {
    "duration": 279,
    "start_time": "2024-05-02T16:39:34.802Z"
   },
   {
    "duration": 175,
    "start_time": "2024-05-02T16:39:37.211Z"
   },
   {
    "duration": 62,
    "start_time": "2024-05-02T16:39:37.828Z"
   },
   {
    "duration": 107,
    "start_time": "2024-05-02T16:39:38.225Z"
   },
   {
    "duration": 462,
    "start_time": "2024-05-02T16:39:38.669Z"
   },
   {
    "duration": 176,
    "start_time": "2024-05-02T16:39:40.315Z"
   },
   {
    "duration": 6,
    "start_time": "2024-05-02T16:39:41.063Z"
   },
   {
    "duration": 3,
    "start_time": "2024-05-02T16:39:42.057Z"
   },
   {
    "duration": 5,
    "start_time": "2024-05-02T16:39:43.402Z"
   },
   {
    "duration": 84,
    "start_time": "2024-05-02T16:39:45.075Z"
   },
   {
    "duration": 185,
    "start_time": "2024-05-02T16:39:46.331Z"
   },
   {
    "duration": 24,
    "start_time": "2024-05-02T16:39:48.993Z"
   },
   {
    "duration": 3,
    "start_time": "2024-05-02T16:39:50.994Z"
   },
   {
    "duration": 70,
    "start_time": "2024-05-02T16:39:53.177Z"
   },
   {
    "duration": 129,
    "start_time": "2024-05-02T16:39:57.552Z"
   },
   {
    "duration": 2047,
    "start_time": "2024-05-02T16:40:00.478Z"
   },
   {
    "duration": 1495526,
    "start_time": "2024-05-02T16:46:04.237Z"
   },
   {
    "duration": 3,
    "start_time": "2024-05-02T17:12:46.678Z"
   },
   {
    "duration": 21,
    "start_time": "2024-05-02T17:12:54.944Z"
   },
   {
    "duration": 33,
    "start_time": "2024-05-02T17:13:18.686Z"
   },
   {
    "duration": 21,
    "start_time": "2024-05-02T17:13:24.319Z"
   },
   {
    "duration": 176046,
    "start_time": "2024-05-02T17:13:33.581Z"
   },
   {
    "duration": 5,
    "start_time": "2024-05-02T17:18:18.569Z"
   },
   {
    "duration": 1764,
    "start_time": "2024-05-02T17:23:03.735Z"
   },
   {
    "duration": 2127,
    "start_time": "2024-05-02T17:24:14.148Z"
   },
   {
    "duration": 2046,
    "start_time": "2024-05-02T17:29:13.055Z"
   },
   {
    "duration": 39968,
    "start_time": "2024-05-02T17:29:19.705Z"
   },
   {
    "duration": 181606,
    "start_time": "2024-05-02T17:30:01.763Z"
   },
   {
    "duration": 8553,
    "start_time": "2024-05-02T17:33:57.219Z"
   },
   {
    "duration": 313665,
    "start_time": "2024-05-02T17:44:42.912Z"
   },
   {
    "duration": 7,
    "start_time": "2024-05-02T17:50:00.586Z"
   },
   {
    "duration": 14343,
    "start_time": "2024-05-02T17:50:01.129Z"
   },
   {
    "duration": 337661,
    "start_time": "2024-05-02T17:50:20.117Z"
   },
   {
    "duration": 160,
    "start_time": "2024-05-02T17:57:15.195Z"
   },
   {
    "duration": 249360,
    "start_time": "2024-05-02T17:57:54.126Z"
   },
   {
    "duration": 245,
    "start_time": "2024-05-02T18:02:03.492Z"
   },
   {
    "duration": 241658,
    "start_time": "2024-05-02T18:02:22.719Z"
   },
   {
    "duration": 141,
    "start_time": "2024-05-02T18:06:55.538Z"
   },
   {
    "duration": 12004,
    "start_time": "2024-05-02T18:07:28.480Z"
   },
   {
    "duration": 1,
    "start_time": "2024-05-02T18:07:40.485Z"
   },
   {
    "duration": 403274,
    "start_time": "2024-05-02T18:07:44.826Z"
   },
   {
    "duration": 207,
    "start_time": "2024-05-02T18:14:28.103Z"
   },
   {
    "duration": 6,
    "start_time": "2024-05-02T18:15:02.987Z"
   },
   {
    "duration": 46812,
    "start_time": "2024-05-02T18:15:04.067Z"
   },
   {
    "duration": 490472,
    "start_time": "2024-05-02T18:16:26.200Z"
   },
   {
    "duration": 347652,
    "start_time": "2024-05-02T18:24:44.525Z"
   },
   {
    "duration": 104718,
    "start_time": "2024-05-02T18:30:38.863Z"
   },
   {
    "duration": 158977,
    "start_time": "2024-05-02T18:34:44.519Z"
   },
   {
    "duration": 192256,
    "start_time": "2024-05-02T18:39:19.610Z"
   },
   {
    "duration": 88070,
    "start_time": "2024-05-02T18:44:12.115Z"
   },
   {
    "duration": 1475493,
    "start_time": "2024-05-02T18:45:41.869Z"
   },
   {
    "duration": 15,
    "start_time": "2024-05-02T19:15:57.960Z"
   },
   {
    "duration": 5,
    "start_time": "2024-05-02T19:16:04.311Z"
   },
   {
    "duration": 373970,
    "start_time": "2024-05-02T19:16:05.540Z"
   },
   {
    "duration": 99,
    "start_time": "2024-05-02T19:22:19.512Z"
   },
   {
    "duration": 7903,
    "start_time": "2024-05-02T19:29:39.677Z"
   },
   {
    "duration": 10,
    "start_time": "2024-05-02T19:29:48.921Z"
   },
   {
    "duration": 315185,
    "start_time": "2024-05-02T19:29:49.490Z"
   },
   {
    "duration": 487874,
    "start_time": "2024-05-02T19:35:07.588Z"
   },
   {
    "duration": 3701743,
    "start_time": "2024-05-02T19:43:16.850Z"
   },
   {
    "duration": 49,
    "start_time": "2024-05-02T20:53:37.695Z"
   },
   {
    "duration": 14,
    "start_time": "2024-05-02T20:54:43.834Z"
   },
   {
    "duration": 2332,
    "start_time": "2024-05-03T08:10:44.645Z"
   },
   {
    "duration": 8827,
    "start_time": "2024-05-03T08:10:46.981Z"
   },
   {
    "duration": 41,
    "start_time": "2024-05-03T08:10:55.809Z"
   },
   {
    "duration": 12,
    "start_time": "2024-05-03T08:11:09.981Z"
   },
   {
    "duration": 20,
    "start_time": "2024-05-03T08:11:11.482Z"
   },
   {
    "duration": 26,
    "start_time": "2024-05-03T08:11:12.045Z"
   },
   {
    "duration": 272,
    "start_time": "2024-05-03T08:11:12.762Z"
   },
   {
    "duration": 178,
    "start_time": "2024-05-03T08:11:13.035Z"
   },
   {
    "duration": 1028,
    "start_time": "2024-05-03T08:11:14.002Z"
   },
   {
    "duration": 499,
    "start_time": "2024-05-03T08:11:15.033Z"
   },
   {
    "duration": 6858,
    "start_time": "2024-05-03T08:11:15.534Z"
   },
   {
    "duration": 640,
    "start_time": "2024-05-03T08:11:22.394Z"
   },
   {
    "duration": 13460,
    "start_time": "2024-05-03T08:11:23.036Z"
   },
   {
    "duration": 288,
    "start_time": "2024-05-03T08:11:36.498Z"
   },
   {
    "duration": 123,
    "start_time": "2024-05-03T08:11:36.788Z"
   },
   {
    "duration": 474,
    "start_time": "2024-05-03T08:11:39.694Z"
   },
   {
    "duration": 867,
    "start_time": "2024-05-03T08:11:40.170Z"
   },
   {
    "duration": 75,
    "start_time": "2024-05-03T08:11:41.039Z"
   },
   {
    "duration": 179,
    "start_time": "2024-05-03T08:11:41.116Z"
   },
   {
    "duration": 306,
    "start_time": "2024-05-03T08:11:41.586Z"
   },
   {
    "duration": 168,
    "start_time": "2024-05-03T08:11:42.518Z"
   },
   {
    "duration": 58,
    "start_time": "2024-05-03T08:11:43.134Z"
   },
   {
    "duration": 104,
    "start_time": "2024-05-03T08:11:43.640Z"
   },
   {
    "duration": 462,
    "start_time": "2024-05-03T08:11:44.222Z"
   },
   {
    "duration": 169,
    "start_time": "2024-05-03T08:11:46.507Z"
   },
   {
    "duration": 7,
    "start_time": "2024-05-03T08:11:54.964Z"
   },
   {
    "duration": 4,
    "start_time": "2024-05-03T08:12:00.050Z"
   },
   {
    "duration": 4,
    "start_time": "2024-05-03T08:12:06.578Z"
   },
   {
    "duration": 36,
    "start_time": "2024-05-03T08:12:11.350Z"
   },
   {
    "duration": 180,
    "start_time": "2024-05-03T08:12:16.098Z"
   },
   {
    "duration": 31,
    "start_time": "2024-05-03T08:12:22.540Z"
   },
   {
    "duration": 3,
    "start_time": "2024-05-03T08:12:32.314Z"
   },
   {
    "duration": 60,
    "start_time": "2024-05-03T08:12:35.644Z"
   },
   {
    "duration": 136,
    "start_time": "2024-05-03T08:12:39.961Z"
   },
   {
    "duration": 2060,
    "start_time": "2024-05-03T08:12:42.996Z"
   },
   {
    "duration": 3,
    "start_time": "2024-05-03T08:12:54.042Z"
   },
   {
    "duration": 5,
    "start_time": "2024-05-03T08:13:29.200Z"
   },
   {
    "duration": 5,
    "start_time": "2024-05-03T08:14:28.678Z"
   },
   {
    "duration": 429271,
    "start_time": "2024-05-03T08:14:30.350Z"
   },
   {
    "duration": 86,
    "start_time": "2024-05-03T08:21:39.623Z"
   },
   {
    "duration": 6,
    "start_time": "2024-05-03T08:21:49.765Z"
   },
   {
    "duration": 420619,
    "start_time": "2024-05-03T08:21:54.218Z"
   },
   {
    "duration": 179,
    "start_time": "2024-05-03T08:28:54.881Z"
   },
   {
    "duration": 52,
    "start_time": "2024-05-03T08:29:19.420Z"
   },
   {
    "duration": 11,
    "start_time": "2024-05-03T08:29:19.530Z"
   },
   {
    "duration": 17,
    "start_time": "2024-05-03T08:32:06.958Z"
   },
   {
    "duration": 16,
    "start_time": "2024-05-03T08:36:28.992Z"
   },
   {
    "duration": 16,
    "start_time": "2024-05-03T08:36:35.171Z"
   },
   {
    "duration": 3,
    "start_time": "2024-05-03T08:37:01.764Z"
   },
   {
    "duration": 41,
    "start_time": "2024-05-03T08:37:41.015Z"
   },
   {
    "duration": 4,
    "start_time": "2024-05-03T08:38:36.120Z"
   },
   {
    "duration": 72,
    "start_time": "2024-05-03T08:39:21.366Z"
   },
   {
    "duration": 83,
    "start_time": "2024-05-03T08:39:28.113Z"
   },
   {
    "duration": 4,
    "start_time": "2024-05-03T08:39:31.492Z"
   },
   {
    "duration": 3,
    "start_time": "2024-05-03T08:40:01.493Z"
   },
   {
    "duration": 6,
    "start_time": "2024-05-03T08:40:12.188Z"
   },
   {
    "duration": 4,
    "start_time": "2024-05-03T08:40:29.540Z"
   },
   {
    "duration": 3,
    "start_time": "2024-05-03T08:40:58.972Z"
   },
   {
    "duration": 13,
    "start_time": "2024-05-03T08:41:45.594Z"
   },
   {
    "duration": 17,
    "start_time": "2024-05-03T08:43:04.503Z"
   },
   {
    "duration": 22,
    "start_time": "2024-05-03T08:43:39.094Z"
   },
   {
    "duration": 14,
    "start_time": "2024-05-03T08:43:52.956Z"
   },
   {
    "duration": 21,
    "start_time": "2024-05-03T08:46:22.637Z"
   },
   {
    "duration": 16,
    "start_time": "2024-05-03T08:52:28.776Z"
   },
   {
    "duration": 11,
    "start_time": "2024-05-03T08:52:33.598Z"
   },
   {
    "duration": 21,
    "start_time": "2024-05-03T08:52:43.166Z"
   },
   {
    "duration": 68,
    "start_time": "2024-05-03T08:52:51.335Z"
   },
   {
    "duration": 10,
    "start_time": "2024-05-03T08:52:55.533Z"
   },
   {
    "duration": 12,
    "start_time": "2024-05-03T08:56:57.606Z"
   },
   {
    "duration": 47,
    "start_time": "2024-05-03T08:57:03.587Z"
   },
   {
    "duration": 8,
    "start_time": "2024-05-03T08:57:54.245Z"
   },
   {
    "duration": 4,
    "start_time": "2024-05-03T08:58:20.593Z"
   },
   {
    "duration": 5,
    "start_time": "2024-05-03T08:58:40.768Z"
   },
   {
    "duration": 10,
    "start_time": "2024-05-03T08:58:48.523Z"
   },
   {
    "duration": 6,
    "start_time": "2024-05-03T08:59:25.709Z"
   },
   {
    "duration": 7,
    "start_time": "2024-05-03T08:59:32.419Z"
   },
   {
    "duration": 5,
    "start_time": "2024-05-03T09:01:35.915Z"
   },
   {
    "duration": 9,
    "start_time": "2024-05-03T09:03:27.348Z"
   },
   {
    "duration": 18,
    "start_time": "2024-05-03T09:05:54.598Z"
   },
   {
    "duration": 7,
    "start_time": "2024-05-03T09:06:20.621Z"
   },
   {
    "duration": 10,
    "start_time": "2024-05-03T09:06:30.290Z"
   },
   {
    "duration": 14,
    "start_time": "2024-05-03T09:08:06.576Z"
   },
   {
    "duration": 4,
    "start_time": "2024-05-03T09:08:43.312Z"
   },
   {
    "duration": 11,
    "start_time": "2024-05-03T09:08:49.309Z"
   },
   {
    "duration": 10,
    "start_time": "2024-05-03T09:08:54.979Z"
   },
   {
    "duration": 13,
    "start_time": "2024-05-03T09:10:03.831Z"
   },
   {
    "duration": 11,
    "start_time": "2024-05-03T09:10:06.711Z"
   },
   {
    "duration": 4,
    "start_time": "2024-05-03T09:10:10.236Z"
   },
   {
    "duration": 11,
    "start_time": "2024-05-03T09:11:34.135Z"
   },
   {
    "duration": 5,
    "start_time": "2024-05-03T09:11:53.742Z"
   },
   {
    "duration": 4,
    "start_time": "2024-05-03T09:12:26.138Z"
   },
   {
    "duration": 196,
    "start_time": "2024-05-03T09:12:35.081Z"
   },
   {
    "duration": 330,
    "start_time": "2024-05-03T09:13:26.912Z"
   },
   {
    "duration": 212,
    "start_time": "2024-05-03T09:15:24.749Z"
   },
   {
    "duration": 6,
    "start_time": "2024-05-03T09:19:26.575Z"
   },
   {
    "duration": 202,
    "start_time": "2024-05-03T09:32:29.893Z"
   },
   {
    "duration": 10,
    "start_time": "2024-05-03T09:33:42.628Z"
   },
   {
    "duration": 11,
    "start_time": "2024-05-03T09:34:23.237Z"
   },
   {
    "duration": 198,
    "start_time": "2024-05-03T09:34:26.083Z"
   },
   {
    "duration": 2183,
    "start_time": "2024-05-03T11:21:41.862Z"
   },
   {
    "duration": 5075,
    "start_time": "2024-05-03T11:21:44.047Z"
   },
   {
    "duration": 221,
    "start_time": "2024-05-03T11:21:49.123Z"
   },
   {
    "duration": 41,
    "start_time": "2024-05-03T11:21:49.346Z"
   },
   {
    "duration": 43,
    "start_time": "2024-05-03T11:21:49.388Z"
   },
   {
    "duration": 50,
    "start_time": "2024-05-03T11:21:49.433Z"
   },
   {
    "duration": 295,
    "start_time": "2024-05-03T11:21:49.485Z"
   },
   {
    "duration": 166,
    "start_time": "2024-05-03T11:21:49.782Z"
   },
   {
    "duration": 1012,
    "start_time": "2024-05-03T11:21:49.949Z"
   },
   {
    "duration": 496,
    "start_time": "2024-05-03T11:21:50.963Z"
   },
   {
    "duration": 6255,
    "start_time": "2024-05-03T11:21:51.461Z"
   },
   {
    "duration": 952,
    "start_time": "2024-05-03T11:21:57.717Z"
   },
   {
    "duration": 12652,
    "start_time": "2024-05-03T11:21:58.671Z"
   },
   {
    "duration": 259,
    "start_time": "2024-05-03T11:22:11.324Z"
   },
   {
    "duration": 94,
    "start_time": "2024-05-03T11:22:11.585Z"
   },
   {
    "duration": 420,
    "start_time": "2024-05-03T11:22:11.681Z"
   },
   {
    "duration": 760,
    "start_time": "2024-05-03T11:22:12.103Z"
   },
   {
    "duration": 68,
    "start_time": "2024-05-03T11:22:22.862Z"
   },
   {
    "duration": 164,
    "start_time": "2024-05-03T11:22:23.365Z"
   },
   {
    "duration": 244,
    "start_time": "2024-05-03T11:22:23.832Z"
   },
   {
    "duration": 154,
    "start_time": "2024-05-03T11:22:24.388Z"
   },
   {
    "duration": 61,
    "start_time": "2024-05-03T11:22:24.654Z"
   },
   {
    "duration": 97,
    "start_time": "2024-05-03T11:22:25.107Z"
   },
   {
    "duration": 389,
    "start_time": "2024-05-03T11:22:25.392Z"
   },
   {
    "duration": 137,
    "start_time": "2024-05-03T11:22:25.794Z"
   },
   {
    "duration": 6,
    "start_time": "2024-05-03T11:22:26.865Z"
   },
   {
    "duration": 3,
    "start_time": "2024-05-03T11:22:27.695Z"
   },
   {
    "duration": 4,
    "start_time": "2024-05-03T11:22:28.363Z"
   },
   {
    "duration": 30,
    "start_time": "2024-05-03T11:22:29.009Z"
   },
   {
    "duration": 156,
    "start_time": "2024-05-03T11:22:30.519Z"
   },
   {
    "duration": 214,
    "start_time": "2024-05-03T11:22:50.366Z"
   },
   {
    "duration": 93,
    "start_time": "2024-05-03T11:26:00.197Z"
   },
   {
    "duration": 308,
    "start_time": "2024-05-03T11:26:05.897Z"
   },
   {
    "duration": 396,
    "start_time": "2024-05-03T11:28:20.870Z"
   },
   {
    "duration": 372,
    "start_time": "2024-05-03T11:28:47.003Z"
   },
   {
    "duration": 385,
    "start_time": "2024-05-03T11:28:57.386Z"
   },
   {
    "duration": 621,
    "start_time": "2024-05-03T11:29:43.467Z"
   },
   {
    "duration": 625,
    "start_time": "2024-05-03T11:31:10.791Z"
   },
   {
    "duration": 781,
    "start_time": "2024-05-03T11:33:02.463Z"
   },
   {
    "duration": 648,
    "start_time": "2024-05-03T11:33:54.738Z"
   },
   {
    "duration": 5,
    "start_time": "2024-05-03T12:04:31.076Z"
   },
   {
    "duration": 5,
    "start_time": "2024-05-03T12:04:33.974Z"
   },
   {
    "duration": 50,
    "start_time": "2024-05-03T12:05:34.540Z"
   },
   {
    "duration": 4,
    "start_time": "2024-05-03T12:33:13.881Z"
   },
   {
    "duration": 4,
    "start_time": "2024-05-03T12:33:23.943Z"
   },
   {
    "duration": 222,
    "start_time": "2024-05-03T12:33:23.971Z"
   },
   {
    "duration": 41,
    "start_time": "2024-05-03T12:33:24.195Z"
   },
   {
    "duration": 44,
    "start_time": "2024-05-03T12:33:24.238Z"
   },
   {
    "duration": 51,
    "start_time": "2024-05-03T12:33:24.472Z"
   },
   {
    "duration": 295,
    "start_time": "2024-05-03T12:33:26.095Z"
   },
   {
    "duration": 157,
    "start_time": "2024-05-03T12:33:26.515Z"
   },
   {
    "duration": 1664,
    "start_time": "2024-05-03T12:35:26.914Z"
   },
   {
    "duration": 524,
    "start_time": "2024-05-03T12:37:23.943Z"
   },
   {
    "duration": 503,
    "start_time": "2024-05-03T12:38:52.666Z"
   },
   {
    "duration": 672,
    "start_time": "2024-05-03T12:39:08.632Z"
   },
   {
    "duration": 12904,
    "start_time": "2024-05-03T12:39:16.146Z"
   },
   {
    "duration": 279,
    "start_time": "2024-05-03T12:39:29.052Z"
   },
   {
    "duration": 104,
    "start_time": "2024-05-03T12:39:34.765Z"
   },
   {
    "duration": 444,
    "start_time": "2024-05-03T12:39:35.812Z"
   },
   {
    "duration": 810,
    "start_time": "2024-05-03T12:39:38.883Z"
   },
   {
    "duration": 63,
    "start_time": "2024-05-03T12:39:40.540Z"
   },
   {
    "duration": 165,
    "start_time": "2024-05-03T12:39:42.333Z"
   },
   {
    "duration": 255,
    "start_time": "2024-05-03T12:39:44.377Z"
   },
   {
    "duration": 158,
    "start_time": "2024-05-03T12:39:48.192Z"
   },
   {
    "duration": 54,
    "start_time": "2024-05-03T12:39:58.264Z"
   },
   {
    "duration": 92,
    "start_time": "2024-05-03T12:39:59.391Z"
   },
   {
    "duration": 442,
    "start_time": "2024-05-03T12:40:01.088Z"
   },
   {
    "duration": 7,
    "start_time": "2024-05-03T12:40:14.878Z"
   },
   {
    "duration": 3,
    "start_time": "2024-05-03T12:40:16.634Z"
   },
   {
    "duration": 5,
    "start_time": "2024-05-03T12:40:17.040Z"
   },
   {
    "duration": 55,
    "start_time": "2024-05-03T12:40:18.241Z"
   },
   {
    "duration": 165,
    "start_time": "2024-05-03T12:40:20.937Z"
   },
   {
    "duration": 24,
    "start_time": "2024-05-03T12:40:23.273Z"
   },
   {
    "duration": 3,
    "start_time": "2024-05-03T12:40:24.777Z"
   },
   {
    "duration": 51,
    "start_time": "2024-05-03T12:40:25.877Z"
   },
   {
    "duration": 130,
    "start_time": "2024-05-03T12:40:27.895Z"
   },
   {
    "duration": 1877,
    "start_time": "2024-05-03T12:40:30.683Z"
   },
   {
    "duration": 4,
    "start_time": "2024-05-03T12:40:33.496Z"
   },
   {
    "duration": 6,
    "start_time": "2024-05-03T12:40:43.316Z"
   },
   {
    "duration": 343887,
    "start_time": "2024-05-03T12:41:47.336Z"
   },
   {
    "duration": 55,
    "start_time": "2024-05-03T12:47:31.225Z"
   },
   {
    "duration": 353240,
    "start_time": "2024-05-03T12:47:50.782Z"
   },
   {
    "duration": 50,
    "start_time": "2024-05-03T12:53:44.024Z"
   },
   {
    "duration": 145,
    "start_time": "2024-05-03T12:56:25.094Z"
   },
   {
    "duration": 4,
    "start_time": "2024-05-03T12:56:35.987Z"
   },
   {
    "duration": 54,
    "start_time": "2024-05-03T12:56:41.892Z"
   },
   {
    "duration": 55,
    "start_time": "2024-05-03T12:58:38.876Z"
   },
   {
    "duration": 11,
    "start_time": "2024-05-03T13:04:25.476Z"
   },
   {
    "duration": 111,
    "start_time": "2024-05-03T13:05:05.020Z"
   },
   {
    "duration": 3,
    "start_time": "2024-05-03T13:05:13.233Z"
   },
   {
    "duration": 5,
    "start_time": "2024-05-03T13:05:20.654Z"
   },
   {
    "duration": 143,
    "start_time": "2024-05-03T13:05:41.395Z"
   },
   {
    "duration": 3950,
    "start_time": "2024-05-03T21:16:57.957Z"
   },
   {
    "duration": 9246,
    "start_time": "2024-05-03T21:17:01.910Z"
   },
   {
    "duration": 41,
    "start_time": "2024-05-03T21:17:11.158Z"
   },
   {
    "duration": 12,
    "start_time": "2024-05-03T21:17:11.200Z"
   },
   {
    "duration": 15,
    "start_time": "2024-05-03T21:17:11.214Z"
   },
   {
    "duration": 22,
    "start_time": "2024-05-03T21:17:11.230Z"
   },
   {
    "duration": 277,
    "start_time": "2024-05-03T21:17:11.254Z"
   },
   {
    "duration": 174,
    "start_time": "2024-05-03T21:17:11.533Z"
   },
   {
    "duration": 1082,
    "start_time": "2024-05-03T21:17:11.709Z"
   },
   {
    "duration": 494,
    "start_time": "2024-05-03T21:17:12.793Z"
   },
   {
    "duration": 5958,
    "start_time": "2024-05-03T21:17:13.288Z"
   },
   {
    "duration": 674,
    "start_time": "2024-05-03T21:17:19.247Z"
   },
   {
    "duration": 16464,
    "start_time": "2024-05-03T21:17:19.922Z"
   },
   {
    "duration": 251,
    "start_time": "2024-05-03T21:17:36.393Z"
   },
   {
    "duration": 110,
    "start_time": "2024-05-03T21:17:36.645Z"
   },
   {
    "duration": 436,
    "start_time": "2024-05-03T21:17:36.757Z"
   },
   {
    "duration": 784,
    "start_time": "2024-05-03T21:17:37.195Z"
   },
   {
    "duration": 74,
    "start_time": "2024-05-03T21:17:37.980Z"
   },
   {
    "duration": 188,
    "start_time": "2024-05-03T21:17:38.056Z"
   },
   {
    "duration": 262,
    "start_time": "2024-05-03T21:17:38.245Z"
   },
   {
    "duration": 166,
    "start_time": "2024-05-03T21:17:38.508Z"
   },
   {
    "duration": 72,
    "start_time": "2024-05-03T21:17:38.676Z"
   },
   {
    "duration": 109,
    "start_time": "2024-05-03T21:17:38.751Z"
   },
   {
    "duration": 417,
    "start_time": "2024-05-03T21:17:38.862Z"
   },
   {
    "duration": 14,
    "start_time": "2024-05-03T21:17:39.280Z"
   },
   {
    "duration": 4,
    "start_time": "2024-05-03T21:17:39.295Z"
   },
   {
    "duration": 46,
    "start_time": "2024-05-03T21:17:39.300Z"
   },
   {
    "duration": 96,
    "start_time": "2024-05-03T21:17:39.347Z"
   },
   {
    "duration": 150,
    "start_time": "2024-05-03T21:17:39.444Z"
   },
   {
    "duration": 23,
    "start_time": "2024-05-03T21:17:39.595Z"
   },
   {
    "duration": 3,
    "start_time": "2024-05-03T21:17:39.619Z"
   },
   {
    "duration": 233,
    "start_time": "2024-05-03T21:17:39.623Z"
   },
   {
    "duration": 140,
    "start_time": "2024-05-03T21:17:39.858Z"
   },
   {
    "duration": 1854,
    "start_time": "2024-05-03T21:17:39.999Z"
   },
   {
    "duration": 5,
    "start_time": "2024-05-03T21:17:41.855Z"
   },
   {
    "duration": 16,
    "start_time": "2024-05-03T21:17:41.861Z"
   },
   {
    "duration": 2424,
    "start_time": "2024-05-04T11:58:14.992Z"
   },
   {
    "duration": 4300,
    "start_time": "2024-05-04T11:58:19.072Z"
   },
   {
    "duration": 220,
    "start_time": "2024-05-04T11:58:23.373Z"
   },
   {
    "duration": 43,
    "start_time": "2024-05-04T11:58:23.822Z"
   },
   {
    "duration": 45,
    "start_time": "2024-05-04T11:58:24.416Z"
   },
   {
    "duration": 53,
    "start_time": "2024-05-04T11:58:25.120Z"
   },
   {
    "duration": 297,
    "start_time": "2024-05-04T11:58:27.393Z"
   },
   {
    "duration": 225,
    "start_time": "2024-05-04T12:03:28.591Z"
   },
   {
    "duration": 99,
    "start_time": "2024-05-04T12:04:56.524Z"
   },
   {
    "duration": 104,
    "start_time": "2024-05-04T12:05:10.271Z"
   },
   {
    "duration": 109,
    "start_time": "2024-05-04T12:05:21.998Z"
   },
   {
    "duration": 124,
    "start_time": "2024-05-04T12:06:14.333Z"
   },
   {
    "duration": 104,
    "start_time": "2024-05-04T12:06:18.608Z"
   },
   {
    "duration": 109,
    "start_time": "2024-05-04T12:06:24.693Z"
   },
   {
    "duration": 103,
    "start_time": "2024-05-04T12:07:25.019Z"
   },
   {
    "duration": 97,
    "start_time": "2024-05-04T12:07:30.451Z"
   },
   {
    "duration": 92,
    "start_time": "2024-05-04T12:07:44.553Z"
   },
   {
    "duration": 309,
    "start_time": "2024-05-04T12:07:49.180Z"
   },
   {
    "duration": 344,
    "start_time": "2024-05-04T12:08:03.228Z"
   },
   {
    "duration": 190,
    "start_time": "2024-05-04T12:08:09.846Z"
   },
   {
    "duration": 249,
    "start_time": "2024-05-04T12:08:46.064Z"
   },
   {
    "duration": 350,
    "start_time": "2024-05-04T12:09:08.830Z"
   },
   {
    "duration": 332,
    "start_time": "2024-05-04T12:09:23.791Z"
   },
   {
    "duration": 353,
    "start_time": "2024-05-04T12:09:53.932Z"
   },
   {
    "duration": 280,
    "start_time": "2024-05-04T12:10:02.370Z"
   },
   {
    "duration": 160,
    "start_time": "2024-05-04T12:11:20.024Z"
   },
   {
    "duration": 2272,
    "start_time": "2024-05-04T15:20:51.651Z"
   },
   {
    "duration": 4638,
    "start_time": "2024-05-04T15:20:53.925Z"
   },
   {
    "duration": 219,
    "start_time": "2024-05-04T15:20:58.565Z"
   },
   {
    "duration": 42,
    "start_time": "2024-05-04T15:20:58.786Z"
   },
   {
    "duration": 44,
    "start_time": "2024-05-04T15:20:58.830Z"
   },
   {
    "duration": 51,
    "start_time": "2024-05-04T15:20:58.875Z"
   },
   {
    "duration": 348,
    "start_time": "2024-05-04T15:21:03.462Z"
   },
   {
    "duration": 167,
    "start_time": "2024-05-04T15:21:03.812Z"
   },
   {
    "duration": 5,
    "start_time": "2024-05-04T15:21:51.867Z"
   },
   {
    "duration": 11,
    "start_time": "2024-05-04T15:22:09.031Z"
   },
   {
    "duration": 2,
    "start_time": "2024-05-04T15:24:41.550Z"
   },
   {
    "duration": 159,
    "start_time": "2024-05-04T15:24:42.253Z"
   },
   {
    "duration": 342,
    "start_time": "2024-05-04T15:28:25.877Z"
   },
   {
    "duration": 345,
    "start_time": "2024-05-04T15:28:35.813Z"
   },
   {
    "duration": 273,
    "start_time": "2024-05-04T15:28:50.857Z"
   },
   {
    "duration": 676,
    "start_time": "2024-05-04T15:33:59.985Z"
   },
   {
    "duration": 4732,
    "start_time": "2024-05-04T15:34:35.130Z"
   },
   {
    "duration": 90,
    "start_time": "2024-05-04T15:38:54.540Z"
   },
   {
    "duration": 10367,
    "start_time": "2024-05-04T15:40:06.646Z"
   },
   {
    "duration": 95,
    "start_time": "2024-05-04T15:42:38.348Z"
   },
   {
    "duration": 20189,
    "start_time": "2024-05-04T15:43:37.647Z"
   },
   {
    "duration": 10446,
    "start_time": "2024-05-04T15:53:22.071Z"
   },
   {
    "duration": 80,
    "start_time": "2024-05-04T15:53:39.401Z"
   },
   {
    "duration": 154,
    "start_time": "2024-05-04T15:54:02.621Z"
   },
   {
    "duration": 302,
    "start_time": "2024-05-04T15:54:06.599Z"
   },
   {
    "duration": 31,
    "start_time": "2024-05-04T15:54:19.884Z"
   },
   {
    "duration": 77,
    "start_time": "2024-05-04T15:54:22.162Z"
   },
   {
    "duration": 9416,
    "start_time": "2024-05-04T15:55:25.122Z"
   },
   {
    "duration": 95,
    "start_time": "2024-05-04T15:55:38.295Z"
   },
   {
    "duration": 168,
    "start_time": "2024-05-04T15:55:45.635Z"
   },
   {
    "duration": 311,
    "start_time": "2024-05-04T15:55:47.192Z"
   },
   {
    "duration": 28,
    "start_time": "2024-05-04T15:55:48.031Z"
   },
   {
    "duration": 82,
    "start_time": "2024-05-04T15:55:49.582Z"
   },
   {
    "duration": 113,
    "start_time": "2024-05-04T15:57:17.080Z"
   },
   {
    "duration": 80,
    "start_time": "2024-05-04T15:57:40.001Z"
   },
   {
    "duration": 26,
    "start_time": "2024-05-04T15:57:52.302Z"
   },
   {
    "duration": 41,
    "start_time": "2024-05-04T15:58:49.308Z"
   },
   {
    "duration": 225,
    "start_time": "2024-05-04T15:59:11.466Z"
   },
   {
    "duration": 6,
    "start_time": "2024-05-04T15:59:44.241Z"
   },
   {
    "duration": 3,
    "start_time": "2024-05-04T16:00:43.482Z"
   },
   {
    "duration": 4,
    "start_time": "2024-05-04T16:00:43.706Z"
   },
   {
    "duration": 3,
    "start_time": "2024-05-04T16:01:53.291Z"
   },
   {
    "duration": 5,
    "start_time": "2024-05-04T16:01:54.231Z"
   },
   {
    "duration": 17,
    "start_time": "2024-05-04T16:02:03.034Z"
   },
   {
    "duration": 158,
    "start_time": "2024-05-04T16:02:06.350Z"
   },
   {
    "duration": 25,
    "start_time": "2024-05-04T16:02:10.316Z"
   },
   {
    "duration": 2,
    "start_time": "2024-05-04T16:02:15.662Z"
   },
   {
    "duration": 46,
    "start_time": "2024-05-04T16:02:17.864Z"
   },
   {
    "duration": 56,
    "start_time": "2024-05-04T16:02:21.704Z"
   },
   {
    "duration": 856,
    "start_time": "2024-05-04T16:02:28.282Z"
   },
   {
    "duration": 5,
    "start_time": "2024-05-04T16:02:44.554Z"
   },
   {
    "duration": 3,
    "start_time": "2024-05-04T16:02:56.298Z"
   },
   {
    "duration": 675966,
    "start_time": "2024-05-04T16:03:00.128Z"
   },
   {
    "duration": 92938,
    "start_time": "2024-05-04T16:14:54.442Z"
   },
   {
    "duration": 5,
    "start_time": "2024-05-04T16:16:47.762Z"
   },
   {
    "duration": 224028,
    "start_time": "2024-05-04T16:16:48.980Z"
   },
   {
    "duration": 77,
    "start_time": "2024-05-04T16:20:33.010Z"
   },
   {
    "duration": 7,
    "start_time": "2024-05-04T16:24:02.305Z"
   },
   {
    "duration": 2026160,
    "start_time": "2024-05-04T16:24:03.351Z"
   },
   {
    "duration": 195127,
    "start_time": "2024-05-04T16:58:29.985Z"
   },
   {
    "duration": 78,
    "start_time": "2024-05-04T17:01:45.114Z"
   },
   {
    "duration": 32,
    "start_time": "2024-05-04T17:01:53.828Z"
   },
   {
    "duration": 31,
    "start_time": "2024-05-04T17:01:55.255Z"
   },
   {
    "duration": 42,
    "start_time": "2024-05-04T17:01:56.224Z"
   },
   {
    "duration": 172684,
    "start_time": "2024-05-04T17:02:03.446Z"
   },
   {
    "duration": 71,
    "start_time": "2024-05-04T17:04:56.132Z"
   },
   {
    "duration": 264604,
    "start_time": "2024-05-04T17:05:07.320Z"
   },
   {
    "duration": 32,
    "start_time": "2024-05-04T17:09:36.018Z"
   },
   {
    "duration": 36,
    "start_time": "2024-05-04T17:10:20.125Z"
   },
   {
    "duration": 168,
    "start_time": "2024-05-04T17:10:23.029Z"
   },
   {
    "duration": 9,
    "start_time": "2024-05-04T17:10:28.516Z"
   },
   {
    "duration": 213,
    "start_time": "2024-05-04T17:10:32.712Z"
   },
   {
    "duration": 56,
    "start_time": "2024-05-04T17:18:00.329Z"
   },
   {
    "duration": 718,
    "start_time": "2024-05-04T17:18:01.256Z"
   },
   {
    "duration": 1841,
    "start_time": "2024-05-05T18:28:00.144Z"
   },
   {
    "duration": 4207,
    "start_time": "2024-05-05T18:28:03.619Z"
   },
   {
    "duration": 224,
    "start_time": "2024-05-05T18:28:07.827Z"
   },
   {
    "duration": 41,
    "start_time": "2024-05-05T18:28:08.052Z"
   },
   {
    "duration": 43,
    "start_time": "2024-05-05T18:28:08.412Z"
   },
   {
    "duration": 47,
    "start_time": "2024-05-05T18:28:09.699Z"
   },
   {
    "duration": 335,
    "start_time": "2024-05-05T18:28:14.119Z"
   },
   {
    "duration": 199,
    "start_time": "2024-05-05T18:28:14.961Z"
   },
   {
    "duration": 987,
    "start_time": "2024-05-05T18:28:29.732Z"
   },
   {
    "duration": 537,
    "start_time": "2024-05-05T18:28:30.813Z"
   },
   {
    "duration": 5097,
    "start_time": "2024-05-05T18:28:33.181Z"
   },
   {
    "duration": 4643,
    "start_time": "2024-05-05T18:28:38.280Z"
   },
   {
    "duration": 9158,
    "start_time": "2024-05-05T18:30:36.377Z"
   },
   {
    "duration": 45,
    "start_time": "2024-05-05T18:30:49.940Z"
   },
   {
    "duration": 78,
    "start_time": "2024-05-05T18:31:36.283Z"
   },
   {
    "duration": 127,
    "start_time": "2024-05-05T18:32:34.172Z"
   },
   {
    "duration": 15,
    "start_time": "2024-05-05T18:32:36.047Z"
   },
   {
    "duration": 38,
    "start_time": "2024-05-05T18:32:37.295Z"
   },
   {
    "duration": 795,
    "start_time": "2024-05-05T18:32:38.768Z"
   },
   {
    "duration": 33,
    "start_time": "2024-05-05T18:32:39.914Z"
   },
   {
    "duration": 10,
    "start_time": "2024-05-05T18:32:40.698Z"
   },
   {
    "duration": 22,
    "start_time": "2024-05-05T18:32:41.412Z"
   },
   {
    "duration": 634,
    "start_time": "2024-05-05T18:32:42.247Z"
   },
   {
    "duration": 96,
    "start_time": "2024-05-05T18:32:59.525Z"
   },
   {
    "duration": 5,
    "start_time": "2024-05-05T18:33:05.644Z"
   },
   {
    "duration": 2,
    "start_time": "2024-05-05T18:33:20.863Z"
   },
   {
    "duration": 4,
    "start_time": "2024-05-05T18:33:22.355Z"
   },
   {
    "duration": 9,
    "start_time": "2024-05-05T18:33:28.241Z"
   },
   {
    "duration": 122,
    "start_time": "2024-05-05T18:33:33.565Z"
   },
   {
    "duration": 17,
    "start_time": "2024-05-05T18:33:37.892Z"
   },
   {
    "duration": 2,
    "start_time": "2024-05-05T18:33:39.356Z"
   },
   {
    "duration": 29,
    "start_time": "2024-05-05T18:33:41.108Z"
   },
   {
    "duration": 18,
    "start_time": "2024-05-05T18:35:30.583Z"
   },
   {
    "duration": 394,
    "start_time": "2024-05-05T18:37:07.848Z"
   },
   {
    "duration": 3,
    "start_time": "2024-05-05T18:37:29.010Z"
   },
   {
    "duration": 2,
    "start_time": "2024-05-05T18:37:33.689Z"
   },
   {
    "duration": 11,
    "start_time": "2024-05-05T18:52:02.301Z"
   },
   {
    "duration": 10,
    "start_time": "2024-05-05T19:02:33.289Z"
   },
   {
    "duration": 9,
    "start_time": "2024-05-05T19:03:15.397Z"
   },
   {
    "duration": 4,
    "start_time": "2024-05-05T19:03:41.904Z"
   },
   {
    "duration": 2,
    "start_time": "2024-05-05T19:03:45.913Z"
   },
   {
    "duration": 9,
    "start_time": "2024-05-05T19:03:48.767Z"
   },
   {
    "duration": 9,
    "start_time": "2024-05-05T19:03:56.580Z"
   },
   {
    "duration": 10,
    "start_time": "2024-05-05T19:05:35.730Z"
   },
   {
    "duration": 44565,
    "start_time": "2024-05-05T19:05:51.545Z"
   },
   {
    "duration": 15080,
    "start_time": "2024-05-05T19:06:39.534Z"
   },
   {
    "duration": 474684,
    "start_time": "2024-05-05T19:06:56.217Z"
   },
   {
    "duration": 85277,
    "start_time": "2024-05-05T19:15:20.692Z"
   },
   {
    "duration": 4,
    "start_time": "2024-05-05T19:17:10.929Z"
   },
   {
    "duration": 15856,
    "start_time": "2024-05-05T19:17:15.560Z"
   },
   {
    "duration": 136345,
    "start_time": "2024-05-05T19:17:38.469Z"
   },
   {
    "duration": 12,
    "start_time": "2024-05-05T19:21:18.877Z"
   },
   {
    "duration": 39,
    "start_time": "2024-05-05T19:21:33.370Z"
   },
   {
    "duration": 118,
    "start_time": "2024-05-05T19:25:20.272Z"
   },
   {
    "duration": 100,
    "start_time": "2024-05-05T19:25:34.750Z"
   },
   {
    "duration": 14,
    "start_time": "2024-05-05T19:25:40.748Z"
   },
   {
    "duration": 104,
    "start_time": "2024-05-05T19:26:08.900Z"
   },
   {
    "duration": 15,
    "start_time": "2024-05-05T19:26:29.567Z"
   },
   {
    "duration": 115,
    "start_time": "2024-05-05T19:26:36.565Z"
   },
   {
    "duration": 15,
    "start_time": "2024-05-05T19:29:44.933Z"
   },
   {
    "duration": 11,
    "start_time": "2024-05-05T19:30:09.348Z"
   },
   {
    "duration": 10,
    "start_time": "2024-05-05T19:30:34.400Z"
   },
   {
    "duration": 16,
    "start_time": "2024-05-05T19:31:31.057Z"
   },
   {
    "duration": 4,
    "start_time": "2024-05-05T19:31:37.295Z"
   },
   {
    "duration": 4,
    "start_time": "2024-05-05T19:31:40.726Z"
   },
   {
    "duration": 1019,
    "start_time": "2024-05-05T19:31:45.370Z"
   },
   {
    "duration": 233,
    "start_time": "2024-05-05T19:36:30.006Z"
   },
   {
    "duration": 20,
    "start_time": "2024-05-05T19:41:40.322Z"
   },
   {
    "duration": 504,
    "start_time": "2024-05-05T19:41:41.306Z"
   },
   {
    "duration": 250,
    "start_time": "2024-05-05T19:43:23.880Z"
   },
   {
    "duration": 10607,
    "start_time": "2024-05-05T19:43:46.361Z"
   },
   {
    "duration": 45,
    "start_time": "2024-05-05T19:43:56.969Z"
   },
   {
    "duration": 88,
    "start_time": "2024-05-05T19:43:57.016Z"
   },
   {
    "duration": 174,
    "start_time": "2024-05-05T19:43:57.106Z"
   },
   {
    "duration": 20,
    "start_time": "2024-05-05T19:43:57.281Z"
   },
   {
    "duration": 37,
    "start_time": "2024-05-05T19:43:57.303Z"
   },
   {
    "duration": 44,
    "start_time": "2024-05-05T19:43:57.342Z"
   }
  ],
  "colab": {
   "provenance": [],
   "toc_visible": true
  },
  "kernelspec": {
   "display_name": "Python 3 (ipykernel)",
   "language": "python",
   "name": "python3"
  },
  "language_info": {
   "codemirror_mode": {
    "name": "ipython",
    "version": 3
   },
   "file_extension": ".py",
   "mimetype": "text/x-python",
   "name": "python",
   "nbconvert_exporter": "python",
   "pygments_lexer": "ipython3",
   "version": "3.11.7"
  },
  "toc": {
   "base_numbering": 1,
   "nav_menu": {},
   "number_sections": false,
   "sideBar": true,
   "skip_h1_title": false,
   "title_cell": "Table of Contents",
   "title_sidebar": "Contents",
   "toc_cell": false,
   "toc_position": {
    "height": "calc(100% - 180px)",
    "left": "10px",
    "top": "150px",
    "width": "165px"
   },
   "toc_section_display": true,
   "toc_window_display": true
  },
  "varInspector": {
   "cols": {
    "lenName": 16,
    "lenType": 16,
    "lenVar": 40
   },
   "kernels_config": {
    "python": {
     "delete_cmd_postfix": "",
     "delete_cmd_prefix": "del ",
     "library": "var_list.py",
     "varRefreshCmd": "print(var_dic_list())"
    },
    "r": {
     "delete_cmd_postfix": ") ",
     "delete_cmd_prefix": "rm(",
     "library": "var_list.r",
     "varRefreshCmd": "cat(var_dic_list()) "
    }
   },
   "types_to_exclude": [
    "module",
    "function",
    "builtin_function_or_method",
    "instance",
    "_Feature"
   ],
   "window_display": false
  }
 },
 "nbformat": 4,
 "nbformat_minor": 5
}
